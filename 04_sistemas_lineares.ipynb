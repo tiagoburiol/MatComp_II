{
 "cells": [
  {
   "cell_type": "markdown",
   "metadata": {},
   "source": [
    "*Contribuição do prof Leonardo Guerini*\n",
    "\n",
    "# Sistemas Lineares e matrizes\n",
    "\n",
    "Muitas situações em ciência e engenharia envolvem a resolução de sistemas de equações lineares: \n",
    "- cálculo de correntes num circuito elétrico; \n",
    "- distribuição das tensões e deformações em uma estrutura rígida;\n",
    "- balanceamento de equações químicas. \n",
    "\n",
    "Estudar os sistemas lineares, portanto, é fundamental em muitos contextos.\n",
    "\n",
    "Aqui, abordaremos alguns métodos para a resolução de sistemas lineares.\n",
    "\n",
    "<br>\n",
    "\n",
    "***\n",
    "<br>\n",
    "\n",
    "\n",
    "Considere o sistema \n",
    "\n",
    "$$\\begin{cases} \n",
    "\t         a_{11}x_1 +a_{12}x_2 + \\cdots + a_{1n}x_n = b_1\\\\ \n",
    "\t         a_{21}x_1 +a_{22}x_2 + \\cdots + a_{2n}x_n = b_2\\\\\n",
    "\t         \\vdots   \\\\\n",
    "\t         a_{n1}x_1 +a_{n2}x_2 + \\cdots + a_{nn}x_n = b_1\\\\\n",
    "             \\end{cases},$$\n",
    "\n",
    "que também pode ser descrito como a equação matricial\n",
    "\n",
    "$$\\left[\\begin{array}{cccc} \n",
    "\t         a_{11} & a_{12} & \\cdots & a_{1n} \\\\ \n",
    "\t         a_{21} & a_{22} & \\cdots & a_{2n} \\\\\n",
    "\t         \\vdots & \\vdots & \\vdots & \\vdots \\\\\n",
    "\t         a_{n1} & a_{n2} & \\cdots & a_{nn} \\\\\n",
    "\t         \\end{array} \\right]\n",
    "\\left[\\begin{array}{c} \n",
    "\t         x_1 \\\\ \n",
    "\t         x_2 \\\\\n",
    "             \\vdots\\\\\n",
    "\t         x_n \\\\\n",
    "\t         \\end{array} \\right]\n",
    "=\n",
    "\\left[\\begin{array}{c} \n",
    "\t         b_1 \\\\ \n",
    "\t         b_2 \\\\\n",
    "             \\vdots\\\\\n",
    "\t         b_n \\\\\n",
    "\t         \\end{array} \\right].$$\n",
    "\n",
    "Denotando: \n",
    "- $A= (a_{ij})$, com $i,j=1,..,n$, (a matriz dos coeficientes);\n",
    "- $x=(x_1, x_2, ..., x_n)$ (o vetor de incógnitas); e \n",
    "- $b=(b_1, b_2,...,b_n)$ (o vetor de termos independentes),\n",
    "\n",
    "obtemos a equação\n",
    "\n",
    "$$Ax=b.$$\n",
    "\n",
    "<br>\n",
    "\n",
    "> **Resolver o sistema dado, consiste em encontrar o vetor solução $\\overline x=(\\overline x_1, \\overline x_2,..., \\overline x_n)$ que satisfaça todas as equações <u>simultaneamente</u>.**\n",
    "\n",
    "<br>\n",
    "\n",
    "***\n",
    "<br>"
   ]
  },
  {
   "cell_type": "markdown",
   "metadata": {},
   "source": [
    "# Interpretração geométrica de sistemas lineares \n",
    "\n",
    "<br>\n",
    "\n",
    "Toda equação linear corresponde a um **objeto geométrico**, que depende do número de **variáveis** presentes na equação:\n",
    "\n",
    "\\begin{align}\n",
    "&x + 2y = 4 \\quad \\quad &\\rightsquigarrow \\quad \\quad &\\text{2 variáveis}\\quad \\quad &\\rightsquigarrow \\quad \\quad &\\text{reta} \\\\\\\\\n",
    "&3x - y - 5z = 6 \\quad \\quad &\\rightsquigarrow \\quad \\quad &\\text{3 variáveis}\\quad \\quad &\\rightsquigarrow \\quad \\quad &\\text{plano} \\\\\\\\\n",
    "&-2x_1 + 2x_2 -9x_3 + 4x_4 = 4 \\quad \\quad &\\rightsquigarrow \\quad \\quad &\\text{4 variáveis}\\quad \\quad &\\rightsquigarrow \\quad \\quad &\\text{hiperplano} \\\\\\\\\n",
    "&\\quad\\quad\\vdots&& \\\\\\\\\n",
    "&x_1 + 3x_2 -16x_3 + 5x_4 + ... + 2x_8 = 13 \\quad \\quad &\\rightsquigarrow \\quad \\quad &\\text{8 variáveis}\\quad \\quad &\\rightsquigarrow \\quad \\quad &\\text{hiperplano}\\\\\\\\\n",
    "&\\quad\\quad\\vdots&&\n",
    "\\end{align}\n",
    "\n",
    "<br>\n",
    "\n",
    "> Portanto, uma solução para um sistema de equações lineares é um ponto que pertence a todos os objetos descritos pelas equações, isto é, **um ponto de interseção de todas as retas/planos/hiperplanos presentes no sistema**. \n",
    "\n",
    "<br><br>\n",
    "\n",
    "### Exemplo 1: <br>\n",
    "Considere o sistema\n",
    " \n",
    "$$\\begin{cases} \n",
    "-x + 3y = 2\\\\\n",
    "x + y = 5\n",
    "\\end{cases}. $$\n",
    "\n",
    "Geometricamente, o sistema representa duas retas do $\\mathbb R^2$. Assim, seu conjunto solução é o conjunto de todos os pontos de interseção dessas retas. \n",
    "Se as retas forem paralelas, o sistemas não terá solução.\n",
    "Se as retas forem coincidentes, o sistema terá infinitas soluções.\n",
    "\n",
    "<br><br>\n",
    "\n",
    "Vamos usar a biblioteca gráfica MatPlotLib para plotar essas retas e verificar o número de soluções do sistema:"
   ]
  },
  {
   "cell_type": "code",
   "execution_count": 1,
   "metadata": {},
   "outputs": [
    {
     "data": {
      "image/png": "[encoded data removed]",
      "text/plain": [
       "<Figure size 432x288 with 1 Axes>"
      ]
     },
     "metadata": {
      "needs_background": "light"
     },
     "output_type": "display_data"
    }
   ],
   "source": [
    "import matplotlib.pyplot as plt\n",
    "import numpy as np\n",
    "\n",
    "# escreva aqui o que a linha abaixo faz\n",
    "x1 = np.linspace(-10, 10, 200)\n",
    "\n",
    "# escreva aqui o que a linha abaixo faz\n",
    "y1 = (2 + x1)/3\n",
    "\n",
    "# escreva aqui o que a linha abaixo faz\n",
    "x2 = np.linspace(-10, 10, 200)\n",
    "\n",
    "# escreva aqui o que a linha abaixo faz\n",
    "y2 = 5 - x2\n",
    "\n",
    "plt.plot(x1, y1, '--', color='blue')\n",
    "plt.plot(x2, y2, '-.', color='red')\n",
    "plt.show()"
   ]
  },
  {
   "cell_type": "markdown",
   "metadata": {},
   "source": [
    "Assim, vemos que o sistema tem uma **única solução**, pois há um único ponto de interseção das retas.\n",
    "\n",
    "<br>\n",
    "\n",
    "***\n",
    "\n",
    "### Exercício 1: <br>\n",
    "\n",
    "Plote os gráficos dos sistemas abaixo e escreva o número de soluções de cada um. \n",
    "\n",
    "<br>\n",
    "\n",
    "(a) $\\begin{cases} \n",
    "2x + \\frac 32 y = 2\\\\\n",
    "-4x -3y = 3\n",
    "\\end{cases}. $"
   ]
  },
  {
   "cell_type": "code",
   "execution_count": 2,
   "metadata": {},
   "outputs": [],
   "source": [
    "# resolva aqui"
   ]
  },
  {
   "cell_type": "markdown",
   "metadata": {},
   "source": [
    "**Conclusão:** COMPLETE. "
   ]
  },
  {
   "cell_type": "markdown",
   "metadata": {},
   "source": [
    "<br>\n",
    "\n",
    "(b) $\\begin{cases} \n",
    "2x + \\frac 32 y = 2\\\\\n",
    "3x -5y = 2\n",
    "\\end{cases}. $"
   ]
  },
  {
   "cell_type": "code",
   "execution_count": 3,
   "metadata": {},
   "outputs": [],
   "source": [
    "# resolva aqui"
   ]
  },
  {
   "cell_type": "markdown",
   "metadata": {},
   "source": [
    "**Conclusão:** COMPLETE. "
   ]
  },
  {
   "cell_type": "markdown",
   "metadata": {},
   "source": [
    "<br>\n",
    "\n",
    "(c) $\\begin{cases} \n",
    "3x + \\frac 32 y = 2\\\\\n",
    "-x -\\frac 12 y = -\\frac23\n",
    "\\end{cases}. $"
   ]
  },
  {
   "cell_type": "code",
   "execution_count": 4,
   "metadata": {},
   "outputs": [],
   "source": [
    "# resolva aqui"
   ]
  },
  {
   "cell_type": "markdown",
   "metadata": {},
   "source": [
    "**Conclusão:** COMPLETE. "
   ]
  },
  {
   "cell_type": "markdown",
   "metadata": {},
   "source": [
    "<br>\n",
    "\n",
    "(d) $\\begin{cases} \n",
    "-2x + y = 2\\\\\n",
    "\\frac12x - y = -1\\\\\n",
    "-x + 2y = 10 \n",
    "\\end{cases}. $"
   ]
  },
  {
   "cell_type": "code",
   "execution_count": 5,
   "metadata": {},
   "outputs": [],
   "source": [
    "# resolva aqui"
   ]
  },
  {
   "cell_type": "markdown",
   "metadata": {},
   "source": [
    "**Conclusão:** COMPLETE. "
   ]
  },
  {
   "cell_type": "markdown",
   "metadata": {},
   "source": [
    "\n",
    "***\n",
    "\n",
    "<br><br>\n",
    "\n",
    "Para sistema com três incógnitas, as equações envolvidas são geometricamente interpretadas como planos em $\\mathbb R^3$.\n",
    "\n",
    "### Exercício 2:<br>\n",
    "\n",
    "Existem diversas posições relativas entre três planos no espaço. A figura abaixo mostra algumas delas. Interprete-as e escreva abaixo os número de soluções de cada um dos respectivos sistemas associados a cada figura.\n",
    "\n",
    "<img src=\"https://github.com/guerinileonardo/figures/blob/main/planos_interc.png?raw=true\" width=\"960\">"
   ]
  },
  {
   "cell_type": "markdown",
   "metadata": {},
   "source": [
    "**Resposta**: COMPLETE."
   ]
  },
  {
   "cell_type": "markdown",
   "metadata": {},
   "source": [
    "<br>\n",
    "\n",
    "***\n",
    "\n",
    "> Note que, em todos esses casos, verificamos apenas o **número de soluções**. Para obter **explicitamente** essas soluções, não basta apenas plotar e interpretar os gráficos. É necessário **resolver** de fato cada sistema.\n",
    "\n",
    "\n",
    "***\n",
    "<br><br>\n",
    "\n",
    "\n",
    "# Condição de unicidade de soluções\n",
    "<br>\n",
    "\n",
    "Note que, em um sistema \n",
    "\n",
    "$$Ax=b,$$ \n",
    "\n",
    "a matriz de coeficientes $A$ é **quadrada** se e somente se **o número de equações do sistema é igual ao número de incógnitas**.\n",
    "\n",
    "<br><br>\n",
    "\n",
    "Algumas matrizes quadradas são **invertíveis**. Isto é, se $A$ é uma matriz quadrada $n\\times n$, pode existir outra matriz de mesmo ordem, denotada por $A^{-1}$, tal que\n",
    "\n",
    "$$\n",
    "AA^{-1} = A^{-1}A = I,\n",
    "$$\n",
    "onde $I$ é a matriz identidade de ordem $n$.\n",
    "\n",
    "<br><br>\n",
    "\n",
    "No caso específico em que $A$ é quadrada, vale que o sistema $Ax=b$ tem **solução única** se e somente se **$A$ é invertível**. \n",
    "\n",
    "Isso vale pois nesses casos podemos isolar o vetor $x$ multiplicando ambos os lados da equação matricial pela inversa $A^{-1}$:\n",
    "\n",
    "$$\n",
    "Ax=b\\quad \\implies\\quad A^{-1}Ax=A^{-1}b\\quad \\implies\\quad x = A^{-1}b.\n",
    "$$\n",
    "\n",
    "Ou seja, nesse caso, $x$ fica unicamente definido por $x = A^{-1}b$.\n",
    "\n",
    "<br><br>\n",
    "\n",
    "Assim, podemos relacionar a unicidade de soluções de um sistema com a invertibilidade da matriz de coeficientes através do seguinte teorema:\n",
    "\n",
    "> <u>**Teorema:**</u> Sejam $A$ uma matriz $n\\times n$ e $b\\in\\mathbb R^n$. Então o sistema $Ax=b$ possui solução única se e somente se a matriz $A$ é invertível. Nesse caso, a solução é dada por $x = A^{-1}b$."
   ]
  },
  {
   "cell_type": "markdown",
   "metadata": {},
   "source": [
    "<br>\n",
    "\n",
    "***\n",
    "\n",
    "### Exercício 3:<br> \n",
    "\n",
    "Considere o sistema linear\n",
    "\n",
    "$$\\begin{cases} \n",
    "    x_1 + 3x_2 -2x_3 = -22\\\\\n",
    "    2x_1 -x_2 + 3x_3 = -9\\\\\n",
    "    -2x_2 + 4x_3= -2\n",
    "\\end{cases}. $$\n",
    "\n",
    "Utilize os códigos vistos na aula passada para efetuar o indicado abaixo.\n",
    "\n",
    "<br>\n",
    "\n",
    "(a) Defina a matriz de coeficientes $A$ e o vetor de termos independentes $b$ como *arrays* e verifique que $x = \\begin{bmatrix}x_1\\\\x_2\\\\x_3\\end{bmatrix}= \\begin{bmatrix}-1\\\\-11\\\\-6\\end{bmatrix}$ é uma solução do sistema."
   ]
  },
  {
   "cell_type": "code",
   "execution_count": 6,
   "metadata": {},
   "outputs": [],
   "source": [
    "import numpy as np"
   ]
  },
  {
   "cell_type": "code",
   "execution_count": 7,
   "metadata": {},
   "outputs": [
    {
     "data": {
      "text/plain": [
       "array([[-0.14285714,  0.57142857, -0.5       ],\n",
       "       [ 0.57142857, -0.28571429,  0.5       ],\n",
       "       [ 0.28571429, -0.14285714,  0.5       ]])"
      ]
     },
     "execution_count": 7,
     "metadata": {},
     "output_type": "execute_result"
    }
   ],
   "source": [
    "A = np.array([[1,3,-2],[2,-1,3],[0,-2,4]])\n",
    "np.linalg.inv(A)\n"
   ]
  },
  {
   "cell_type": "code",
   "execution_count": null,
   "metadata": {},
   "outputs": [],
   "source": []
  },
  {
   "cell_type": "markdown",
   "metadata": {},
   "source": [
    "<br>\n",
    "\n",
    "(b) Verifique que $A^{-1}=\\begin{bmatrix}-\\frac17& \\frac47&-\\frac12\\\\ \\frac47&-\\frac27&\\frac12\\\\ \\frac27&-\\frac17&\\frac12\\end{bmatrix}$."
   ]
  },
  {
   "cell_type": "code",
   "execution_count": 8,
   "metadata": {},
   "outputs": [],
   "source": [
    "# resolva aqui"
   ]
  },
  {
   "cell_type": "markdown",
   "metadata": {},
   "source": [
    "<br>\n",
    "\n",
    "(c) Mostre que a solução dada no item (a) é única, utilizando o teorema acima."
   ]
  },
  {
   "cell_type": "code",
   "execution_count": 9,
   "metadata": {},
   "outputs": [],
   "source": [
    "# resolva aqui"
   ]
  },
  {
   "cell_type": "markdown",
   "metadata": {},
   "source": [
    "<br><br>\n",
    "\n",
    "***\n",
    "\n",
    "<br>\n",
    "\n",
    "### Exercício 4:<br>\n",
    "\n",
    "Dado o sistema\n",
    "\n",
    "$$\\begin{cases} \n",
    "   -2x_1 + x_2 +3x_3 = 2\\\\\n",
    "     x_1 -3 x_2 -x_3 = -3\\\\\n",
    "    -x_1 - 2x_2 +2x_3= -1\n",
    "\\end{cases}, $$\n",
    "mostre que $\\begin{bmatrix}1\\\\1 \\\\1 \\end{bmatrix}$ e $\\begin{bmatrix}-7\\\\0 \\\\-4 \\end{bmatrix}$ pertencem ao conjunto solução."
   ]
  },
  {
   "cell_type": "code",
   "execution_count": 10,
   "metadata": {},
   "outputs": [],
   "source": [
    "# resolva aqui"
   ]
  },
  {
   "cell_type": "markdown",
   "metadata": {},
   "source": [
    "<br>\n",
    "\n",
    "O que você pode concluir sobre a inversa $A^{-1}$? Por quê?\n",
    "\n",
    "<br>\n",
    "\n",
    "Resposta: COMPLETE."
   ]
  },
  {
   "cell_type": "markdown",
   "metadata": {},
   "source": [
    "---"
   ]
  },
  {
   "cell_type": "markdown",
   "metadata": {},
   "source": [
    "### Escalonamento de matrizes\n",
    "Muitas vezes é útil escalonar a matriz ampliada de um sistema linear para obter um sistema triangular equivalente que seja mais fácil de resolver. Sistemas triagulares, em geral podem ser facilmente resolvidos por substituições sucessivas.\n",
    "\n",
    "Um **sistema triangular inferior** representado por $Lx=b$, possui matriz de coeficientes tal que $[l_{ij}]=0$ para $i<j$, com $i,j=0,1,...,n$. \n",
    "\n",
    "Um algoritmo para obter a sua solução é dado por:\n",
    "\n",
    "$$ x_1 = b_1/a_{11}$$\n",
    "\n",
    "para $i=2,3...,n$, faça\n",
    "\n",
    "$$ x_i = \\frac{b_i- \\sum\\limits_{j=1}^{(i-1)} a_{ij}x_j}{a_{ii}}$$\t         \n",
    "\t         \n",
    "Usando Python, um código que implementa esse algoritmo, é mostrado no exemplo abaixo."
   ]
  },
  {
   "cell_type": "markdown",
   "metadata": {},
   "source": [
    "**Exemplo:**\n",
    "\n",
    "Seja o sistema linear\n",
    "$$ \\begin{cases} \n",
    "\t         2x_1 = 2\\\\ \n",
    "             x_1 + 4x_2 = -3\\\\\n",
    "             x_1 + x_2 + x_3 = 0\n",
    "             \\end{cases} $$\n",
    "um código em Python que implementa esse algoritmo e a solução obtida executando o programa são mostrados a seguir "
   ]
  },
  {
   "cell_type": "code",
   "execution_count": 11,
   "metadata": {},
   "outputs": [
    {
     "data": {
      "text/plain": [
       "array([[ 3.,  2.,  4.,  1.],\n",
       "       [ 1.,  1.,  2.,  2.],\n",
       "       [-4.,  3.,  2.,  3.]])"
      ]
     },
     "execution_count": 11,
     "metadata": {},
     "output_type": "execute_result"
    }
   ],
   "source": [
    "A = np.array([[3.,2.,4.],\n",
    "              [1.,1.,2.],\n",
    "              [-4.,3.,2.]])\n",
    "\n",
    "b = np.array([1.,2.,3.])\n",
    "\n",
    "M = np.hstack((A,b.reshape(3,1)))\n",
    "M"
   ]
  },
  {
   "cell_type": "code",
   "execution_count": 12,
   "metadata": {},
   "outputs": [
    {
     "name": "stdout",
     "output_type": "stream",
     "text": [
      "[0.3333333333333333, 1.6666666666666667, -0.3333333333333335]\n"
     ]
    }
   ],
   "source": [
    "x1 = b[0]/A[0][0]\n",
    "x = [x1]\n",
    "\n",
    "for i in range(1,len(A)):\n",
    "    soma = 0\n",
    "    for j in range(0,i):\n",
    "        soma +=  A[i][j]*x[j]\n",
    "    x.append((b[i]-soma)/A[i][i])\n",
    "print (x)"
   ]
  },
  {
   "cell_type": "markdown",
   "metadata": {},
   "source": [
    "Um **sistema triangular superior** representado por $Ux=b$, possui matriz de coeficientes tal que $[u_{ij}]=0$ para $i>j$, com $i,j=0,1,...,n$. \n",
    "\n",
    "Um algoritmo para obter a sua solução é dado por:\n",
    "\n",
    "$$ x_n = b_n/a_{nn}$$\n",
    "\n",
    "para $i=(n-1), (n-2),...,1$, faça\n",
    "\n",
    "$$ x_i = \\frac{b_i- \\sum\\limits_{j=i+1}^{(n)} a_{ij}x_j}{a_{ii}}$$\t\n",
    "\n",
    "Usando Python, um código que implementa esse algoritmo, é mostrado abaixo."
   ]
  },
  {
   "cell_type": "markdown",
   "metadata": {},
   "source": [
    "**Exemplo:**\n",
    "Seja o sistema linear\n",
    "$$ \\begin{cases} \n",
    "\t         3x_1 + x_2 +x_3= 4\\\\ \n",
    "             2x_2 -x_3 = 2\\\\\n",
    "             3x_3 = 3\n",
    "             \\end{cases} $$\n",
    "um código em Python que implementa esse algoritmo e a solução obtida executando o programa são mostrados a seguir "
   ]
  },
  {
   "cell_type": "markdown",
   "metadata": {},
   "source": [
    "DESAFIO! Desenvolva um código para solucionar esse exemplo."
   ]
  },
  {
   "cell_type": "markdown",
   "metadata": {},
   "source": [
    "### Método da Eliminação de Gauss\n",
    "\n",
    "O método de eliminação de Gauss para resolução de sistemas lineares consiste no processo \n",
    "de transformar um sistema $Ax=b$, em que $A= [a_{ij}]_i,j=1,..,n$, \n",
    "$x=[x_1,x_2,...,x_n]^t$ e $b=[b_1, b_2,...,b_n]^t$, em um sistema triangular equivalente, \n",
    "aplicando operações elementares sobre as linhas da matriz aumentada $[A \\mid b]$. O sistema equivalente obtido ao final do processo, deve ser de resolução mais simples ou imediata, por substituição subsequente. "
   ]
  },
  {
   "cell_type": "markdown",
   "metadata": {},
   "source": [
    "### Exemplo \n",
    "Um exemplo de algoritmo para resolver sistemas lineares por eliminação de Gauss."
   ]
  },
  {
   "cell_type": "code",
   "execution_count": 13,
   "metadata": {},
   "outputs": [
    {
     "data": {
      "text/plain": [
       "array([[  3.        ,   2.        ,   4.        ,   1.        ],\n",
       "       [  0.        ,   0.33333333,   0.66666667,   1.66666667],\n",
       "       [  0.        ,   0.        ,  -4.        , -24.        ]])"
      ]
     },
     "execution_count": 13,
     "metadata": {},
     "output_type": "execute_result"
    }
   ],
   "source": [
    "# funcao que triangulariza o sistema\n",
    "def triangulariza(M):\n",
    "    n = len(M)\n",
    "    for j in range(n-1):\n",
    "        for i in range(j,n-1):\n",
    "            m = M[i+1,j]/M[j,j]\n",
    "            M[i+1] = M[i+1]-m*M[j]\n",
    "    return (M)\n",
    "\n",
    "T = triangulariza(M)\n",
    "T"
   ]
  },
  {
   "cell_type": "code",
   "execution_count": 14,
   "metadata": {},
   "outputs": [
    {
     "data": {
      "text/plain": [
       "array([[ 3.,  2.,  4.,  1.],\n",
       "       [ 1.,  1.,  2.,  2.],\n",
       "       [-4.,  3.,  2.,  3.]])"
      ]
     },
     "execution_count": 14,
     "metadata": {},
     "output_type": "execute_result"
    }
   ],
   "source": [
    "A = np.array([[3.,2.,4.],\n",
    "              [1.,1.,2.],\n",
    "              [-4.,3.,2.]])\n",
    "\n",
    "b = np.array([1.,2.,3.])\n",
    "\n",
    "M = np.hstack((A,b.reshape(3,1)))\n",
    "M"
   ]
  },
  {
   "cell_type": "code",
   "execution_count": 15,
   "metadata": {},
   "outputs": [],
   "source": [
    "U = T[:,0:-1]\n",
    "y = T[:,-1]"
   ]
  }
 ],
 "metadata": {
  "kernelspec": {
   "display_name": "Python 3",
   "language": "python",
   "name": "python3"
  },
  "language_info": {
   "codemirror_mode": {
    "name": "ipython",
    "version": 3
   },
   "file_extension": ".py",
   "mimetype": "text/x-python",
   "name": "python",
   "nbconvert_exporter": "python",
   "pygments_lexer": "ipython3",
   "version": "3.8.5"
  }
 },
 "nbformat": 4,
 "nbformat_minor": 4
}
