{
 "cells": [
  {
   "cell_type": "markdown",
   "id": "d6b063b2",
   "metadata": {},
   "source": [
    "## Atividade  #2"
   ]
  },
  {
   "cell_type": "markdown",
   "id": "df2b1e2e",
   "metadata": {},
   "source": [
    "**Questão 1.** Usando fatoração LU, determine uma solução para o sistema dado a seguir. Depois confirme o resultado utilizando outro método direto (eliminação de Gauss, Gauss-Jordan ou matriz inversa)\n",
    "\n",
    "$$ \\left[\\begin{array}{ccccc} \n",
    "5 & 1 & 2 & 1 & -1\\\\ \n",
    "0&6&1&1&-1\\\\ \n",
    "0&1&-3&2&1\\\\\n",
    "3&0&2&7&0\\\\\n",
    "1&1&0&0&8\\\\\n",
    "\\end{array} \\right]\n",
    "\\left[\\begin{array}{c} \n",
    "x_1\\\\ x_2\\\\ x_3\\\\x_4\\\\x_5\\\\\n",
    "\\end{array} \\right]\n",
    "=\n",
    "\\left[\\begin{array}{c} \n",
    "1\\\\ 2\\\\ 0\\\\2\\\\1\\\\\n",
    "\\end{array} \\right] $$"
   ]
  },
  {
   "cell_type": "code",
   "execution_count": null,
   "id": "d870ed7e",
   "metadata": {},
   "outputs": [],
   "source": []
  },
  {
   "cell_type": "markdown",
   "id": "b1ee52be",
   "metadata": {},
   "source": [
    "**Questão 2.** Considere o quadro abaixo\n",
    "\n",
    "<figure>\n",
    "  <img src=\"imagens/quadro.png\" style=\"width:30%\">\n",
    "</figure>\n",
    "\n",
    "Determine, usando um método iterativo, os valores de $T_k (k=1, \\ldots, 9)$ sabendo que o $T_k$ é obtido pela média aritmética dos seus quatro vizinhos. Assim por exemplo, \n",
    "\n",
    "$$T_6=\\frac{T_3+T_9+T_5+500}{4}$$"
   ]
  },
  {
   "cell_type": "code",
   "execution_count": null,
   "id": "bac594c9",
   "metadata": {},
   "outputs": [],
   "source": []
  },
  {
   "cell_type": "markdown",
   "id": "e3cfeda4",
   "metadata": {},
   "source": [
    "**Questão 3.** Sistemas lineares podem ser usados para obter o polinômo de grau $n$ que passa pelos $n+1$ pontos distintos $(x_i, y_i)$, $i=0,1,...,n$. Para isso, basta escrever as equações  \n",
    "\n",
    "$$ a_nx_i^n + a_{n-1}x_i^{n-1}+...+a_1x_i+a_0 = y_i$$\n",
    "\n",
    "para cada ponto dado e resolver o sistema encontrando os coeficientes $\\{a_0,...,a_n\\}$ do polinômio. \n",
    "\n",
    "Encontre o polinômio de grau 3 que passa pelos pontos $(1,3)$, $(2,-2)$, $(3,-5)$ e $(4,0)$. Plote o gráfico mostrando o polinômio obtido e os pontos dados."
   ]
  },
  {
   "cell_type": "code",
   "execution_count": null,
   "id": "5e4b576b",
   "metadata": {},
   "outputs": [],
   "source": []
  },
  {
   "cell_type": "markdown",
   "id": "fdc98c93",
   "metadata": {},
   "source": [
    "**Questão 4.** Em muitas aplicações é necessário encontrar uma função que representa um conjunto de dados obtidos experimentalmente. Podemos encontrar o polinômio de grau 3 que melhor representa um conjunto de 10 pontos $(x_i, y_i)$, $i=1,2,...,10$ resolvendo o sistema linear \n",
    "\n",
    "$$(Z^TZ)a = Z^Ty$$\n",
    "\n",
    "onde $Z$ é a matriz $10\\times4$ obtida a partir dos valores de $x_i$, $i=1,2,...,10$ fazendo\n",
    "\n",
    "$$Z = \\left[\\begin{matrix}\n",
    "1 & x_1 & x_1^2 & x_1^3\\\\\n",
    "1 & x_2 & x_2^2 & x_2^3\\\\\n",
    "1 & x_3 & x_3^2 & x_3^3\\\\\n",
    "\\vdots & \\vdots & \\vdots & \\vdots\\\\\n",
    "1 & x_{10} & x_{10}^2 & x_{10}^3\\\\\n",
    "\\end{matrix}\\right]$$\n",
    "\n",
    "$a$ é a matriz dos coeficientes do polinômio $a=[a_0, a_1, a_2,a_3]^T$ e $y$ é dado por $y=[y_1,y_2,...,y_{10}]^T$. \n",
    "\n",
    "Monte e resolva o sistema para encontrar o polinômio, então, plote o gráfico desse polinômio juntamente com os pontos: \n",
    "$(1.3,1.9)$, $(0.9,3.01)$, $(2.2,-2.1)$, $(1.95,-1.98)$, $(1.78,-1.53)$, $(3.1,-5.01)$, $(2.48,-4.91)$, $(2.74,-5.01)$, $(3.35,-4.02)$ e $(3.99,0.15)$"
   ]
  },
  {
   "cell_type": "code",
   "execution_count": null,
   "id": "9b4e2c68",
   "metadata": {},
   "outputs": [],
   "source": []
  }
 ],
 "metadata": {
  "kernelspec": {
   "display_name": "Python 3",
   "language": "python",
   "name": "python3"
  },
  "language_info": {
   "codemirror_mode": {
    "name": "ipython",
    "version": 3
   },
   "file_extension": ".py",
   "mimetype": "text/x-python",
   "name": "python",
   "nbconvert_exporter": "python",
   "pygments_lexer": "ipython3",
   "version": "3.8.5"
  }
 },
 "nbformat": 4,
 "nbformat_minor": 5
}
