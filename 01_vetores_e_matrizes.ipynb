{
 "cells": [
  {
   "cell_type": "markdown",
   "metadata": {},
   "source": [
    "# 1. Vetores e Matrizes"
   ]
  },
  {
   "cell_type": "markdown",
   "metadata": {},
   "source": [
    "## Vetores\n",
    "\n",
    "Um vetor é uma entidade matemática que representa uma quantidade física com magnitude, direção e sentido, sem estar associado a um ponto fixo do espaço. É representado por um segmento orientado que possui um ponto de partida e um ponto de chegada. As características de um vetor são:\n",
    "\n",
    "- **Magnitude:** é representada pelo seu valor absoluto, que indica a intensidade da grandeza física que o vetor representa. A magnitude de um vetor é sempre um número não negativo. Geometricamente representa o comprimento do vetor.\n",
    "\n",
    "- **Direção:** é o ângulo que ele forma em relação a um eixo de referência. Essa característica permite representar a orientação física do vetor.\n",
    "\n",
    "- **Sentido:** indica o sentido para o qual o vetor está apontando. Uma convenção para a representação do sentido dos vetores é a utilização de setas sobre eles.\n",
    "\n",
    "Um vetor no plano 2D pode ser escrito como $\\vec{v}=\\left(v_1, v_2\\right)$, e no espaço 3D como $\\vec{v}=\\left(v_1, v_2, v_3\\right)$\n"
   ]
  },
  {
   "cell_type": "markdown",
   "metadata": {},
   "source": [
    "Se um vetor 2D tem origem em $A\\left(x_1, y_1\\right)$ e extremidade em $B\\left(x_2, y_2\\right)$, entāo suas coordenadas são dadas por:\n",
    "\n",
    "$$\n",
    "\\vec{v}=\\left(x_2-x_1, y_2-y_1\\right)\n",
    "$$\n"
   ]
  },
  {
   "cell_type": "markdown",
   "metadata": {},
   "source": [
    "O módulo de um vetor $\\vec{v}=\\left(v_1, v_2\\right)$, em 2D, é dado por:\n",
    "\n",
    "$$\n",
    "|\\vec{v}|=\\sqrt{v_1^2+v_2^2}\n",
    "$$\n",
    "\n",
    "\n",
    "E em 3D:\n",
    "\n",
    "$$\n",
    "|\\vec{v}|=\\sqrt{v_1^2+v_2^2+v_3^2}\n",
    "$$\n"
   ]
  },
  {
   "cell_type": "markdown",
   "metadata": {},
   "source": [
    "A seguir são mostradas algumas linhas de código em Python para representar um vetor 2D graficamente. "
   ]
  },
  {
   "cell_type": "code",
   "execution_count": 2,
   "metadata": {},
   "outputs": [],
   "source": [
    "import numpy as np\n",
    "import matplotlib.pyplot as plt"
   ]
  },
  {
   "cell_type": "code",
   "execution_count": 4,
   "metadata": {},
   "outputs": [
    {
     "data": {
      "image/png": "[encoded data removed]",
      "text/plain": [
       "<Figure size 640x480 with 1 Axes>"
      ]
     },
     "metadata": {},
     "output_type": "display_data"
    }
   ],
   "source": [
    "# Apenas para visualizar o vetor (x,y)\n",
    "# Experimente alterar os valores para x e para y\n",
    "\n",
    "x = 2; y = 3  \n",
    "\n",
    "fig, ax = plt.subplots()\n",
    "plt.quiver(0, 0, x, y, color='b', \n",
    "           angles='xy', scale_units='xy', scale=1)\n",
    "\n",
    "plt.xlim(-5, 5)\n",
    "plt.ylim(-5, 5)\n",
    "ax.axhline(linewidth=1.0, color='black')\n",
    "ax.axvline(linewidth=1.0, color='black')\n",
    "ax.annotate(f'v({x},{y})', (x,y))\n",
    "ax.set_aspect('equal')\n",
    "plt.grid()\n",
    "plt.show()"
   ]
  },
  {
   "cell_type": "markdown",
   "metadata": {},
   "source": [
    "Considerando os vetores $\\vec{u} = (u_0, u_1, u_2 \\ldots)$ e $\\vec{v} = (v_0, v_1, v_2 \\ldots)$. Algumas operações vetoriais comuns incluem:\n",
    "\n",
    "- **Adição de Vetores:** A adição de vetores envolve combinar vetores para formar um novo vetor resultante. Isso é feito somando as componentes correspondentes dos vetores individuais.\n",
    "\n",
    "$$\\vec{u} + \\vec{v} = (u_0 + v_0, u_1 + v_1, u_2 + v_2, \\ldots)$$\n",
    "\n",
    "\n",
    "\n",
    "- **Produto Escalar:** O produto escalar (ou produto interno) de dois vetores é um valor escalar que representa a projeção de um vetor sobre o outro, multiplicada pelo comprimento do vetor projetado. Ele fornece informações sobre a relação de direção entre os vetores.\n",
    "\n",
    "$$\\vec{u} \\cdot \\vec{v} = u_0  v_0 + u_1  v_1 + u_2  v_2 + \\ldots$$\n",
    "\n",
    "ou \n",
    "\n",
    "$$\\vec{u} \\cdot \\vec{v} = \\|\\vec{u}\\| \\|\\vec{v}\\|  \\cos \\theta$$\n",
    "\n",
    "em que\n",
    "$$ \\| \\vec{u} \\| = \\sqrt{u_0^2 + u_1^2 + u_2^2 + \\ldots}$$\n",
    "\n",
    "- **Produto Vetorial (no R³):** O produto vetorial (ou produto cruzado) de dois vetores resulta em um novo vetor perpendicular ao plano definido pelos vetores de entrada. A magnitude do vetor resultante é proporcional à área do paralelogramo formado pelos vetores de entrada.\n",
    "\n",
    "$$ \\vec{u} \\times \\vec{v} = \\begin{vmatrix} \\hat{i} & \\hat{j} & \\hat{k} \\\\ u_0 & u_1 & u_2 \\\\ v_0 & v_1 & v_2 \\end{vmatrix}\n",
    "$$\n",
    "\n",
    "- **Multiplicação por um Escalar:** Multiplicar m escalar $a$ por um vetor $\\vec{u}$ envolve multiplicar cada componente do vetor pelo valor escalar. Isso afeta a magnitude e o sentido do vetor, não a direção.\n",
    "\n",
    "$$ a  \\vec{u} = (a  u_0, a  u_1, a u_2, \\ldots) $$\n",
    "\n",
    "\n",
    "- **Combinações Lineares:** Uma combinação linear envolve a multiplicação de vários vetores por escalares e a soma dos resultados para obter um novo vetor. Por exemplo uma combinação linear entre $\\vec{u}$ e $\\vec{v}$, dados os escalares $a$ e $b$, pode ser escrita como\n",
    "\n",
    "$$\\vec{w} = a\\vec{u} + b \\vec{v}$$"
   ]
  },
  {
   "cell_type": "markdown",
   "metadata": {},
   "source": [
    "Em Python usamos a biblioteca `numpy`para criar e manipular vetores. Vetores e matrizes são criados usando o objeto `numpy.array`. A seguir são mostrados exemplos de como criar e operar vetores usando Python."
   ]
  },
  {
   "cell_type": "markdown",
   "metadata": {},
   "source": [
    "**Exemplo:** Operações com vetores em Python."
   ]
  },
  {
   "cell_type": "code",
   "execution_count": 5,
   "metadata": {},
   "outputs": [],
   "source": [
    "# definindo vetores u e v\n",
    "u = np.array([1, 2, 3])  \n",
    "v = np.array([4, 5, 6])  "
   ]
  },
  {
   "cell_type": "code",
   "execution_count": 6,
   "metadata": {},
   "outputs": [
    {
     "data": {
      "text/plain": [
       "array([5, 7, 9])"
      ]
     },
     "execution_count": 6,
     "metadata": {},
     "output_type": "execute_result"
    }
   ],
   "source": [
    "# soma\n",
    "u+v"
   ]
  },
  {
   "cell_type": "code",
   "execution_count": 7,
   "metadata": {},
   "outputs": [
    {
     "data": {
      "text/plain": [
       "32"
      ]
     },
     "execution_count": 7,
     "metadata": {},
     "output_type": "execute_result"
    }
   ],
   "source": [
    "# produto Vetorial\n",
    "np.dot(u, v)"
   ]
  },
  {
   "cell_type": "code",
   "execution_count": 8,
   "metadata": {},
   "outputs": [
    {
     "data": {
      "text/plain": [
       "array([-3,  6, -3])"
      ]
     },
     "execution_count": 8,
     "metadata": {},
     "output_type": "execute_result"
    }
   ],
   "source": [
    "# produto vetorial\n",
    "np.cross(u, v)"
   ]
  },
  {
   "cell_type": "code",
   "execution_count": 9,
   "metadata": {},
   "outputs": [
    {
     "data": {
      "text/plain": [
       "array([3, 6, 9])"
      ]
     },
     "execution_count": 9,
     "metadata": {},
     "output_type": "execute_result"
    }
   ],
   "source": [
    "# multiplicação por escalar\n",
    "3*u"
   ]
  },
  {
   "cell_type": "code",
   "execution_count": 10,
   "metadata": {},
   "outputs": [
    {
     "data": {
      "text/plain": [
       "array([-5, -4, -3])"
      ]
     },
     "execution_count": 10,
     "metadata": {},
     "output_type": "execute_result"
    }
   ],
   "source": [
    "# combinação linear\n",
    "3*u-2*v"
   ]
  },
  {
   "cell_type": "code",
   "execution_count": 11,
   "metadata": {},
   "outputs": [
    {
     "data": {
      "text/plain": [
       "3.7416573867739413"
      ]
     },
     "execution_count": 11,
     "metadata": {},
     "output_type": "execute_result"
    }
   ],
   "source": [
    "# magnitude \n",
    "np.sqrt(np.dot(u,u))"
   ]
  },
  {
   "cell_type": "markdown",
   "metadata": {},
   "source": [
    "Vamos agora criar uma função para desenhar alguns vetores e fazer alguns experimentos usando essas operações."
   ]
  },
  {
   "cell_type": "code",
   "execution_count": 12,
   "metadata": {},
   "outputs": [],
   "source": [
    "def plota_vetores_2d(V):\n",
    "    \n",
    "    fig, ax = plt.subplots(figsize=(6,4))\n",
    "    for v in V:\n",
    "        plt.quiver(0, 0, v[0], v[1],  \n",
    "                   angles='xy', scale=1,\n",
    "                   scale_units='xy')\n",
    "        ax.annotate(f'({v[0]},{v[1]})', (v[0],v[1]))\n",
    "\n",
    "    plt.xlim(-np.max(V)-1, np.max(V)+1)\n",
    "    plt.ylim(-np.max(V)-1, np.max(V)+1)\n",
    "    ax.axhline(linewidth=1.0, color='black')\n",
    "    ax.axvline(linewidth=1.0, color='black')\n",
    "    ax.annotate(f'({v[0]},{v[1]})', (v[0],v[1]))\n",
    "    ax.set_aspect('equal')\n",
    "    plt.grid()\n",
    "    plt.show()"
   ]
  },
  {
   "cell_type": "code",
   "execution_count": 13,
   "metadata": {},
   "outputs": [
    {
     "data": {
      "image/png": "[encoded data removed]",
      "text/plain": [
       "<Figure size 600x400 with 1 Axes>"
      ]
     },
     "metadata": {},
     "output_type": "display_data"
    }
   ],
   "source": [
    "# soma de dois vetores\n",
    "u = np.array([1,2])\n",
    "v = np.array([3,-1])\n",
    "\n",
    "V = [u,v,u+v]\n",
    "plota_vetores_2d(V)"
   ]
  },
  {
   "cell_type": "code",
   "execution_count": 14,
   "metadata": {},
   "outputs": [
    {
     "name": "stdout",
     "output_type": "stream",
     "text": [
      "Produto escalar de u e v= 0\n"
     ]
    },
    {
     "data": {
      "image/png": "[encoded data removed]",
      "text/plain": [
       "<Figure size 600x400 with 1 Axes>"
      ]
     },
     "metadata": {},
     "output_type": "display_data"
    }
   ],
   "source": [
    "# vetores cujo produto escalar é nulo\n",
    "u = np.array([3,2])\n",
    "v = np.array([-2,3])\n",
    "print (\"Produto escalar de u e v=\", np.dot(u,v))\n",
    "\n",
    "V = [u,v]\n",
    "plota_vetores_2d(V)\n"
   ]
  },
  {
   "cell_type": "code",
   "execution_count": 15,
   "metadata": {},
   "outputs": [
    {
     "name": "stdout",
     "output_type": "stream",
     "text": [
      "Produto escalar de u e v= -82\n"
     ]
    },
    {
     "data": {
      "image/png": "[encoded data removed]",
      "text/plain": [
       "<Figure size 600x400 with 1 Axes>"
      ]
     },
     "metadata": {},
     "output_type": "display_data"
    }
   ],
   "source": [
    "# soma de vetores cujo produto escalar é 1\n",
    "u = np.array([-4,-5])\n",
    "v = np.array([8,10])\n",
    "print (\"Produto escalar de u e v=\", np.dot(u,v))\n",
    "\n",
    "V = [u,v, v+u]\n",
    "plota_vetores_2d(V)"
   ]
  },
  {
   "cell_type": "code",
   "execution_count": 16,
   "metadata": {},
   "outputs": [
    {
     "name": "stdout",
     "output_type": "stream",
     "text": [
      "Produto escalar de u e v= -17\n"
     ]
    },
    {
     "data": {
      "image/png": "[encoded data removed]",
      "text/plain": [
       "<Figure size 600x400 with 1 Axes>"
      ]
     },
     "metadata": {},
     "output_type": "display_data"
    }
   ],
   "source": [
    "# combinação linear de dois vetores\n",
    "u = np.array([2,5])\n",
    "v = np.array([4,-5])\n",
    "print (\"Produto escalar de u e v=\", np.dot(u,v))\n",
    "\n",
    "V = [u,v, 2*v, 3*u, 2*v+3*u]\n",
    "plota_vetores_2d(V)"
   ]
  },
  {
   "cell_type": "markdown",
   "metadata": {},
   "source": [
    "Os *arrays* também são úteis para obter valores de funções aplicadas *elemento a elemento*, veja os exemplos a seguir."
   ]
  },
  {
   "cell_type": "code",
   "execution_count": 17,
   "metadata": {},
   "outputs": [
    {
     "data": {
      "text/plain": [
       "array([ 1,  0,  1,  4, 36, 49])"
      ]
     },
     "execution_count": 17,
     "metadata": {},
     "output_type": "execute_result"
    }
   ],
   "source": [
    "u = np.array([-1,0,1,2,6,7])\n",
    "u**2"
   ]
  },
  {
   "cell_type": "code",
   "execution_count": 18,
   "metadata": {},
   "outputs": [
    {
     "data": {
      "text/plain": [
       "array([ 1.00000000e+00,  5.40302306e-01, -4.16146837e-01,  6.12323400e-17,\n",
       "       -1.00000000e+00,  9.60170287e-01, -1.45500034e-01])"
      ]
     },
     "execution_count": 18,
     "metadata": {},
     "output_type": "execute_result"
    }
   ],
   "source": [
    "u = np.array([0, 1, 2, np.pi/2, -np.pi, 6, 8])\n",
    "np.cos(u)"
   ]
  },
  {
   "cell_type": "code",
   "execution_count": 19,
   "metadata": {},
   "outputs": [
    {
     "data": {
      "text/plain": [
       "array([-3,  6, -3])"
      ]
     },
     "execution_count": 19,
     "metadata": {},
     "output_type": "execute_result"
    }
   ],
   "source": [
    "# produto vetorial entre 2 vetores do R³ \n",
    "u = np.array([1, 2, 3])  \n",
    "v = np.array([4, 5, 6])  \n",
    "np.cross(u,v)"
   ]
  },
  {
   "cell_type": "code",
   "execution_count": 20,
   "metadata": {},
   "outputs": [
    {
     "data": {
      "text/plain": [
       "0"
      ]
     },
     "execution_count": 20,
     "metadata": {},
     "output_type": "execute_result"
    }
   ],
   "source": [
    "# observe esse resultado\n",
    "np.dot(u, np.cross(u,v))"
   ]
  },
  {
   "cell_type": "code",
   "execution_count": 21,
   "metadata": {},
   "outputs": [
    {
     "data": {
      "text/plain": [
       "0.2257261285527342"
      ]
     },
     "execution_count": 21,
     "metadata": {},
     "output_type": "execute_result"
    }
   ],
   "source": [
    "# angulo entre dois vetores\n",
    "np.arccos(np.dot(u,v)/(np.sqrt(np.dot(u,u))*np.sqrt(np.dot(v,v))))"
   ]
  },
  {
   "cell_type": "code",
   "execution_count": 22,
   "metadata": {},
   "outputs": [
    {
     "data": {
      "text/plain": [
       "90.0"
      ]
     },
     "execution_count": 22,
     "metadata": {},
     "output_type": "execute_result"
    }
   ],
   "source": [
    "w = np.cross(u,v)\n",
    "ang = np.arccos(np.dot(u,w)/(np.sqrt(np.dot(u,u))*np.sqrt(np.dot(w,w))))\n",
    "np.rad2deg(ang)"
   ]
  },
  {
   "cell_type": "markdown",
   "metadata": {},
   "source": [
    "## Matrizes\n",
    "Matrizes são arranjos retangulares de números, símbolos ou expressões dispostos em linhas e colunas. Elas são frequentemente usadas para representar sistemas de equações lineares, transformações lineares e muitos outros conceitos matemáticos.\n",
    "\n",
    "Frequantemente usamos os índices $i$ e $j$ para representar a linha e na coluna de um elemento, respectivamente, da matriz $A=\\left[a_{i j}\\right]_{m \\times n}$.\n",
    "\n",
    "$$A = \\begin{bmatrix}\n",
    "a_{11} & a_{12} & \\cdots & a_{1m} \\\\\n",
    "a_{21} & a_{22} & \\cdots & a_{2m} \\\\\n",
    "\\vdots & \\vdots & \\ddots & \\vdots \\\\\n",
    "a_{n1} & a_{n2} & \\cdots & a_{nm}\n",
    "\\end{bmatrix}$$\n",
    "\n",
    "\n",
    "\n",
    "A seguir vamos mostrar como criar, manipular e realizar algumas operações básicas com vetores e matrizes usando `numpy`. Para isso vamos utilizar a estrutura de dados `array`, que já conhecemos e é usada tanto para representar vetores quanto matrizes, um vetor é representado por um `array` unidimensional e uma matriz por um `array` bidimensional. Para acessar os elementos em um `array` usamos índices (iniciando em zero) em colcetes. Vejamos um exemplo.\n",
    "\n",
    "Lembrando que os índices dos *arrays* iniciam em $0$, então uma matriz em Python tem uma forma geral como a matriz $A =[a_{ij}]$, $i=0,...,n$ e $j=0,...,m$ representada abaixo. "
   ]
  },
  {
   "cell_type": "markdown",
   "metadata": {},
   "source": [
    "$$A = \\begin{bmatrix}\n",
    "a_{00} & a_{01} & \\cdots & a_{0m} \\\\\n",
    "a_{10} & a_{11} & \\cdots & a_{1m} \\\\\n",
    "\\vdots & \\vdots & \\ddots & \\vdots \\\\\n",
    "a_{n0} & a_{n1} & \\cdots & a_{nm}\n",
    "\\end{bmatrix}$$\n"
   ]
  },
  {
   "cell_type": "markdown",
   "metadata": {},
   "source": [
    "Sejam as matrizes $A =[a_{ij}]$, $B =[b_{ij}]$, e $C =[c_{ij}]$, com $i=0,...,n$ e $j=0,...,m$, algumas operações básicas incluem:\n",
    "\n",
    "- **Soma de matrizes:** $C=A+B$ tal que $c_{ij} = a_{ij} + b_{ij}$, para $i=0,...,n$ e $j=0,...,m$.\n",
    "\n",
    "\n",
    "- **Produto por escalar:** $C=k\\cdot A$,  tal que $c_{ij} = k\\cdot a_{ij}$, $k$ escalar, para $i=0,...,n$ e $j=0,...,m$.\n",
    "\n",
    "\n",
    "- **Produto de matrizes:** $M_{m \\times n} = A_{m \\times p} \\cdot B_{p\\times n}$ tal que $m_{ij} = \\sum_{k=0}^{m} a_{ik} \\cdot b_{kj}$. O produto de matrizes não comuta, em geral temos que\n",
    "$A \\cdot B \\neq B \\cdot A$.\n",
    "\n",
    "\n",
    "\n",
    "É facil fazer essas contas usando Python, vejamos os exemplos a seguir:\n"
   ]
  },
  {
   "cell_type": "code",
   "execution_count": 160,
   "metadata": {},
   "outputs": [
    {
     "name": "stdout",
     "output_type": "stream",
     "text": [
      "[[ 1  2  3]\n",
      " [-1  5  0]\n",
      " [ 7 -2  4]]\n"
     ]
    }
   ],
   "source": [
    "# definindo uma matriz A\n",
    "A = np.array([[1,2,3],[-1,5,0],[7,-2,4]])\n",
    "print(A)"
   ]
  },
  {
   "cell_type": "code",
   "execution_count": 161,
   "metadata": {},
   "outputs": [
    {
     "name": "stdout",
     "output_type": "stream",
     "text": [
      "[[ 0 -2  1]\n",
      " [ 1  0  5]\n",
      " [ 1 -2  2]]\n"
     ]
    }
   ],
   "source": [
    "# definindo uma matriz B\n",
    "B = np.array([[0,-2,1],[1,0,5],[1,-2,2]])\n",
    "print(B)"
   ]
  },
  {
   "cell_type": "code",
   "execution_count": 162,
   "metadata": {},
   "outputs": [
    {
     "data": {
      "text/plain": [
       "array([[ 1,  0,  4],\n",
       "       [ 0,  5,  5],\n",
       "       [ 8, -4,  6]])"
      ]
     },
     "execution_count": 162,
     "metadata": {},
     "output_type": "execute_result"
    }
   ],
   "source": [
    "# somando A e B\n",
    "A+B"
   ]
  },
  {
   "cell_type": "code",
   "execution_count": 163,
   "metadata": {},
   "outputs": [
    {
     "data": {
      "text/plain": [
       "array([[  5,  -8,  17],\n",
       "       [  5,   2,  24],\n",
       "       [  2, -22,   5]])"
      ]
     },
     "execution_count": 163,
     "metadata": {},
     "output_type": "execute_result"
    }
   ],
   "source": [
    "# multiplicando A por B\n",
    "A@B"
   ]
  },
  {
   "cell_type": "code",
   "execution_count": 164,
   "metadata": {},
   "outputs": [
    {
     "data": {
      "text/plain": [
       "array([[  5,  -8,  17],\n",
       "       [  5,   2,  24],\n",
       "       [  2, -22,   5]])"
      ]
     },
     "execution_count": 164,
     "metadata": {},
     "output_type": "execute_result"
    }
   ],
   "source": [
    "# ou \n",
    "A.dot(B)"
   ]
  },
  {
   "cell_type": "markdown",
   "metadata": {},
   "source": [
    "É fácil extrair uma linha da matriz, sua diagonal, obter sua transposta ou uma combinação linear. Veja os exemplos a seguir:\n"
   ]
  },
  {
   "cell_type": "code",
   "execution_count": 165,
   "metadata": {},
   "outputs": [
    {
     "data": {
      "text/plain": [
       "array([-1,  5,  0])"
      ]
     },
     "execution_count": 165,
     "metadata": {},
     "output_type": "execute_result"
    }
   ],
   "source": [
    "# pegando a segunda linha de A\n",
    "A[1]"
   ]
  },
  {
   "cell_type": "code",
   "execution_count": 166,
   "metadata": {},
   "outputs": [
    {
     "data": {
      "text/plain": [
       "array([1, 5, 4])"
      ]
     },
     "execution_count": 166,
     "metadata": {},
     "output_type": "execute_result"
    }
   ],
   "source": [
    "# pegando a diagonal de A\n",
    "np.diag(A)"
   ]
  },
  {
   "cell_type": "code",
   "execution_count": 167,
   "metadata": {},
   "outputs": [
    {
     "data": {
      "text/plain": [
       "array([[ 1, -1,  7],\n",
       "       [ 2,  5, -2],\n",
       "       [ 3,  0,  4]])"
      ]
     },
     "execution_count": 167,
     "metadata": {},
     "output_type": "execute_result"
    }
   ],
   "source": [
    "# transpondo\n",
    "A.T"
   ]
  },
  {
   "cell_type": "code",
   "execution_count": 168,
   "metadata": {},
   "outputs": [
    {
     "data": {
      "text/plain": [
       "array([[  2,  10,   3],\n",
       "       [ -5,  10, -15],\n",
       "       [ 11,   2,   2]])"
      ]
     },
     "execution_count": 168,
     "metadata": {},
     "output_type": "execute_result"
    }
   ],
   "source": [
    "# combinação linear\n",
    "2*A-3*B"
   ]
  },
  {
   "cell_type": "markdown",
   "metadata": {},
   "source": [
    "### Atividades:\n",
    "\n",
    "**1.** Dada a matriz \n",
    "$M= \\left[\\begin{array}{ccc} \n",
    "\t         1 & 2  & 3 \\\\ \n",
    "\t         -1 & 5 &  0 \\\\\n",
    "\t         7 & -2 &  4 \\\\\n",
    "\t         \\end{array} \\right]$\n",
    "e o vetor $v = \\left[ \n",
    "            \\begin{array}{c} \n",
    "\t          3 \\\\ \n",
    "\t         -1  \\\\\n",
    "\t          0 \\\\\n",
    "\t         \\end{array} \\right]$\n",
    "             \n",
    "defina os *arrays* para a matriz e o vetor e faça as seguintes operações:\n",
    "\n",
    "a) somar o 1º elemento de $v$ com o 2º elemento da terceira linha de $M$\n",
    "\n",
    "b) escrever a 3ª linha de $M$ somada à 1ª multiplicada por $-7$\n",
    "\n",
    "c) multiplicar $M$ por $v$\n",
    "\n",
    "d) obter os produtos escalar e vetorial de $v$ por $u=[5,-1,4]^T$\n",
    "\n",
    "e) calcular o módulo (norma Euclidiana) do vetor $v$\n",
    "\n",
    "f) escalonar a matriz $M$"
   ]
  },
  {
   "cell_type": "markdown",
   "metadata": {},
   "source": [
    "**2.** Crie três matrizes $3\\times 3$ diferentes $A$, $B$ e $C$ e verique que:\n",
    "\n",
    "a) $A+(B+C)=(A+B)+C$\n",
    "\n",
    "b) $(A \\cdot B) \\cdot C = A \\cdot (B \\cdot C)$\n",
    "\n",
    "c) $A \\cdot (B + C) = A \\cdot B + A \\cdot C$\n",
    "\n",
    "\n",
    "d) $(A + B) \\cdot C = A \\cdot C + B \\cdot C$\n",
    "\n",
    "e) $A \\cdot B$ geralmente é diferente de  $B \\cdot A$\n",
    "\n",
    "f) $k\\cdot A = [ka_{ij}]$, com $i,j=1,...,3$ e $k$ escalar\n",
    "\n",
    "g) $(a+b)A=aA+bA$, com $a$ e $b$ escalares.\n",
    "\n",
    "h) $a(A+B)=aA+aB$, com $a$ escalar."
   ]
  },
  {
   "cell_type": "markdown",
   "metadata": {},
   "source": [
    "**3.** Crie duas matrizes $3\\times 3$ diferentes $A$ e $B$ e verique que:\n",
    "\n",
    "a) $(A + B)^T = A^T + B^T$\n",
    "\n",
    "\n",
    "b) $(A \\cdot B)^T = B^T \\cdot A^T$\n",
    "\n",
    "\n",
    "c) $(A^T)^T = A$\n"
   ]
  }
 ],
 "metadata": {
  "kernelspec": {
   "display_name": "Python 3 (ipykernel)",
   "language": "python",
   "name": "python3"
  },
  "language_info": {
   "codemirror_mode": {
    "name": "ipython",
    "version": 3
   },
   "file_extension": ".py",
   "mimetype": "text/x-python",
   "name": "python",
   "nbconvert_exporter": "python",
   "pygments_lexer": "ipython3",
   "version": "3.12.4"
  }
 },
 "nbformat": 4,
 "nbformat_minor": 4
}
