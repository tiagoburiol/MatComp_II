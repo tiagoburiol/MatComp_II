{
 "cells": [
  {
   "cell_type": "markdown",
   "id": "70372fcb",
   "metadata": {},
   "source": [
    "## 2. Matrizes especiais e determinante\n",
    "\n",
    "Matrizes especiais são matrizes que possuem propriedades ou características específicas que as distinguem de matrizes comuns. Essas propriedades especiais podem ser úteis em várias aplicações matemáticas, científicas e de engenharia. Algumas das matrizes especiais mais comuns incluem:\n",
    "\n",
    "- **Matriz Identidade:** $I_{n \\times n}=[\\delta_{ij}]$ com $\\delta_{ij}=1$ se $i=j$ e $\\delta_{ij}=0$ se $i \\neq j$. \n",
    "\n",
    "\n",
    "- **Matriz Diagonal:** $A_{n \\times n}=[a_{ij}]$ com $a_{ij} = 0$ sempre que $i \\neq j$.\n",
    "\n",
    "\n",
    "- **Matriz Triangular Superior:** $A_{n \\times n}=[a_{ij}]$ em que $a_{ij} = 0$ sempre que $i>j$.\n",
    "\n",
    "\n",
    "- **Matriz Triangular Inferior:** $A_{n \\times n}=[a_{ij}]$ em que $a_{ij} = 0$ sempre que $i<j$.\n",
    "\n",
    "\n",
    "- **Matriz Simétrica:** Uma matriz $A$ é simetrica se e somente se $A^T = A$.\n",
    "\n",
    "\n",
    "- **Matriz Inversa:** Uma matriz $B$ é a matriz inversa de $A$ se $BA=AB=I$. A matriz inversa de $A$ é geralmente denotada por $A^{-1}$ \n",
    "\n",
    "\n",
    "- **Matriz Ortogonal:** Uma matriz cujas colunas são ortonormais (ou seja, possuem norma 1 e são mutuamente perpendiculares). A sua matriz transposta é também a sua inversa.\n",
    "\n",
    "\n",
    "- **Matriz de Vandermonde:** Uma matriz em que cada linha é uma *sequência geométrica* da linha anterior, muitas vezes usada em interpolação polinomial.\n",
    "\n",
    "\n",
    "O **determinante** de uma matriz é um valor único associado a uma matriz quadrada e pode ser calculado de várias maneiras, dependendo do tamanho da matriz.\n",
    "\n",
    "O determinante de uma matriz $A$ de ordem $n \\times n $ pode ser calculado usando a expansão em cofatores:\n",
    "\n",
    "$$\\det(A) = \\sum_{j=1}^{n} a_{ij} \\cdot C_{ij} = a_{i1} \\cdot C_{i1} + a_{i2} \\cdot C_{i2} + \\ldots + a_{in} \\cdot C_{in}$$\n",
    "\n",
    "onde $ a_{ij} $ é o elemento da $ i $-ésima linha e $ j $-ésima coluna de $ A $, e $ C_{ij} $ é o cofator associado ao elemento $ a_{ij} $\n",
    "\n",
    "$$ C_{ij} = (-1)^{i+j} \\cdot \\det(M_{ij})$$\n",
    "\n",
    "onde $ M_{ij} $ é a matriz obtida removendo a $i$-ésima linha e a $j$-ésima coluna de $A$.\n",
    "\n"
   ]
  },
  {
   "cell_type": "markdown",
   "id": "74ac0a7d",
   "metadata": {},
   "source": [
    "A seguir vamos ver alguns exemplos de como criar e operar matrizes com `numpy`."
   ]
  },
  {
   "cell_type": "code",
   "execution_count": 1,
   "id": "ebc547c3",
   "metadata": {},
   "outputs": [],
   "source": [
    "# importando\n",
    "import numpy as np"
   ]
  },
  {
   "cell_type": "markdown",
   "id": "fc10e987",
   "metadata": {},
   "source": [
    "**Exemplo 1:** É fácil criar uma matriz identidade, de ordem 3, veja o código a seguir:"
   ]
  },
  {
   "cell_type": "code",
   "execution_count": 2,
   "id": "6eba2ef6",
   "metadata": {},
   "outputs": [
    {
     "data": {
      "text/plain": [
       "array([[1., 0., 0.],\n",
       "       [0., 1., 0.],\n",
       "       [0., 0., 1.]])"
      ]
     },
     "execution_count": 2,
     "metadata": {},
     "output_type": "execute_result"
    }
   ],
   "source": [
    "np.identity(3)"
   ]
  },
  {
   "cell_type": "code",
   "execution_count": 3,
   "id": "87dff6e9",
   "metadata": {},
   "outputs": [
    {
     "data": {
      "text/plain": [
       "array([[1., 0., 0.],\n",
       "       [0., 1., 0.],\n",
       "       [0., 0., 1.]])"
      ]
     },
     "execution_count": 3,
     "metadata": {},
     "output_type": "execute_result"
    }
   ],
   "source": [
    "# ou, então\n",
    "np.eye(3)"
   ]
  },
  {
   "cell_type": "markdown",
   "id": "94f42bcb",
   "metadata": {},
   "source": [
    "**Exemplo 2:** funções `np.tril`, `np.triu` e `np.diag` podem ser usadas para extratir uma matriz triangular inferior e uma matriz triagular superior de uma matriz quadrada dada. Veja o exemplo a seguir:\n",
    "$$\n",
    "A = \\begin{bmatrix}\n",
    "    0.6711 & -0.1924 & 0.7163 \\\\\n",
    "    0.1924 & 0.9631 & 0.1924 \\\\\n",
    "   -0.7163 & 0.1924 & 0.6711\n",
    "\\end{bmatrix}\n",
    "$$"
   ]
  },
  {
   "cell_type": "code",
   "execution_count": 4,
   "id": "4bd76e6e",
   "metadata": {},
   "outputs": [
    {
     "name": "stdout",
     "output_type": "stream",
     "text": [
      "[[ 0.6711 -0.1924  0.7163]\n",
      " [ 0.1924  0.9631  0.1924]\n",
      " [-0.7163  0.1924  0.6711]]\n"
     ]
    }
   ],
   "source": [
    "A = np.array([[0.6711, -0.1924, 0.7163],\n",
    "              [0.1924, 0.9631, 0.1924],\n",
    "              [-0.7163, 0.1924, 0.6711]])\n",
    "\n",
    "print (A)"
   ]
  },
  {
   "cell_type": "code",
   "execution_count": 5,
   "id": "58329341",
   "metadata": {},
   "outputs": [
    {
     "data": {
      "text/plain": [
       "array([[ 0.6711,  0.    ,  0.    ],\n",
       "       [ 0.1924,  0.9631,  0.    ],\n",
       "       [-0.7163,  0.1924,  0.6711]])"
      ]
     },
     "execution_count": 5,
     "metadata": {},
     "output_type": "execute_result"
    }
   ],
   "source": [
    "np.tril(A)"
   ]
  },
  {
   "cell_type": "code",
   "execution_count": 6,
   "id": "10f9ba60",
   "metadata": {},
   "outputs": [
    {
     "data": {
      "text/plain": [
       "array([[ 0.6711, -0.1924,  0.7163],\n",
       "       [ 0.    ,  0.9631,  0.1924],\n",
       "       [ 0.    ,  0.    ,  0.6711]])"
      ]
     },
     "execution_count": 6,
     "metadata": {},
     "output_type": "execute_result"
    }
   ],
   "source": [
    "np.triu(A)"
   ]
  },
  {
   "cell_type": "code",
   "execution_count": 7,
   "id": "a9286916",
   "metadata": {},
   "outputs": [
    {
     "name": "stdout",
     "output_type": "stream",
     "text": [
      "[0.6711 0.9631 0.6711]\n"
     ]
    }
   ],
   "source": [
    "# extraindo a diagonal\n",
    "d = np.diag(A)\n",
    "print(d)"
   ]
  },
  {
   "cell_type": "code",
   "execution_count": 8,
   "id": "3e231dfa",
   "metadata": {},
   "outputs": [
    {
     "data": {
      "text/plain": [
       "array([[0.6711, 0.    , 0.    ],\n",
       "       [0.    , 0.9631, 0.    ],\n",
       "       [0.    , 0.    , 0.6711]])"
      ]
     },
     "execution_count": 8,
     "metadata": {},
     "output_type": "execute_result"
    }
   ],
   "source": [
    "# criando uma matriz diagonal\n",
    "np.diag(d)"
   ]
  },
  {
   "cell_type": "markdown",
   "id": "572b092c",
   "metadata": {},
   "source": [
    "**Exemplo 4:** Vamos verificar se a matriz $A$ do Exemplo 2 é simétrica. "
   ]
  },
  {
   "cell_type": "code",
   "execution_count": 9,
   "id": "5dcfd6f8",
   "metadata": {},
   "outputs": [
    {
     "data": {
      "text/plain": [
       "array([[ 0.6711,  0.1924, -0.7163],\n",
       "       [-0.1924,  0.9631,  0.1924],\n",
       "       [ 0.7163,  0.1924,  0.6711]])"
      ]
     },
     "execution_count": 9,
     "metadata": {},
     "output_type": "execute_result"
    }
   ],
   "source": [
    "A.T"
   ]
  },
  {
   "cell_type": "markdown",
   "id": "fd6caead",
   "metadata": {},
   "source": [
    "Não é simétrica pois $A^T \\neq A$."
   ]
  },
  {
   "cell_type": "code",
   "execution_count": 10,
   "id": "753cfd0b",
   "metadata": {},
   "outputs": [
    {
     "data": {
      "text/plain": [
       "array([[ True, False, False],\n",
       "       [False,  True,  True],\n",
       "       [False,  True,  True]])"
      ]
     },
     "execution_count": 10,
     "metadata": {},
     "output_type": "execute_result"
    }
   ],
   "source": [
    "A.T==A"
   ]
  },
  {
   "cell_type": "markdown",
   "id": "42fcad5b",
   "metadata": {},
   "source": [
    "**Exemplo 5:** Vamos obter a inversa de $A$ e verificar se $A^{-1}A=AA^{-1}=I$. "
   ]
  },
  {
   "cell_type": "code",
   "execution_count": 11,
   "id": "f8cea1f6",
   "metadata": {},
   "outputs": [
    {
     "data": {
      "text/plain": [
       "array([[ 0.62115739,  0.27212218, -0.74100931],\n",
       "       [-0.27212218,  0.98218044,  0.00886545],\n",
       "       [ 0.74100931,  0.00886545,  0.69663138]])"
      ]
     },
     "execution_count": 11,
     "metadata": {},
     "output_type": "execute_result"
    }
   ],
   "source": [
    "Ainv = np.linalg.inv(A)\n",
    "Ainv"
   ]
  },
  {
   "cell_type": "code",
   "execution_count": 12,
   "id": "07563a57",
   "metadata": {},
   "outputs": [
    {
     "data": {
      "text/plain": [
       "array([[ 1.00000000e+00, -1.23708264e-17,  1.16162798e-17],\n",
       "       [ 3.05418100e-17,  1.00000000e+00, -2.07374958e-17],\n",
       "       [-4.77414439e-17, -5.93446459e-18,  1.00000000e+00]])"
      ]
     },
     "execution_count": 12,
     "metadata": {},
     "output_type": "execute_result"
    }
   ],
   "source": [
    "A@Ainv"
   ]
  },
  {
   "cell_type": "markdown",
   "id": "597548bb",
   "metadata": {},
   "source": [
    "Isso ficou um pouco estranho. Melhor arredondar..."
   ]
  },
  {
   "cell_type": "code",
   "execution_count": 13,
   "id": "b11100a7",
   "metadata": {},
   "outputs": [
    {
     "data": {
      "text/plain": [
       "array([[ 1., -0.,  0.],\n",
       "       [ 0.,  1., -0.],\n",
       "       [-0., -0.,  1.]])"
      ]
     },
     "execution_count": 13,
     "metadata": {},
     "output_type": "execute_result"
    }
   ],
   "source": [
    "np.round(A@Ainv)"
   ]
  },
  {
   "cell_type": "code",
   "execution_count": 14,
   "id": "acd0d2aa",
   "metadata": {},
   "outputs": [
    {
     "data": {
      "text/plain": [
       "array([[ 1.00000000e+00, -3.05418100e-17,  4.77414439e-17],\n",
       "       [ 2.47966507e-17,  1.00000000e+00, -1.75761938e-17],\n",
       "       [-1.16162798e-17,  7.01807977e-18,  1.00000000e+00]])"
      ]
     },
     "execution_count": 14,
     "metadata": {},
     "output_type": "execute_result"
    }
   ],
   "source": [
    "Ainv@A"
   ]
  },
  {
   "cell_type": "markdown",
   "id": "1cbf4dc6",
   "metadata": {},
   "source": [
    "Para ficar perfeito vamos tomar o valor absoluto"
   ]
  },
  {
   "cell_type": "code",
   "execution_count": 15,
   "id": "b3cec4a8",
   "metadata": {},
   "outputs": [
    {
     "data": {
      "text/plain": [
       "array([[1., 0., 0.],\n",
       "       [0., 1., 0.],\n",
       "       [0., 0., 1.]])"
      ]
     },
     "execution_count": 15,
     "metadata": {},
     "output_type": "execute_result"
    }
   ],
   "source": [
    "abs(np.round(Ainv@A))"
   ]
  },
  {
   "cell_type": "markdown",
   "id": "ad9679a1",
   "metadata": {},
   "source": [
    "Agora sim!"
   ]
  },
  {
   "cell_type": "markdown",
   "id": "7ab95032",
   "metadata": {},
   "source": [
    "**Exemplo 6:** Verificar se a matriz $A$ do Exemplo 2 é uma matriz ortogonal."
   ]
  },
  {
   "cell_type": "code",
   "execution_count": 16,
   "id": "18101fe4",
   "metadata": {},
   "outputs": [
    {
     "name": "stdout",
     "output_type": "stream",
     "text": [
      "[ 0.6711  0.1924 -0.7163]\n",
      "[-0.1924  0.9631  0.1924]\n",
      "[0.7163 0.1924 0.6711]\n"
     ]
    }
   ],
   "source": [
    "# extraindo as colunas de A\n",
    "c1 = A[:,0]\n",
    "c2 = A[:,1]\n",
    "c3 = A[:,2]\n",
    "\n",
    "print (c1)\n",
    "print (c2)\n",
    "print (c3)"
   ]
  },
  {
   "cell_type": "code",
   "execution_count": 17,
   "id": "df39ba83",
   "metadata": {},
   "outputs": [
    {
     "name": "stdout",
     "output_type": "stream",
     "text": [
      "1.0\n",
      "1.0\n",
      "1.0\n"
     ]
    }
   ],
   "source": [
    "#norma das colunas de A\n",
    "n1 = np.linalg.norm(c1,ord=2)\n",
    "n2 = np.linalg.norm(c2,ord=2)\n",
    "n3 = np.linalg.norm(c3,ord=2)\n",
    "\n",
    "print (np.round(n1,2))\n",
    "print (np.round(n2,2))\n",
    "print (np.round(n3,2))"
   ]
  },
  {
   "cell_type": "code",
   "execution_count": 18,
   "id": "14d05dcd",
   "metadata": {},
   "outputs": [
    {
     "name": "stdout",
     "output_type": "stream",
     "text": [
      "-0.08163532000000004\n",
      "0.03701776000000001\n",
      "0.03701776000000001\n"
     ]
    }
   ],
   "source": [
    "# produtos internos\n",
    "print(c1.dot(c2))\n",
    "print(c1.dot(c3))\n",
    "print(c3.dot(c1))"
   ]
  },
  {
   "cell_type": "markdown",
   "id": "7fcbe26f",
   "metadata": {},
   "source": [
    "**Exemplo 7:** Um exemplo e uma matriz de  Vandermonde é\n",
    "$$\n",
    "M = \\begin{bmatrix}\n",
    "1 & x_1 & x_1^2 \\\\\n",
    "1 & x_2 & x_2^2 \\\\\n",
    "1 & x_3 & x_3^2 \\\\\n",
    "\\end{bmatrix}\n",
    "= \\begin{bmatrix}\n",
    "1 & 2 & 4 \\\\\n",
    "1 & 3 & 9 \\\\\n",
    "1 & 4 & 16 \\\\\n",
    "\\end{bmatrix}\n",
    "$$\n",
    "\n",
    "Podemos criar uma matriz assim com essa usando `numpy` como é mostrado a seguir."
   ]
  },
  {
   "cell_type": "code",
   "execution_count": 19,
   "id": "d3f798fb",
   "metadata": {},
   "outputs": [
    {
     "name": "stdout",
     "output_type": "stream",
     "text": [
      "[[ 1  2  4]\n",
      " [ 1  3  9]\n",
      " [ 1  4 16]]\n"
     ]
    }
   ],
   "source": [
    "x = np.array([2,3,4])\n",
    "M = np.array([x**0, x**1, x**2]).T\n",
    "print (M)"
   ]
  },
  {
   "cell_type": "markdown",
   "id": "6383b8d4",
   "metadata": {},
   "source": [
    "**Exemplo 8:** Vamos calcular o determinante das matrizes $A$ e $M$."
   ]
  },
  {
   "cell_type": "code",
   "execution_count": 20,
   "id": "88e1ca6b",
   "metadata": {},
   "outputs": [
    {
     "data": {
      "text/plain": [
       "0.9809408357660001"
      ]
     },
     "execution_count": 20,
     "metadata": {},
     "output_type": "execute_result"
    }
   ],
   "source": [
    "np.linalg.det(A)"
   ]
  },
  {
   "cell_type": "markdown",
   "id": "3369a40e",
   "metadata": {},
   "source": [
    "É possível provar que o determinante de uma matriz ortogonal é igual a $1$, mas devido a limitações na representação interna de números com muitas casas decimais no computador, o resultado não é exato."
   ]
  },
  {
   "cell_type": "code",
   "execution_count": 21,
   "id": "ad97f842",
   "metadata": {},
   "outputs": [
    {
     "data": {
      "text/plain": [
       "2.0"
      ]
     },
     "execution_count": 21,
     "metadata": {},
     "output_type": "execute_result"
    }
   ],
   "source": [
    "np.linalg.det(M)"
   ]
  },
  {
   "cell_type": "markdown",
   "id": "ba6907da",
   "metadata": {},
   "source": [
    "### Atividades:\n",
    "**1.** Crie três matrizes $3\\times 3$ diferentes $A$, $B$ e $C$ e verique que:\n",
    "\n",
    "a) $(AB^{-1})=A^{-1}B^{-1}$\n",
    "\n",
    "b) $\\det(B^T) = det(B)$\n",
    "\n",
    "c) $\\det(kA)=k^3\\det(A)$\n",
    "\n",
    "d) $\\det(AB)=\\det(A)\\det(B)$\n",
    "\n",
    "e) Se $\\det(A) \\neq 0$ , então, $\\det(A^{-1})=\\frac{1}{\\det(A)}$. Verifique.\n",
    "\n",
    "f) Repita a verificação da letra e para as matrizes $B$ e $C$\n",
    "\n",
    "\n",
    "**2.** Calcule o determinante da matriz \n",
    "\n",
    "$$A = \\begin{bmatrix}\n",
    "    \\frac{\\sqrt{2}}{2} & -\\frac{\\sqrt{2}}{2} \\\\\n",
    "    \\frac{\\sqrt{2}}{2} & \\frac{\\sqrt{2}}{2}\n",
    "\\end{bmatrix}$$\n",
    "\n",
    "Esta é uma matriz ortogonal?"
   ]
  },
  {
   "cell_type": "code",
   "execution_count": null,
   "id": "076d0443",
   "metadata": {},
   "outputs": [],
   "source": []
  }
 ],
 "metadata": {
  "kernelspec": {
   "display_name": "Python 3",
   "language": "python",
   "name": "python3"
  },
  "language_info": {
   "codemirror_mode": {
    "name": "ipython",
    "version": 3
   },
   "file_extension": ".py",
   "mimetype": "text/x-python",
   "name": "python",
   "nbconvert_exporter": "python",
   "pygments_lexer": "ipython3",
   "version": "3.8.5"
  }
 },
 "nbformat": 4,
 "nbformat_minor": 5
}
