{
 "cells": [
  {
   "cell_type": "markdown",
   "metadata": {},
   "source": [
    "## Atividade #3\n",
    "\n",
    "### Máximos e mínimos"
   ]
  },
  {
   "cell_type": "markdown",
   "metadata": {},
   "source": [
    "**Questão 1:** Determine e classifique os pontos críticos da função \n",
    "\n",
    "$$f(x,y)=10x^2y-5x^2-4y^2-x^4-2y^4$$ \n",
    "\n",
    "Determine também o ponto mais alto do gráfico de $f$. Confirme graficamente."
   ]
  },
  {
   "cell_type": "markdown",
   "metadata": {},
   "source": [
    "**Questão 2:** Use as ferramentas computacionais estudadas para estimar graficamente a localização dos pontos críticos de $f$ e decidir se são pontos de sela, de máximo local ou mínimo local. Em seguida use o teste da derivada segunda para confirmar as predições.\n",
    "\n",
    "a) $f(x,y)=4+x^3+y^3-3xy$\n",
    "\n",
    "b) $f(x,y)=3x-x^3-2y^2+y^4$"
   ]
  },
  {
   "cell_type": "code",
   "execution_count": null,
   "metadata": {},
   "outputs": [],
   "source": []
  }
 ],
 "metadata": {
  "kernelspec": {
   "display_name": "Python 3",
   "language": "python",
   "name": "python3"
  },
  "language_info": {
   "codemirror_mode": {
    "name": "ipython",
    "version": 3
   },
   "file_extension": ".py",
   "mimetype": "text/x-python",
   "name": "python",
   "nbconvert_exporter": "python",
   "pygments_lexer": "ipython3",
   "version": "3.8.5"
  }
 },
 "nbformat": 4,
 "nbformat_minor": 4
}
