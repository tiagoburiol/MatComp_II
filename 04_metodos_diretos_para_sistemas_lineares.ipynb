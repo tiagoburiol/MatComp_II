{
 "cells": [
  {
   "cell_type": "markdown",
   "id": "d050d2b4",
   "metadata": {},
   "source": [
    "## 4. Métodos diretos para sistemas lineares\n",
    "\n",
    "Os métodos diretos para resolução de sistemas lineares teoricamente dão a solução exata do sistema em um número finito de passos. Na prática, as soluções podem conter erros de arredondamento devido à aritmética que está sendo usada. \n",
    "\n",
    "Os métodos diretos de eliminação consistem no processo \n",
    "de transformar um sistema de equações lineares $Ax=b$, em que $A= [a_{ij}]_i,j=1,..,n$, \n",
    "$x=[x_1,x_2,...,x_n]^t$ e $b=[b_1, b_2,...,b_n]^t$, em um sistema equivalente, \n",
    "aplicando operações elementares sobre as linhas da matriz aumentada $[A \\mid b]$. O sistema equivalente obtido ao final do processo, deve ser de \n",
    "resolução mais simples ou imediata, por substituição direta. \n",
    "\n",
    "O método de **eliminação de Gauss** é o método direto usado para escalonar a matriz que representa um sistema linear com o objetivo de obter um ou mais sistemas triangulares, os quais podem ser resolvidos por subtituições subsequentes. Outros métodos diretos podem envolver fatorar a matriz dos coeficientes do sistema em um produto de duas ou mais matrizes, como é o caso do método por fatoração LU, que será abordado nesse texto. \n"
   ]
  },
  {
   "cell_type": "markdown",
   "id": "224806c4",
   "metadata": {},
   "source": [
    "Antes disso, vamos relembrar as algoritmos já implementados nas aulas anteriores.\n",
    "#### Funções para escalonar uma matriz e para resolver sistemas triangulares"
   ]
  },
  {
   "cell_type": "code",
   "execution_count": 1,
   "id": "66319b36",
   "metadata": {},
   "outputs": [],
   "source": [
    "import numpy as np\n",
    "\n",
    "# função para escalonar (sem pivoteamento)\n",
    "def escalona(M):\n",
    "    n = len(M)\n",
    "    for j in range(n-1):\n",
    "        for i in range(j,n-1):            \n",
    "            m = M[i+1,j]/M[j,j]\n",
    "            M[i+1] = M[i+1]-m*M[j]\n",
    "    return (M)\n",
    "\n",
    "# função para sistema triangular inferior\n",
    "def solve_tril(L,b):\n",
    "    y = np.empty(len(b))\n",
    "    for i in range(len(b)): \n",
    "        y[i] = (b[i] - np.dot(L[i,0:i],y[0:i]))/L[i][i] \n",
    "    return y\n",
    "\n",
    "# função para sistema triangular superior\n",
    "def solve_triu(U,y):\n",
    "    n=len(y)\n",
    "    x = np.empty(n)\n",
    "    for i in range(n-1, -1, -1):\n",
    "        x[i] = (y[i] - np.sum(U[i,i+1:n+1]*x[i+1:n+1]))/U[i,i]\n",
    "    return x"
   ]
  },
  {
   "cell_type": "markdown",
   "id": "b84e5534",
   "metadata": {},
   "source": [
    "### Eliminação de Gauss\n",
    "Consiste em aplicar sucessivas operações elementares sobre as equações de um sistema linear (ou sobre as linhas da matriz aumentada), para o transformá-lo num sistema equivalente (mesma solução) de mais fácil resolução que o original.\n",
    "\n",
    "As operações elementares são:\n",
    "\n",
    "1. Permutar duas linhas \n",
    "2. Multiplicar uma linha por uma constante não-nula\n",
    "3. Somar uma linha a um múltiplo de outra linha."
   ]
  },
  {
   "cell_type": "markdown",
   "id": "264ce00b",
   "metadata": {},
   "source": [
    "**Exemplo 1:** Vamos neste exemplo revisar o sistema linear abaixo, já estudado anteriormente ([fonte](https://integrada.minhabiblioteca.com.br/reader/books/9788522123414/pageid/418)). Vamos resolvê-lo por eliminação de Gauss.\n",
    "\n",
    "$$\n",
    "\\begin{aligned}\n",
    "x_1-x_2+2 x_3-x_4 & =-8, \\\\\n",
    "2 x_1-2 x_2+3 x_3-3 x_4 & =-20, \\\\\n",
    "x_1+x_2+x_3 & =-2, \\\\\n",
    "x_1-x_2+4 x_3+3 x_4 & =4 .\n",
    "\\end{aligned}\n",
    "$$\n"
   ]
  },
  {
   "cell_type": "markdown",
   "id": "a257b83e",
   "metadata": {},
   "source": [
    "Para isso, vamos analisar o escalonamento, coluna por coluna."
   ]
  },
  {
   "cell_type": "code",
   "execution_count": 2,
   "id": "b2cf6f8d",
   "metadata": {},
   "outputs": [],
   "source": [
    "# escrevendo a matriz ampliada\n",
    "M = np.array([[1,-1,2,-1,-8],\n",
    "              [2,-2,3,-3,-20],\n",
    "              [1,1,1,0,-2],\n",
    "              [1,-1,4,3,4]], dtype=float)"
   ]
  },
  {
   "cell_type": "code",
   "execution_count": 3,
   "id": "2f221694",
   "metadata": {},
   "outputs": [
    {
     "name": "stdout",
     "output_type": "stream",
     "text": [
      "[[ 1. -1.  2. -1. -8.]\n",
      " [ 0.  0. -1. -1. -4.]\n",
      " [ 0.  2. -1.  1.  6.]\n",
      " [ 0.  0.  2.  4. 12.]]\n"
     ]
    }
   ],
   "source": [
    "# zerando os elementos da primeira coluna \n",
    "m21 = M[1,0]/M[0,0]\n",
    "M[1] = M[1] - m21*M[0]\n",
    "\n",
    "m31 = M[2,0]/M[0,0]\n",
    "M[2] = M[2] - m31*M[0]\n",
    "\n",
    "m41 = M[3,0]/M[0,0]\n",
    "M[3] = M[3] - m31*M[0]\n",
    "\n",
    "print (M)"
   ]
  },
  {
   "cell_type": "markdown",
   "id": "3c12f8cb",
   "metadata": {},
   "source": [
    "Observemos que o elemento pivô na segunda linha é zero, portanto, para que o processo de eliminação possa ser continuado, é necessário realizar uma troca de linhas. O código abaixo mostra como permutar a segunda e a terceira linhas."
   ]
  },
  {
   "cell_type": "code",
   "execution_count": 4,
   "id": "c79aab0a",
   "metadata": {},
   "outputs": [
    {
     "name": "stdout",
     "output_type": "stream",
     "text": [
      "[[ 1. -1.  2. -1. -8.]\n",
      " [ 0.  2. -1.  1.  6.]\n",
      " [ 0.  0. -1. -1. -4.]\n",
      " [ 0.  0.  2.  4. 12.]]\n"
     ]
    }
   ],
   "source": [
    "M[[1,2]] = M[[2,1]]\n",
    "print(M)"
   ]
  },
  {
   "cell_type": "markdown",
   "id": "d396b795",
   "metadata": {},
   "source": [
    "Agora podemos seguir o escalonamento na terceira coluna."
   ]
  },
  {
   "cell_type": "code",
   "execution_count": 5,
   "id": "86d0cad1",
   "metadata": {},
   "outputs": [
    {
     "name": "stdout",
     "output_type": "stream",
     "text": [
      "[[ 1. -1.  2. -1. -8.]\n",
      " [ 0.  2. -1.  1.  6.]\n",
      " [ 0.  0. -1. -1. -4.]\n",
      " [ 0.  0.  0.  2.  4.]]\n"
     ]
    }
   ],
   "source": [
    "# zerando os elementos da terceira coluna \n",
    "m = M[3,2]/M[2,2]\n",
    "M[3] = M[3] - m*M[2]\n",
    "print (M)"
   ]
  },
  {
   "cell_type": "code",
   "execution_count": 6,
   "id": "1c502b65",
   "metadata": {},
   "outputs": [
    {
     "name": "stdout",
     "output_type": "stream",
     "text": [
      "[-7.  3.  2.  2.]\n"
     ]
    }
   ],
   "source": [
    "# solução do sistema\n",
    "x = solve_triu(M[:,:-1], M[:,-1])\n",
    "print(x)"
   ]
  },
  {
   "cell_type": "markdown",
   "id": "6e0b47fe",
   "metadata": {},
   "source": [
    "Como foi possível perceber, algumas vezes é preciso permutar as linhas de uma matriz para evitar divizões por zero durante o processo de escalonamento. \n",
    "\n",
    "Uma função bastante útil para tratar esse tipo de situação é a função `numpy.roll()`, que \"rola\" os elementos do array ao longo do eixo especificado. Se o elemento a ser deslocado estiver na última posição, ele será levado de volta para a primeira posição. Veja um exemplo a seguir."
   ]
  },
  {
   "cell_type": "code",
   "execution_count": 7,
   "id": "20eb5c40",
   "metadata": {},
   "outputs": [
    {
     "data": {
      "text/plain": [
       "array([[ 0.,  0.,  0.,  2.,  4.],\n",
       "       [ 1., -1.,  2., -1., -8.],\n",
       "       [ 0.,  2., -1.,  1.,  6.],\n",
       "       [ 0.,  0., -1., -1., -4.]])"
      ]
     },
     "execution_count": 7,
     "metadata": {},
     "output_type": "execute_result"
    }
   ],
   "source": [
    "# rolando as linhas de M para baixo uma vez\n",
    "np.roll(M, 1, axis=0)"
   ]
  },
  {
   "cell_type": "code",
   "execution_count": 8,
   "id": "38c3403a",
   "metadata": {},
   "outputs": [
    {
     "data": {
      "text/plain": [
       "array([[ 0.,  0., -1., -1., -4.],\n",
       "       [ 0.,  0.,  0.,  2.,  4.],\n",
       "       [ 1., -1.,  2., -1., -8.],\n",
       "       [ 0.,  2., -1.,  1.,  6.]])"
      ]
     },
     "execution_count": 8,
     "metadata": {},
     "output_type": "execute_result"
    }
   ],
   "source": [
    "# rolando as linhas de A para cima duas vezes\n",
    "np.roll(M, -2, axis=0)"
   ]
  },
  {
   "cell_type": "markdown",
   "id": "7fa4f68f",
   "metadata": {},
   "source": [
    "**Exemplo 2:** \n",
    "Use a função `roll` para modificar a função `escalona`, de modo que elementos nulos na posição dos pivôs sejam substituídos pela troca de linhas da matriz.\n",
    "Use a matriz do Exemplo 1 para testar.\n"
   ]
  },
  {
   "cell_type": "code",
   "execution_count": 9,
   "id": "e43767f7",
   "metadata": {},
   "outputs": [],
   "source": [
    "M = np.array([[1,-1,2,-1,-8],\n",
    "              [2,-2,3,-3,-20],\n",
    "              [1,1,1,0,-2],\n",
    "              [1,-1,4,3,4]], dtype=float)"
   ]
  },
  {
   "cell_type": "code",
   "execution_count": 10,
   "id": "efdd365c",
   "metadata": {},
   "outputs": [],
   "source": [
    "def escalona2(M):\n",
    "    n = len(M)\n",
    "    for j in range(n-1):\n",
    "        for i in range(j,n-1): \n",
    "            # rolando as linhas\n",
    "            while M[j,j]==0:\n",
    "                M[j:,:] = np.roll(M[j:,:], -1, axis=0)\n",
    "                \n",
    "            m = M[i+1,j]/M[j,j]\n",
    "            M[i+1] = M[i+1]-m*M[j]\n",
    "    return (M)"
   ]
  },
  {
   "cell_type": "code",
   "execution_count": 11,
   "id": "b152add8",
   "metadata": {},
   "outputs": [
    {
     "name": "stdout",
     "output_type": "stream",
     "text": [
      "[[ 1. -1.  2. -1. -8.]\n",
      " [ 0.  2. -1.  1.  6.]\n",
      " [ 0.  0.  2.  4. 12.]\n",
      " [ 0.  0.  0.  1.  2.]]\n"
     ]
    }
   ],
   "source": [
    "M = escalona2(M)\n",
    "print(M)"
   ]
  },
  {
   "cell_type": "code",
   "execution_count": 12,
   "id": "b31bc82f",
   "metadata": {},
   "outputs": [
    {
     "name": "stdout",
     "output_type": "stream",
     "text": [
      "[-7.  3.  2.  2.]\n"
     ]
    }
   ],
   "source": [
    "# solução do sistema\n",
    "x = solve_triu(M[:,:-1], M[:,-1])\n",
    "print(x)"
   ]
  },
  {
   "cell_type": "markdown",
   "id": "4995963c",
   "metadata": {},
   "source": [
    "Observe que a matriz escalonada é diferente da matriz obtida no Exemplo 1 pois a troca de linha ocorreu de forma diferente durante o processo. Mesmo assim, o resultado final é o mesmo, como já era esperado."
   ]
  },
  {
   "cell_type": "markdown",
   "id": "18999573",
   "metadata": {},
   "source": [
    "**Exemplo 3:**\n",
    "Resolva o seguinte sistema pelo método de eliminação de Gauss.\n",
    "\n",
    "$$\n",
    "\\begin{aligned}\n",
    "2 x_1+x_2-x_3+x_4-3 x_5 & =7 \\\\\n",
    "x_1+2 x_3-x_4+x_5 & =2 \\\\\n",
    "-2 x_2-x_3+x_4-x_5 & =-5 \\\\\n",
    "3 x_1+x_2-4 x_3+5 x_5 & =6 \\\\\n",
    "x_1-x_2-x_3-x_4+x_5 & =3\n",
    "\\end{aligned}\n",
    "$$"
   ]
  },
  {
   "cell_type": "code",
   "execution_count": 13,
   "id": "2e9b4642",
   "metadata": {},
   "outputs": [],
   "source": [
    "M = np.array([[2,1,-1,1,-3,7],\n",
    "             [1,0,2,-1,1,2],\n",
    "             [0,-2,-1,1,-1,-5],\n",
    "             [3,1,-4,0,5,6],\n",
    "             [1,-1,-1,-1,1,3]], dtype=float)"
   ]
  },
  {
   "cell_type": "code",
   "execution_count": 14,
   "id": "e8927630",
   "metadata": {},
   "outputs": [
    {
     "data": {
      "text/plain": [
       "array([[  2.   ,   1.   ,  -1.   ,   1.   ,  -3.   ,   7.   ],\n",
       "       [  0.   ,  -0.5  ,   2.5  ,  -1.5  ,   2.5  ,  -1.5  ],\n",
       "       [  0.   ,   0.   , -11.   ,   7.   , -11.   ,   1.   ],\n",
       "       [  0.   ,   0.   ,   0.   ,  -3.182,  12.   ,  -3.455],\n",
       "       [  0.   ,   0.   ,   0.   ,   0.   ,  -4.886,   5.543]])"
      ]
     },
     "execution_count": 14,
     "metadata": {},
     "output_type": "execute_result"
    }
   ],
   "source": [
    "Mt = escalona(M.copy())\n",
    "np.round(Mt,3)"
   ]
  },
  {
   "cell_type": "code",
   "execution_count": 15,
   "id": "a1826a95",
   "metadata": {},
   "outputs": [
    {
     "name": "stdout",
     "output_type": "stream",
     "text": [
      "[ 1.91812865  1.96491228 -0.98830409 -3.19298246 -1.13450292]\n"
     ]
    }
   ],
   "source": [
    "# solução do sistema\n",
    "x = solve_triu(Mt[:,:-1], Mt[:,-1])\n",
    "print(x)"
   ]
  },
  {
   "cell_type": "code",
   "execution_count": 16,
   "id": "b88b8d45",
   "metadata": {},
   "outputs": [
    {
     "data": {
      "text/plain": [
       "True"
      ]
     },
     "execution_count": 16,
     "metadata": {},
     "output_type": "execute_result"
    }
   ],
   "source": [
    "# verificando\n",
    "np.allclose(M[:,:-1]@x, M[:,-1])"
   ]
  },
  {
   "cell_type": "code",
   "execution_count": 17,
   "id": "4b98a710",
   "metadata": {},
   "outputs": [
    {
     "name": "stdout",
     "output_type": "stream",
     "text": [
      "[ 7.  2. -5.  6.  3.]\n"
     ]
    }
   ],
   "source": [
    "print(M[:,:-1]@x)"
   ]
  },
  {
   "cell_type": "markdown",
   "id": "5c7aa4ac",
   "metadata": {},
   "source": [
    "**Exemplo 4:** Use o algoritmo de eliminação de Gauss para resolver os seguintes sistemas lineares, se possível, e determine se são necessárias trocas de linhas ([fonte](https://integrada.minhabiblioteca.com.br/reader/books/9788522123414/pageid/424))\n",
    "\n",
    "a)$\n",
    "\\begin{aligned}\n",
    "x_1+x_2+x_4 & =2, \\\\\n",
    "2 x_1+x_2-x_3+x_4 & =1, \\\\\n",
    "4 x_1-x_2-2 x_3+2 x_4 & =0, \\\\\n",
    "3 x_1-x_2-x_3+2 x_4 & =-3 .\n",
    "\\end{aligned}\n",
    "\\quad \\quad$\n",
    "b)\n",
    "$\n",
    "\\begin{aligned}\n",
    "x_1-\\frac{1}{2} x_2+x_3 & =4 \\\\\n",
    "2 x_1-x_2-x_3+x_4 & =5 \\\\\n",
    "x_1+x_2+\\frac{1}{2} x_3 & =2 \\\\\n",
    "x_1-\\frac{1}{2} x_2+x_3+x_4 & =5\n",
    "\\end{aligned}\n",
    "\\quad \\quad$\n",
    "c)\n",
    "$\\begin{aligned} \n",
    "x_1+x_2+x_4 & =2, \\\\ \n",
    "2 x_1+x_2-x_3+x_4 & =1, \\\\ \n",
    "-x_1+2 x_2+3 x_3-x_4 & =4, \\\\ \n",
    "3 x_1-x_2-x_3+2 x_4 & =-3 .\n",
    "\\end{aligned}$"
   ]
  },
  {
   "cell_type": "code",
   "execution_count": 18,
   "id": "0b8ec100",
   "metadata": {},
   "outputs": [],
   "source": [
    "M1 = np.array([[1,1,0,1,2],[2,1,-1,1,1],[4,-1,-2,2,0],[3,-1,-1,2,-3]],dtype=float)\n",
    "M2 = np.array([[1,-0.5,1,0,4],[2,-1,-1,1,5],[1,1,0.5,0,2],[1,-0.5,1,1,5]],dtype=float)\n",
    "M3 = np.array([[1,1,0,1,2],[2,1,-1,1,1],[-1,2,3,-1,4],[3,-1,-1,2,-3]],dtype=float)"
   ]
  },
  {
   "cell_type": "markdown",
   "id": "a7e65e88",
   "metadata": {},
   "source": [
    "*Solução letra a):*"
   ]
  },
  {
   "cell_type": "code",
   "execution_count": 19,
   "id": "c069eb49",
   "metadata": {},
   "outputs": [
    {
     "data": {
      "text/plain": [
       "array([[ 1.,  1.,  0.,  1.,  2.],\n",
       "       [ 0., -1., -1., -1., -3.],\n",
       "       [ 0.,  0.,  3.,  3.,  7.],\n",
       "       [ 0.,  0.,  0.,  0., -4.]])"
      ]
     },
     "execution_count": 19,
     "metadata": {},
     "output_type": "execute_result"
    }
   ],
   "source": [
    "M1e = escalona(M1)\n",
    "M1e"
   ]
  },
  {
   "cell_type": "markdown",
   "id": "864c27bb",
   "metadata": {},
   "source": [
    "Sistema impossível.\n",
    "\n",
    "*Solução letra b):*"
   ]
  },
  {
   "cell_type": "code",
   "execution_count": 20,
   "id": "87519e5e",
   "metadata": {},
   "outputs": [
    {
     "name": "stderr",
     "output_type": "stream",
     "text": [
      "/tmp/ipykernel_8382/899190976.py:8: RuntimeWarning: divide by zero encountered in scalar divide\n",
      "  m = M[i+1,j]/M[j,j]\n",
      "/tmp/ipykernel_8382/899190976.py:9: RuntimeWarning: invalid value encountered in multiply\n",
      "  M[i+1] = M[i+1]-m*M[j]\n",
      "/tmp/ipykernel_8382/899190976.py:8: RuntimeWarning: invalid value encountered in scalar divide\n",
      "  m = M[i+1,j]/M[j,j]\n"
     ]
    },
    {
     "data": {
      "text/plain": [
       "array([[ 1. , -0.5,  1. ,  0. ,  4. ],\n",
       "       [ 0. ,  0. , -3. ,  1. , -3. ],\n",
       "       [ nan,  nan,  inf, -inf,  inf],\n",
       "       [ nan,  nan,  nan,  nan,  nan]])"
      ]
     },
     "execution_count": 20,
     "metadata": {},
     "output_type": "execute_result"
    }
   ],
   "source": [
    "M2e = escalona(M2.copy())\n",
    "M2e"
   ]
  },
  {
   "cell_type": "code",
   "execution_count": 21,
   "id": "fb535e76",
   "metadata": {},
   "outputs": [
    {
     "data": {
      "text/plain": [
       "array([[ 1. , -0.5,  1. ,  0. ,  4. ],\n",
       "       [ 0. ,  1.5, -0.5,  0. , -2. ],\n",
       "       [ 0. ,  0. , -3. ,  1. , -3. ],\n",
       "       [ 0. ,  0. ,  0. ,  1. ,  1. ]])"
      ]
     },
     "execution_count": 21,
     "metadata": {},
     "output_type": "execute_result"
    }
   ],
   "source": [
    "M2e = escalona2(M2.copy())\n",
    "M2e"
   ]
  },
  {
   "cell_type": "code",
   "execution_count": 22,
   "id": "1db77168",
   "metadata": {},
   "outputs": [
    {
     "name": "stdout",
     "output_type": "stream",
     "text": [
      "[ 2.22222222 -0.88888889  1.33333333  1.        ]\n"
     ]
    }
   ],
   "source": [
    "# solução do sistema\n",
    "x = solve_triu(M2e[:,:-1], M2e[:,-1])\n",
    "print(x)"
   ]
  },
  {
   "cell_type": "code",
   "execution_count": 23,
   "id": "1db46160",
   "metadata": {},
   "outputs": [
    {
     "data": {
      "text/plain": [
       "array([4., 5., 2., 5.])"
      ]
     },
     "execution_count": 23,
     "metadata": {},
     "output_type": "execute_result"
    }
   ],
   "source": [
    "M2[:,:-1]@x"
   ]
  },
  {
   "cell_type": "markdown",
   "id": "f41f3d6c",
   "metadata": {},
   "source": [
    "*Solução letra c):*"
   ]
  },
  {
   "cell_type": "code",
   "execution_count": 24,
   "id": "7f17e0af",
   "metadata": {},
   "outputs": [
    {
     "data": {
      "text/plain": [
       "array([[ 1.,  1.,  0.,  1.,  2.],\n",
       "       [ 2.,  1., -1.,  1.,  1.],\n",
       "       [-1.,  2.,  3., -1.,  4.],\n",
       "       [ 3., -1., -1.,  2., -3.]])"
      ]
     },
     "execution_count": 24,
     "metadata": {},
     "output_type": "execute_result"
    }
   ],
   "source": [
    "M3"
   ]
  },
  {
   "cell_type": "code",
   "execution_count": 25,
   "id": "52b9fcd1",
   "metadata": {},
   "outputs": [
    {
     "data": {
      "text/plain": [
       "array([[ 1.,  1.,  0.,  1.,  2.],\n",
       "       [ 0., -1., -1., -1., -3.],\n",
       "       [ 0.,  0.,  3.,  3.,  3.],\n",
       "       [ 0.,  0.,  0., -3., -3.]])"
      ]
     },
     "execution_count": 25,
     "metadata": {},
     "output_type": "execute_result"
    }
   ],
   "source": [
    "M3e = escalona2(M3.copy())\n",
    "M3e"
   ]
  },
  {
   "cell_type": "code",
   "execution_count": 26,
   "id": "61fcd958",
   "metadata": {},
   "outputs": [
    {
     "name": "stdout",
     "output_type": "stream",
     "text": [
      "[-1.  2.  0.  1.]\n"
     ]
    }
   ],
   "source": [
    "# solução do sistema\n",
    "x = solve_triu(M3e[:,:-1], M3e[:,-1])\n",
    "print(x)"
   ]
  },
  {
   "cell_type": "code",
   "execution_count": 27,
   "id": "fa37e27c",
   "metadata": {},
   "outputs": [
    {
     "data": {
      "text/plain": [
       "array([ 2.,  1.,  4., -3.])"
      ]
     },
     "execution_count": 27,
     "metadata": {},
     "output_type": "execute_result"
    }
   ],
   "source": [
    "M3[:,:-1]@x"
   ]
  },
  {
   "cell_type": "markdown",
   "id": "e5f5ae38",
   "metadata": {},
   "source": [
    "### Fatoração LU\n",
    "\n",
    "Os passos utilizados para resolver um sistema da forma $Ax = b$ por eliminação de Gauss podem ser utilizados para fatorar uma matriz $A$ em um produto de duas matrizes triangulares $L$, triangular inferior, e $U$, triangular superior (Rugriero e Lopes, 1997).  "
   ]
  },
  {
   "cell_type": "markdown",
   "id": "3696bd4b",
   "metadata": {},
   "source": [
    "**Exemplo 5:** Vejamos como resolver o sistema \n",
    "\n",
    "$$\n",
    "\\left[\\begin{array}{lll}\n",
    "2 & 0 & 1 \\\\\n",
    "0 & 2 & 1 \\\\\n",
    "1 & 1 & 3\n",
    "\\end{array}\\right]\\left[\\begin{array}{l}\n",
    "x_1 \\\\\n",
    "x_2 \\\\\n",
    "x_3\n",
    "\\end{array}\\right]=\\left[\\begin{array}{l}\n",
    "3 \\\\\n",
    "3 \\\\\n",
    "5\n",
    "\\end{array}\\right]\n",
    "$$\n",
    "\n",
    "usando o processo de fatoração $LU$."
   ]
  },
  {
   "cell_type": "code",
   "execution_count": 28,
   "id": "b49bf0cd",
   "metadata": {},
   "outputs": [],
   "source": [
    "# criamos as matrizes\n",
    "A = np.array([[2,0,1],[0,2,1],[1,1,3]], dtype=float)\n",
    "b = np.array([3,3,5], dtype=float)"
   ]
  },
  {
   "cell_type": "markdown",
   "id": "a48737e3",
   "metadata": {},
   "source": [
    "Então, vamos elimintar os elementos da 1ª coluna, abaixo do pivô:"
   ]
  },
  {
   "cell_type": "code",
   "execution_count": 29,
   "id": "7667ce76",
   "metadata": {},
   "outputs": [
    {
     "name": "stdout",
     "output_type": "stream",
     "text": [
      "[[2.  0.  1. ]\n",
      " [0.  2.  1. ]\n",
      " [0.  1.  2.5]]\n"
     ]
    }
   ],
   "source": [
    "# segunda linha\n",
    "m21 = A[1,0]/A[0,0]\n",
    "A[1] = A[1] - m21*A[0]\n",
    "\n",
    "#terceira linha\n",
    "m31 = A[2,0]/A[0,0]\n",
    "A[2] = A[2] - m31*A[0]\n",
    "\n",
    "print (A)"
   ]
  },
  {
   "cell_type": "markdown",
   "id": "9dfff336",
   "metadata": {},
   "source": [
    "Observe que o resultado é o mesmo que se multiplicar a matriz\n",
    "\n",
    "$$M^{(0)}=\n",
    "\\left[\\begin{array}{lll}\n",
    "1 & 0 & 0 \\\\\n",
    "-m_{21} & 1 & 0 \\\\\n",
    "-m_{31} & 0 & 1\n",
    "\\end{array}\\right]\n",
    "=\\left[\\begin{array}{lll}\n",
    "1 & 0 & 0 \\\\\n",
    "0 & 1 & 0 \\\\\n",
    "-0.5 & 0 & 1\n",
    "\\end{array}\\right] \n",
    "$$\n",
    "\n",
    "pela matriz $A$ obtendo a matriz $A^{(1)}$como é mostrado abaixo"
   ]
  },
  {
   "cell_type": "code",
   "execution_count": 55,
   "id": "da6c6334",
   "metadata": {},
   "outputs": [
    {
     "name": "stdout",
     "output_type": "stream",
     "text": [
      "[[2.  0.  1. ]\n",
      " [0.  2.  1. ]\n",
      " [0.  1.  2.5]]\n"
     ]
    }
   ],
   "source": [
    "M = np.array([[1,0,0],[0,1,0],[-0.5,0,1]])\n",
    "A =np.array([[2,0,1],[0,2,1],[1,1,3]])\n",
    "A1 = M@A\n",
    "print(A1)"
   ]
  },
  {
   "cell_type": "markdown",
   "id": "5bbee515",
   "metadata": {},
   "source": [
    "Por fim, concluímos a eliminação de Gauss fazendo:"
   ]
  },
  {
   "cell_type": "code",
   "execution_count": 56,
   "id": "101750df",
   "metadata": {},
   "outputs": [
    {
     "name": "stdout",
     "output_type": "stream",
     "text": [
      "[[2 0 1]\n",
      " [0 2 1]\n",
      " [1 0 2]]\n"
     ]
    }
   ],
   "source": [
    "#terceira linha segunda coluna\n",
    "m32 = A[2,1]/A[1,1]\n",
    "A[2] = A[2] - m32*A[1]\n",
    "print (A)"
   ]
  },
  {
   "cell_type": "markdown",
   "id": "882aeb98-0ed9-4121-9cfe-1801f155692c",
   "metadata": {},
   "source": [
    "Observe que o resultado é o mesmo que se multiplicar a matriz \n",
    "$$M^{(1)}=\n",
    "\\left[\\begin{array}{lll}\n",
    "1 & 0 & 0 \\\\\n",
    "0 & 1 & 0 \\\\\n",
    "0 & -m_{32} & 1\n",
    "\\end{array}\\right]=\n",
    "\\left[\\begin{array}{lll}\n",
    "1 & 0 & 0 \\\\\n",
    "0 & 1 & 0 \\\\\n",
    "0 & -0.5 & 1\n",
    "\\end{array}\\right]$$\n",
    "\n",
    "pela matriz $A^{(1)}$, finalizando o processo de eliminação. \n",
    "\n",
    "Chamaremos a matriz triangular superior resultante do escalonamento da matriz $A$ de matriz $U$. Então \n",
    "\n",
    "$$U=\\left[\\begin{array}{lll}\n",
    "2 & 0 & 1 \\\\\n",
    "0 & 2 & 1 \\\\\n",
    "0 & 0 & 2\n",
    "\\end{array}\\right]\n",
    "$$"
   ]
  },
  {
   "cell_type": "markdown",
   "id": "68efe42f",
   "metadata": {},
   "source": [
    "Assim, o escalonamento da matriz $A$ pode ser realizado fazendo o produto \n",
    "\n",
    "$$M^{(1)}M^{(0)}A=\n",
    "\\left[\\begin{array}{lll}\n",
    "1 & 0 & 0 \\\\\n",
    "0 & 1 & 0 \\\\\n",
    "0 & -m_{32} & 1\n",
    "\\end{array}\\right]\n",
    "\\left[\\begin{array}{lll}\n",
    "1 & 0 & 0 \\\\\n",
    "-m_{21} & 1 & 0 \\\\\n",
    "-m_{31} & 0 & 1\n",
    "\\end{array}\\right]\n",
    "\\left[\\begin{array}{lll}\n",
    "2 & 0 & 1 \\\\\n",
    "0 & 2 & 1 \\\\\n",
    "1 & 1 & 3\n",
    "\\end{array}\\right]\n",
    "=\\left[\\begin{array}{lll}\n",
    "2 & 0 & 1 \\\\\n",
    "0 & 2 & 1 \\\\\n",
    "0 & 0 & 2\n",
    "\\end{array}\\right]=U\n",
    "$$\n"
   ]
  },
  {
   "cell_type": "markdown",
   "id": "e255d5b2-1873-4edb-a28e-a0c0ae3f0162",
   "metadata": {},
   "source": [
    "Além disso, note que \n",
    "\n",
    "$$\\Big[M^{(0)}\\Big]^{-1}=\n",
    "\\left[\\begin{array}{lll}\n",
    "1 & 0 & 0 \\\\\n",
    "m_{21} & 1 & 0 \\\\\n",
    "m_{31} & 0 & 1\n",
    "\\end{array}\\right] \\quad \\text{e} \\quad\n",
    "\\Big[M^{(1)}\\Big]^{-1}=\n",
    "\\left[\\begin{array}{lll}\n",
    "1 & 0 & 0 \\\\\n",
    "0 & 1 & 0 \\\\\n",
    "0 & m_{32} & 1\n",
    "\\end{array}\\right]$$\n",
    "\n",
    "e que o produto $\\Big[M^{(0)}\\Big]^{-1} \\Big[M^{(1)}\\Big]^{-1}$ é uma matriz triangular inferior, que chamaremos de matriz $L$, então, temos que\n",
    "\n",
    "$$\\Big[M^{(0)}\\Big]^{-1} \\Big[M^{(1)}\\Big]^{-1} = \\left[\\begin{array}{lll}\n",
    "1 & 0 & 0 \\\\\n",
    "m_{21} & 1 & 0 \\\\\n",
    "m_{31} & m_{32} & 1\n",
    "\\end{array}\\right] = L$$"
   ]
  },
  {
   "cell_type": "markdown",
   "id": "1d140fa1-8814-4705-a6b7-d5fa67001037",
   "metadata": {},
   "source": [
    "Por fim, observamos que $$A = \\Big[M^{(0)}\\Big]^{-1} \\Big[M^{(1)}\\Big]^{-1} U$$, ou seja, obtemos a fatoração de $A$ como o produto $LU$ de uma matriz triangular inferior com uma matriz triangular superior \n",
    "\n",
    "\n",
    "$$\n",
    "A=LU \\quad \\rightarrow \\quad \n",
    "\\left[\\begin{array}{lll}\n",
    "2 & 0 & 1 \\\\\n",
    "0 & 2 & 1 \\\\\n",
    "1 & 1 & 3\n",
    "\\end{array}\\right]=\n",
    "\\left[\\begin{array}{lll}\n",
    "1 & 0 & 0 \\\\\n",
    "0 & 1 & 0 \\\\\n",
    "0.5 & 0.5 & 1\n",
    "\\end{array}\\right]\n",
    "\\left[\\begin{array}{lll}\n",
    "2 & 0 & 1 \\\\\n",
    "0 & 2 & 1 \\\\\n",
    "0 & 0 & 2\n",
    "\\end{array}\\right]\n",
    "$$\n",
    "\n",
    "Como pode ser verificado como é mostrado abaixo"
   ]
  },
  {
   "cell_type": "code",
   "execution_count": 57,
   "id": "eb8bb037",
   "metadata": {},
   "outputs": [
    {
     "data": {
      "text/plain": [
       "array([[2., 0., 1.],\n",
       "       [0., 2., 1.],\n",
       "       [1., 1., 3.]])"
      ]
     },
     "execution_count": 57,
     "metadata": {},
     "output_type": "execute_result"
    }
   ],
   "source": [
    "L = np.array([[1,0,0],[0,1,0],[0.5,0.5,1]])\n",
    "U = np.array([[2,0,1],[0,2,1],[0,0,2]])\n",
    "L@U"
   ]
  },
  {
   "cell_type": "markdown",
   "id": "91934f25",
   "metadata": {},
   "source": [
    "Para obter a solução do sistema linear $Ax=b$ por decomposição $LU$ fazemos\n",
    "\n",
    "$$Ax=b \\rightarrow LUx=b$$\n",
    "\n",
    "escrevendo $Ux=y$ tem-se dois sitemas triangulares \n",
    "\n",
    "<p>\n",
    "<div align=\"center\">\n",
    "$Ly=b\\,\\,\\,$ e, então, $\\,\\,\\,Ux=y$\n",
    "</div>\n",
    "\n",
    "Resolvendo o sistema $Ly=b$ obtem-se $y$, então, resolvendo o sistema $Ux=y$, obtem-se a solução procurada $x = (x_1,...,x_n)^T$.\n",
    "\n",
    "Assim, a resolução do sistema $Ax=b$ é feita resolvendo-se o sistema triangular inferior e, em seguida, o sistema triagular superior."
   ]
  },
  {
   "cell_type": "code",
   "execution_count": 33,
   "id": "d826573f",
   "metadata": {},
   "outputs": [
    {
     "name": "stdout",
     "output_type": "stream",
     "text": [
      "[3. 3. 2.]\n"
     ]
    }
   ],
   "source": [
    "y = solve_tril(L,b)\n",
    "print(y)"
   ]
  },
  {
   "cell_type": "code",
   "execution_count": 34,
   "id": "224d3e3b",
   "metadata": {},
   "outputs": [
    {
     "name": "stdout",
     "output_type": "stream",
     "text": [
      "[1. 1. 1.]\n"
     ]
    }
   ],
   "source": [
    "x = solve_triu(U,y)\n",
    "print(x)"
   ]
  },
  {
   "cell_type": "markdown",
   "id": "304cb5f4",
   "metadata": {},
   "source": [
    "Agora, podemos sintetizar os resultados escrevendo uma funação para fatorar uma matriz por eliminação de Gauss , fazendo:"
   ]
  },
  {
   "cell_type": "code",
   "execution_count": 35,
   "id": "7fe0284e",
   "metadata": {},
   "outputs": [],
   "source": [
    "def fatoraLU(A):\n",
    "    L = np.eye(len(A))\n",
    "    U = A.copy()\n",
    "    n = len(A)\n",
    "    for j in range(n-1):\n",
    "        for i in range(j,n-1):            \n",
    "            m = U[i+1,j]/U[j,j]\n",
    "            U[i+1] = U[i+1]-m*U[j]\n",
    "            L[i+1,j] = m \n",
    "    return (L,U)"
   ]
  },
  {
   "cell_type": "code",
   "execution_count": 36,
   "id": "d313b59f",
   "metadata": {},
   "outputs": [
    {
     "name": "stdout",
     "output_type": "stream",
     "text": [
      "[[1.  0.  0. ]\n",
      " [0.  1.  0. ]\n",
      " [0.5 0.5 1. ]]\n",
      "[[2. 0. 1.]\n",
      " [0. 2. 1.]\n",
      " [0. 0. 2.]]\n"
     ]
    }
   ],
   "source": [
    "# testando\n",
    "A = np.array([[2,0,1],[0,2,1],[1,1,3]], dtype=float)\n",
    "L,U = fatoraLU(A) \n",
    "print(L)\n",
    "print(U)"
   ]
  },
  {
   "cell_type": "markdown",
   "id": "4b172f7f",
   "metadata": {},
   "source": [
    "**Exemplo 6:** Agora vamos considerar novamente o sistema do exemplo 1 e resolver usando fatoração LU."
   ]
  },
  {
   "cell_type": "code",
   "execution_count": 37,
   "id": "c7af2498",
   "metadata": {},
   "outputs": [],
   "source": [
    "M = np.array([[2,1,-1,1,-3,7],\n",
    "             [1,0,2,-1,1,2],\n",
    "             [0,-2,-1,1,-1,-5],\n",
    "             [3,1,-4,0,5,6],\n",
    "             [1,-1,-1,-1,1,3]], dtype=float)"
   ]
  },
  {
   "cell_type": "code",
   "execution_count": 38,
   "id": "9d04d719",
   "metadata": {},
   "outputs": [],
   "source": [
    "A = M[:,0:5]\n",
    "b = M[:,-1]"
   ]
  },
  {
   "cell_type": "code",
   "execution_count": 39,
   "id": "e37cfddc",
   "metadata": {},
   "outputs": [
    {
     "name": "stdout",
     "output_type": "stream",
     "text": [
      "[ 1.91812865  1.96491228 -0.98830409 -3.19298246 -1.13450292]\n"
     ]
    }
   ],
   "source": [
    "L,U = fatoraLU(A)\n",
    "y = solve_tril(L,b)\n",
    "x = solve_triu(U,y)\n",
    "print(x)"
   ]
  },
  {
   "cell_type": "markdown",
   "id": "e751e69d",
   "metadata": {},
   "source": [
    "### Fatoração LU por redução de Doolittle"
   ]
  },
  {
   "cell_type": "markdown",
   "id": "e513b191",
   "metadata": {},
   "source": [
    "\n",
    "Uma forma de obter a fatoração $LU$ da matriz $A$, conhecido como processo Redução de Doolittle será apresentado a seguir ([Arenales e Darezzo, 2016](https://integrada.minhabiblioteca.com.br/reader/books/9788522112821/pageid/43)). Considere a fatoração da matriz $A = (a_{ij})_{i,j=1,...,n}$ nas matrizes $L = (l_{ij})_{i,j=1,...,n}$ e $U = (u_{ij})_{i,j=1,...,n}$ como é mostrado a seguir\n",
    "\n",
    "$$\\left[\\begin{array}{cccc} \n",
    "\t         1      & 0      & \\cdots & 0      \\\\ \n",
    "\t         l_{21} & 1      & \\cdots & 0      \\\\\n",
    "\t         \\vdots & \\vdots & \\vdots & \\vdots \\\\\n",
    "\t         l_{n1} & l_{n2} & \\cdots & 1 \\\\\n",
    "\t         \\end{array} \\right] \n",
    "\\left[\\begin{array}{cccc} \n",
    "\t         u_{11} & u_{12} & \\cdots & u_{1n} \\\\ \n",
    "\t         0      & u_{22} & \\cdots & u_{2n} \\\\\n",
    "\t         \\vdots & \\vdots & \\vdots & \\vdots \\\\\n",
    "\t         0      & 0      & \\cdots & u_{nn} \\\\\n",
    "\t         \\end{array} \\right]\n",
    "\t         =\n",
    "\\left[\\begin{array}{cccc} \n",
    "\t         a_{11} & a_{12} & \\cdots & a_{1n} \\\\ \n",
    "\t         a_{21} & a_{22} & \\cdots & a_{2n} \\\\\n",
    "\t         \\vdots & \\vdots & \\vdots & \\vdots \\\\\n",
    "\t         a_{n1} & a_{n2} & \\cdots & a_{nn} \\\\\n",
    "\t         \\end{array} \\right]$$\n",
    "\n",
    "o processo de múltiplicação de matrizes nos leva às seguintes equações, que fornecem a primeira linha da matriz $U$: $u_{11}=a_{11}$, $u_{12}=a_{12}$, $u_{12}=a_{12}$,..., $u_{1n}=a_{1n}$. Seguindo o procedimento de multiplicar matrizes, podemos encontrar a 1ª coluna da matriz $L$: $l_{21}=a_{21}/u_{11}$, $l_{31}=a_{31}/u_{11}$,..., $u_{n1}=a_{n1}/u_{11}$. Continuando o processo para a 2ª linha de $U$, 2ª coluna de $L$, 3ª linha de $U$, 3ª coluna de $L$, e assim por diante, chegamos nas seguintes fórmulas:\n",
    "$$u_{ij}=a_{ij}-\\sum\\limits_{k=1}^{i-1}l_{ik}u_{kj} \\qquad i,j=1,...,n$$\n",
    "e\n",
    "$$l_{ij}=\\frac{a_{ij}-\\sum\\limits_{k=1}^{j-1}l_{ik}u_{kj}}{ujj} \\qquad i,j=1,...,n$$"
   ]
  },
  {
   "cell_type": "markdown",
   "id": "d1b25d2f",
   "metadata": {},
   "source": [
    "Uma implementação desse algoritmo é mostrado a seguir."
   ]
  },
  {
   "cell_type": "code",
   "execution_count": 40,
   "id": "04adb01a",
   "metadata": {},
   "outputs": [],
   "source": [
    "def fatoracao_LU(A):\n",
    "    n = len(A)     \n",
    "    U = np.zeros((n,n))\n",
    "    L = np.identity(n)\n",
    "    for m in range(n):\n",
    "        for j in range(m, n):\n",
    "            U[m,j] = A[m,j] - np.sum(L[m,0:m] * U[0:m,j])\n",
    "        for i in range(m+1, n):\n",
    "            L[i,m] = (A[i,m] - np.sum(L[i,0:m] * U[0:m,m]))/U[m,m]\n",
    "    return L,U"
   ]
  },
  {
   "cell_type": "markdown",
   "id": "e02f2bc8",
   "metadata": {},
   "source": [
    "Testando para a mesma matriz do exemplo 3."
   ]
  },
  {
   "cell_type": "code",
   "execution_count": 41,
   "id": "b837efaf",
   "metadata": {},
   "outputs": [
    {
     "name": "stdout",
     "output_type": "stream",
     "text": [
      "Matriz L:\n",
      "[[1.  0.  0. ]\n",
      " [0.  1.  0. ]\n",
      " [0.5 0.5 1. ]]\n",
      "Matriz U:\n",
      "[[2. 0. 1.]\n",
      " [0. 2. 1.]\n",
      " [0. 0. 2.]]\n"
     ]
    }
   ],
   "source": [
    "A = np.array([[2,0,1],\n",
    "              [0,2,1],\n",
    "              [1,1,3]])\n",
    "L,U = fatoracao_LU(A)\n",
    "\n",
    "print (\"Matriz L:\")\n",
    "print (np.array(L))\n",
    "print (\"Matriz U:\")\n",
    "print(np.array(U))"
   ]
  },
  {
   "cell_type": "markdown",
   "id": "0eb08db3",
   "metadata": {},
   "source": [
    "### Método Gauss-Jordan e matriz inversa\n",
    "\n",
    "Considere o sistema de $n$ equações e $n$ variáveis dado por \n",
    "\n",
    "$$ Ax=b$$\n",
    "\n",
    "Se a matriz $A$ dos coeficientes for não singular, ou seja, se o sistema possuir solução única a matriz é invertível e a solução do sistema pode ser obtida multiplicando-se a inversa $A^{-1}$ à esquerda de ambos os lados da equação, como segue: \n",
    "\n",
    "$$A^{-1}Ax=A^{-1}b$$\n",
    "logo\n",
    "$$Ix = A^{-1}b$$\n",
    "ou\n",
    "$$x = A^{-1}b$$\n",
    "Que é a solução do sistema linear."
   ]
  },
  {
   "cell_type": "markdown",
   "id": "178a4d53",
   "metadata": {},
   "source": [
    "**Exemplo 7:** Resolver o sistema $Ax=b$ com $A = \n",
    " \\left[\\begin{array}{ccc} \n",
    "\t         3 & 0 & 1 \\\\ \n",
    "\t         3 & 2 & 1 \\\\\n",
    "            -3 & 1 & 3 \\\\\n",
    "\t     \\end{array} \\right]$\n",
    "e $b = (1,1,3)^t$.    "
   ]
  },
  {
   "cell_type": "code",
   "execution_count": 42,
   "id": "01ec1a34",
   "metadata": {},
   "outputs": [
    {
     "name": "stdout",
     "output_type": "stream",
     "text": [
      "[0. 0. 1.]\n"
     ]
    }
   ],
   "source": [
    "import numpy as np\n",
    "from numpy.linalg import inv\n",
    "\n",
    "A = np.array([[3,0,1],[3,2,1],[-3,1,3]])\n",
    "b = np.array([1,1,3])\n",
    "x = np.dot(inv(A),b)\n",
    "print (np.round(x,4))"
   ]
  },
  {
   "cell_type": "markdown",
   "id": "62f31226",
   "metadata": {},
   "source": [
    "A obtenção inversa pode ser feita pelo processo de eliminação de Gauss-Jordan em que são realizadas operações elementares sobre as linhas da matriz $A$ até que ela se torne uma matriz identidade. Essas mesmas operações são realizadas em uma matriz identidade de mesma ordem, ao final das operações na matriz identidade o resultado é a inversa da matriz $A$. O exemplo a seguir implementa o processo de eliminação de Gauss-Jordan.\n",
    "\n",
    "**Exemplo 8** Vamos nesse exemplo utilizar o processo de eliminação de Gauss-Jordan para obter a matriz inversa de \n",
    "$A = \n",
    " \\left[\\begin{array}{ccc} \n",
    "\t         2 & 1 & 3 \\\\ \n",
    "\t         0 & -1 & 1 \\\\\n",
    "            1 & 0 & 3 \\\\\n",
    "\t     \\end{array} \\right]$"
   ]
  },
  {
   "cell_type": "code",
   "execution_count": 43,
   "id": "aba89bcb",
   "metadata": {},
   "outputs": [],
   "source": [
    "def gaussJordan(M):\n",
    "    n = len(M)\n",
    "    for k in range(n):\n",
    "        M[k] = M[k]/M[k,k]\n",
    "        for i in range(n):\n",
    "            if i!=k:\n",
    "                M[i] = M[i] - M[i,k]*M[k]\n",
    "    return (M)"
   ]
  },
  {
   "cell_type": "code",
   "execution_count": 44,
   "id": "edf71a2f",
   "metadata": {},
   "outputs": [
    {
     "name": "stdout",
     "output_type": "stream",
     "text": [
      "Matriz ampliada:\n",
      "[[ 2.  1.  3.  1.  0.  0.]\n",
      " [ 0. -1.  1.  0.  1.  0.]\n",
      " [ 1.  0.  3.  0.  0.  1.]]\n",
      "Matriz após eliminação:\n",
      "[[ 1.   0.   0.   1.5  1.5 -2. ]\n",
      " [ 0.   1.   0.  -0.5 -1.5  1. ]\n",
      " [ 0.   0.   1.  -0.5 -0.5  1. ]]\n",
      "Matriz inversa:\n",
      "[[ 1.5  1.5 -2. ]\n",
      " [-0.5 -1.5  1. ]\n",
      " [-0.5 -0.5  1. ]]\n"
     ]
    }
   ],
   "source": [
    "A = np.array([[2,1,3],[0,-1,1],[1,0,3]], float)\n",
    "I = np.identity(len(A))\n",
    "M = np.concatenate((A,I), axis=1)\n",
    "\n",
    "print ('Matriz ampliada:')\n",
    "print (M)\n",
    "\n",
    "print ('Matriz após eliminação:')\n",
    "Mgj = gaussJordan(M)\n",
    "print (Mgj)\n",
    "\n",
    "print ('Matriz inversa:')\n",
    "Ainv = Mgj[:,3:6]\n",
    "print(Ainv)"
   ]
  },
  {
   "cell_type": "code",
   "execution_count": null,
   "id": "7486c9cd",
   "metadata": {},
   "outputs": [],
   "source": []
  },
  {
   "cell_type": "markdown",
   "id": "1b930ba0",
   "metadata": {},
   "source": [
    "**Exemplo 8:** Usando o módulo `scipy.linalg` para fatorar uma matriz ([fonte](https://docs.scipy.org/doc/scipy/reference/linalg.html)):"
   ]
  },
  {
   "cell_type": "code",
   "execution_count": null,
   "id": "0a4d4678-3e42-4347-8dd7-d2a4608aab51",
   "metadata": {},
   "outputs": [],
   "source": []
  },
  {
   "cell_type": "code",
   "execution_count": 45,
   "id": "82e44008",
   "metadata": {},
   "outputs": [],
   "source": [
    "import scipy\n",
    "import scipy.linalg"
   ]
  },
  {
   "cell_type": "code",
   "execution_count": 46,
   "id": "b8ffcc0a",
   "metadata": {},
   "outputs": [],
   "source": [
    "A = np.array([[2,0,1],\n",
    "              [0,2,1],\n",
    "              [1,1,3]])"
   ]
  },
  {
   "cell_type": "markdown",
   "id": "565c8508",
   "metadata": {},
   "source": [
    "**Fatoração LU**"
   ]
  },
  {
   "cell_type": "code",
   "execution_count": 47,
   "id": "8e3eb03a",
   "metadata": {},
   "outputs": [
    {
     "data": {
      "text/plain": [
       "(array([[1., 0., 0.],\n",
       "        [0., 1., 0.],\n",
       "        [0., 0., 1.]]),\n",
       " array([[1. , 0. , 0. ],\n",
       "        [0. , 1. , 0. ],\n",
       "        [0.5, 0.5, 1. ]]),\n",
       " array([[2., 0., 1.],\n",
       "        [0., 2., 1.],\n",
       "        [0., 0., 2.]]))"
      ]
     },
     "execution_count": 47,
     "metadata": {},
     "output_type": "execute_result"
    }
   ],
   "source": [
    "scipy.linalg.lu(A)"
   ]
  },
  {
   "cell_type": "code",
   "execution_count": 48,
   "id": "48c5b636",
   "metadata": {},
   "outputs": [],
   "source": [
    "A = np.array([[1,2,4],[2,8,10],[4,10,26]])\n",
    "b = np.array([1,-4,10])"
   ]
  },
  {
   "cell_type": "markdown",
   "id": "de4e0f21",
   "metadata": {},
   "source": [
    "**Fatoração de Cholesky**"
   ]
  },
  {
   "cell_type": "code",
   "execution_count": 49,
   "id": "850c8021",
   "metadata": {},
   "outputs": [
    {
     "data": {
      "text/plain": [
       "array([[1., 0., 0.],\n",
       "       [2., 2., 0.],\n",
       "       [4., 1., 3.]])"
      ]
     },
     "execution_count": 49,
     "metadata": {},
     "output_type": "execute_result"
    }
   ],
   "source": [
    "R = np.linalg.cholesky(A)\n",
    "R"
   ]
  },
  {
   "cell_type": "code",
   "execution_count": 50,
   "id": "9e328604",
   "metadata": {},
   "outputs": [
    {
     "data": {
      "text/plain": [
       "array([[ 1.,  2.,  4.],\n",
       "       [ 2.,  8., 10.],\n",
       "       [ 4., 10., 26.]])"
      ]
     },
     "execution_count": 50,
     "metadata": {},
     "output_type": "execute_result"
    }
   ],
   "source": [
    "R@R.T"
   ]
  },
  {
   "cell_type": "markdown",
   "id": "d2076ceb",
   "metadata": {},
   "source": [
    "**Fatoração QR**"
   ]
  },
  {
   "cell_type": "code",
   "execution_count": 51,
   "id": "48964f56",
   "metadata": {},
   "outputs": [
    {
     "name": "stdout",
     "output_type": "stream",
     "text": [
      "[[-0.21821789  0.27263927 -0.93704257]\n",
      " [-0.43643578 -0.88607763 -0.15617376]\n",
      " [-0.87287156  0.374879    0.31234752]]\n",
      "[[ -4.58257569 -12.65663763 -27.93188995]\n",
      " [  0.          -2.79455252   1.97663471]\n",
      " [  0.           0.           2.81112771]]\n"
     ]
    }
   ],
   "source": [
    "Q,R = np.linalg.qr(A)\n",
    "print(Q)\n",
    "print(R)"
   ]
  },
  {
   "cell_type": "code",
   "execution_count": 52,
   "id": "84ed8603",
   "metadata": {},
   "outputs": [
    {
     "data": {
      "text/plain": [
       "array([[ 1.,  2.,  4.],\n",
       "       [ 2.,  8., 10.],\n",
       "       [ 4., 10., 26.]])"
      ]
     },
     "execution_count": 52,
     "metadata": {},
     "output_type": "execute_result"
    }
   ],
   "source": [
    "Q@R"
   ]
  },
  {
   "cell_type": "markdown",
   "id": "f0b180b7",
   "metadata": {},
   "source": [
    "**Exercícios:** ([Burden e Faires, 2016](https://integrada.minhabiblioteca.com.br/reader/books/9788522123414/pageid/464))\n",
    "\n",
    "\n",
    "\n",
    "**1.** Determine a fatoração $LU$ da matriz $A$ e resolva o sistema linear $Ax = b$, em que \n",
    "\n",
    "$$\n",
    "A=\\left[\\begin{array}{rrrr}\n",
    "1 & 1 & 0 & 3 \\\\\n",
    "2 & 1 & -1 & 1 \\\\\n",
    "3 & -1 & -1 & 2 \\\\\n",
    "-1 & 2 & 3 & -1\n",
    "\\end{array}\\right] \\quad \\text { e } \\quad \\mathbf{b}=\\left[\\begin{array}{r}\n",
    "4 \\\\\n",
    "1 \\\\\n",
    "-3 \\\\\n",
    "4\n",
    "\\end{array}\\right]\n",
    "$$\n",
    "\n",
    "\n",
    "**2.** Use a fatoração do exercício anterior para resolver o sistema \n",
    "$$\n",
    "\\begin{aligned}\n",
    "x_1+x_2+3 x_4 & =8, \\\\\n",
    "2 x_1+x_2-x_3+x_4 & =7, \\\\\n",
    "3 x_1-x_2-x_3+2 x_4 & =14, \\\\\n",
    "-x_1+2 x_2+3 x_3-x_4 & =-7 .\n",
    "\\end{aligned}\n",
    "$$"
   ]
  },
  {
   "cell_type": "markdown",
   "id": "4adb56c2",
   "metadata": {},
   "source": [
    "**3.** Obtenha, caso exista, a solução para os seguintes sistemas lineares utilizando os métodos estudados. \n",
    "\n",
    "\n",
    "a) $\\begin{cases} \n",
    "\t         2x_1 + 3x_2 + x_3 +5x_4= 11\\\\ \n",
    "\t         x_1  + 3.5x_2  + x_3 +7.5x_4= 13\\\\\n",
    "\t         1.4x_1 + 2.7x_2 + 5.5x_3 + 12x_4 = 21.6\\\\\n",
    "\t         -2x_1 + 1x_2 + 3x_3 +28x_4 = 30\n",
    "\t         \\end{cases}$\n",
    "    \n",
    "b) $\\begin{cases} \n",
    "\t         6.1x_1 + 0.32x_2 + 1.3x_3 +2.1x_4 + 0.11x_5 = 19.52\\\\ \n",
    "\t         0.82x_1  + 8.81x_2  + 1.01x_3 +3x_4 + 3.12x_5= 15.83\\\\\n",
    "\t         0.5x_1 + 1.78x_2 + 15.2x_3 + 4.2x_4 +8.1x_5= -22.14\\\\\n",
    "\t         4.2x_1 + 5.3x_2 + 1.8x_3 +20.9x_4 +7.51x_5 = 27.28\\\\\n",
    "\t         0.2x_1 + 9.1x_2 + 4.68x_3 +4.3x_4 +20.1x_5  = -21.78\n",
    "\t         \\end{cases}$\n",
    "             \n",
    "c)$ \\begin{cases} \n",
    "    12.1756 x_1 + 4.0231 x_2 - 2.1732 x_3 + 5.1967 x_4 = 17.1020\\\\ \n",
    "   -4.0231 x_1 + 6.0030 x_2              + 1.1973 x_4 = -6.1593\\\\\n",
    "   -1.0000 x_1 - 5.2107 x_2 + 11.1111 x_3              =  3.0004\\\\\n",
    "\t6.0235 x_1 + 7.0000 x_2 +            - 14.1561 x_4 =  0.0000\n",
    "\\end{cases} $"
   ]
  },
  {
   "cell_type": "markdown",
   "id": "dc0a4686",
   "metadata": {},
   "source": [
    "a) Eliminação de Gauss\n",
    "\n",
    "b) Decomposição LU\n",
    "\n",
    "c) Eliminação de Gauss-Jordan\n",
    "\n",
    "d) Matriz inversa"
   ]
  },
  {
   "cell_type": "code",
   "execution_count": null,
   "id": "8c404599",
   "metadata": {},
   "outputs": [],
   "source": []
  },
  {
   "cell_type": "markdown",
   "id": "f0857ee3-9832-4644-88dc-6e7c4e5b92d8",
   "metadata": {},
   "source": [
    "**Referências**\n",
    "\n",
    "ARENALES, Selma; DAREZZO, Artur. Cálculo Numérico: aprendizagem com Apoio de Software. 2. ed. Porto Alegre: +A Educação - Cengage Learning Brasil, 2016.\n",
    "\n",
    "BURDEN, Richard L.; FAIRES, J D.; BURDEN, Annette M. Análise Numérica - Tradução da 10ª edição norte-americana. 3. ed. Porto Alegre: +A Educação - Cengage Learning Brasil, 2016\n",
    "\n",
    "RUGGIERO, Márcia A. G.; LOPES, Vera L. da Rocha. Cálculo Numérico. 2. ed. São Paulo: Makron Books, 1997"
   ]
  },
  {
   "cell_type": "markdown",
   "id": "904daf16-92a2-48aa-a451-cd9d569b3905",
   "metadata": {},
   "source": [
    "VIRTANEN, P., GOMMERS, R., OLIPHANT, T., et al. (2020). SciPy 1.0: Fundamental Algorithms for Scientific Computing in Python. Nature Methods, 17(3), 261-272. DOI: 10.1038/s41592-019-0686-2."
   ]
  },
  {
   "cell_type": "code",
   "execution_count": null,
   "id": "d9cb7890-c590-4ffb-83cd-34dfb619f439",
   "metadata": {},
   "outputs": [],
   "source": []
  }
 ],
 "metadata": {
  "kernelspec": {
   "display_name": "Python 3 (ipykernel)",
   "language": "python",
   "name": "python3"
  },
  "language_info": {
   "codemirror_mode": {
    "name": "ipython",
    "version": 3
   },
   "file_extension": ".py",
   "mimetype": "text/x-python",
   "name": "python",
   "nbconvert_exporter": "python",
   "pygments_lexer": "ipython3",
   "version": "3.12.4"
  }
 },
 "nbformat": 4,
 "nbformat_minor": 5
}
