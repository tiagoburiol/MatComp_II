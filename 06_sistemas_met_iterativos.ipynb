{
 "cells": [
  {
   "cell_type": "markdown",
   "id": "d4167ee5",
   "metadata": {},
   "source": [
    "## Sistemas lineares"
   ]
  },
  {
   "cell_type": "markdown",
   "id": "dedcd3a7",
   "metadata": {},
   "source": [
    "### Métodos iterativos\n",
    "\n",
    "Os métodos iterativos são indicados para sistemas de grande porte com matriz dos coeficientes esparsa, ou seja, com grande grande quantidade de zeros. Nesses casos os métodos iterativos são mais rápidos e demandam menos memória para armazenamento, além disso, possuem a vantagem de se auto corrigirem se um erro é cometido. Podem ser usados para reduzir os erros de arredondamento na solução obtida por métodos exatos. Além disso, sob certas condições, podem resolver um conjunto de equações não lineares. Para um método iterativo ser convergente é preciso atender a certas condições. Dizemos que a sequência de vetores $x^{(k)}$, $k=0,1,2,..$ de um espaço vetorial $V$ converge para a solução exata $\\bar{x} \\in V$ se $\\|x^{(k)} - \\bar{x}\\|  \\rightarrow 0$, quando $k \\rightarrow \\infty$ para alguma norma $ \\| \\cdot \\|$ sobre o espaço vetorial $V$."
   ]
  },
  {
   "cell_type": "markdown",
   "id": "ff4b9891",
   "metadata": {},
   "source": [
    "**Exemplo 1:** (Norma de vetores e matrizes)\n",
    "Sejam o vetor $v$ e a matriz $A$ dados. Vamos obter algumas normas. \n",
    "\n",
    "$$A=\\left[\\begin{array}{rrrr}\n",
    "3 & 2 & 11 &-1 \\\\ \n",
    "1 & 5 & -1 & 0 \\\\ \n",
    "4 & 0 & 1 & 2 \\\\\n",
    "0 & -2 & 7 & 10\n",
    "\\end{array}\\right]\n",
    "\\quad \\text{e} \\quad\n",
    "v = \n",
    "\\left[\\begin{array}{r} \n",
    "1 \\\\ 0 \\\\ 3\\\\-2\n",
    "\\end{array} \\right]$$"
   ]
  },
  {
   "cell_type": "code",
   "execution_count": 68,
   "id": "e9f44f2b",
   "metadata": {},
   "outputs": [],
   "source": [
    "import numpy as np\n",
    "A = np.array([[3,2,11,-1],[1,5,-1,0],[4,0,1,2],[0,-2,7,10]])\n",
    "v = np.array([1,0,3,-2])"
   ]
  },
  {
   "cell_type": "markdown",
   "id": "a72752ef",
   "metadata": {},
   "source": [
    "- Norma coluna da matriz: $$\\|\\mathrm{A}\\|_1=\\|\\mathrm{A}\\|_C=\\operatorname{máx}_{1 \\leq j \\leq n} \\sum_{i=1}^n\\left|a_{i j}\\right|$$"
   ]
  },
  {
   "cell_type": "code",
   "execution_count": 69,
   "id": "a8e57c84",
   "metadata": {},
   "outputs": [
    {
     "data": {
      "text/plain": [
       "20"
      ]
     },
     "execution_count": 69,
     "metadata": {},
     "output_type": "execute_result"
    }
   ],
   "source": [
    "np.max(np.sum(abs(A), axis=0))"
   ]
  },
  {
   "cell_type": "markdown",
   "id": "454ff981",
   "metadata": {},
   "source": [
    "ou, de forma equivalente,"
   ]
  },
  {
   "cell_type": "code",
   "execution_count": 70,
   "id": "59cad414",
   "metadata": {},
   "outputs": [
    {
     "data": {
      "text/plain": [
       "20.0"
      ]
     },
     "execution_count": 70,
     "metadata": {},
     "output_type": "execute_result"
    }
   ],
   "source": [
    "np.linalg.norm(A, 1)"
   ]
  },
  {
   "cell_type": "markdown",
   "id": "919a3e37",
   "metadata": {},
   "source": [
    "- Norma linha da matriz: $$\\|\\mathrm{A}\\|_{\\infty}=\\|\\mathrm{A}\\|_L=\\operatorname{máx}_{1 \\leq i \\leq n} \\sum_{j=1}^n\\left|a_{i j}\\right| $$"
   ]
  },
  {
   "cell_type": "code",
   "execution_count": 71,
   "id": "69c9962f",
   "metadata": {},
   "outputs": [],
   "source": [
    "# resolva aqui"
   ]
  },
  {
   "cell_type": "markdown",
   "id": "41673600",
   "metadata": {},
   "source": [
    "- Norma euclidiana da matriz: $$\\|\\mathrm{A}\\|_2=\\sqrt{\\sum_{i=1}^n \\sum_{j=1}^n\\left(a_{i j}\\right)^2}$$"
   ]
  },
  {
   "cell_type": "code",
   "execution_count": 72,
   "id": "ad029ec2",
   "metadata": {},
   "outputs": [],
   "source": [
    "# resolva aqui"
   ]
  },
  {
   "cell_type": "markdown",
   "id": "a07b48b0",
   "metadata": {},
   "source": [
    "- Norma $l_p$ do vetor:\n",
    "$$\n",
    "\\|x\\|_p=\\left(\\sum_{i=1}^n\\left|x_i\\right|^p\\right)^{1 / p} ; p \\geq 1\n",
    "$$"
   ]
  },
  {
   "cell_type": "code",
   "execution_count": 73,
   "id": "770c730f",
   "metadata": {},
   "outputs": [
    {
     "data": {
      "text/plain": [
       "3.7416573867739413"
      ]
     },
     "execution_count": 73,
     "metadata": {},
     "output_type": "execute_result"
    }
   ],
   "source": [
    "#norma Euclidiana: p=2\n",
    "np.sum(abs(v)**2)**(1/2)"
   ]
  },
  {
   "cell_type": "markdown",
   "id": "a4c82dfd",
   "metadata": {},
   "source": [
    "ou "
   ]
  },
  {
   "cell_type": "code",
   "execution_count": 74,
   "id": "66005c04",
   "metadata": {},
   "outputs": [
    {
     "data": {
      "text/plain": [
       "3.7416573867739413"
      ]
     },
     "execution_count": 74,
     "metadata": {},
     "output_type": "execute_result"
    }
   ],
   "source": [
    "np.linalg.norm(v)"
   ]
  },
  {
   "cell_type": "code",
   "execution_count": 75,
   "id": "0c14cd75",
   "metadata": {},
   "outputs": [],
   "source": [
    "# calcule para p=1 e p>2"
   ]
  },
  {
   "cell_type": "markdown",
   "id": "475a4839",
   "metadata": {},
   "source": [
    "- Norma infinito do vetor:\n",
    "$$\n",
    "\\|x\\|_{\\infty}=\\operatorname{máx}\\left\\{\\left|x_i\\right|, i=1, \\ldots, n\\right\\}\n",
    "$$\n"
   ]
  },
  {
   "cell_type": "code",
   "execution_count": 76,
   "id": "47384031",
   "metadata": {},
   "outputs": [],
   "source": [
    "# resolva aqui"
   ]
  },
  {
   "cell_type": "markdown",
   "id": "e7043511",
   "metadata": {},
   "source": [
    "#### Solução de um sistema por método iterativo\n",
    "Para determinar a solução de um sistema linear por métodos iterativos, precisamos transformar o sistema dado em um outro sistema equivalente que estabeleça um processo iterativo. Suponha então, que o sistema $Ax = b$ seja reescrito na forma equivalente \n",
    "\n",
    "$$x = Hx + g$$\n",
    "\n",
    "tal que a solução $\\bar{x}$ de $x = Hx + g$ é  também, solução de $Ax = b$. A partir dessa nova forma podemos obter um processo iterativo que fornecerá a sequência de soluções aproximadas que buscamos. Assim, seja $x^{(0)}$ uma aproximação inicial para a solução $\\bar{x}$, obtemos as aproximações sucessivas $x^{(k)}$ para a solução desejada usando o processo iterativo definido por:\n",
    "\n",
    "$$x^{(k)} = Hx^{(k-1)} + g$$\n",
    "\n",
    "Uma condição necessária e suficiente para a convergência do processo iterativo definido por $x = Hx + g$ é que $max \\{ |\\lambda_i |\\} < 1$, onde $\\lambda_i$ são os autovalores da matriz $H$. Como consequência dessa afirmação, o processo será convergente se para qualquer norma de matrizes, $\\| H \\| < 1$. A prova pode ser encontrada em  Franco (2006, p.169)."
   ]
  },
  {
   "cell_type": "markdown",
   "id": "01dfe11c",
   "metadata": {},
   "source": [
    "#### Exemplo 2: Autovalores e convergência\n",
    "Consideremos a matriz $H = \\bar{A}-I$, em que $\\bar{A}$ é a matriz $A$ do exemplo 1 com cada linha dividida pelo elemento da diagonal principal. Então calculemos os autovalores e a norma euclidiana de $H$ .   \n"
   ]
  },
  {
   "cell_type": "code",
   "execution_count": 101,
   "id": "17c05296",
   "metadata": {},
   "outputs": [],
   "source": [
    "A = np.array([[3,2,11,-1],[1,5,-1,0],[4,0,1,2],[0,-2,7,10]])"
   ]
  },
  {
   "cell_type": "markdown",
   "id": "4268962d",
   "metadata": {},
   "source": [
    "Obtendo a matriz $H$:"
   ]
  },
  {
   "cell_type": "code",
   "execution_count": 107,
   "id": "6113bfe4",
   "metadata": {},
   "outputs": [
    {
     "name": "stdout",
     "output_type": "stream",
     "text": [
      "[[ 0.          0.66666667  3.66666667 -0.33333333]\n",
      " [ 0.2         0.         -0.2         0.        ]\n",
      " [ 4.          0.          0.          2.        ]\n",
      " [ 0.         -0.2         0.7         0.        ]]\n"
     ]
    }
   ],
   "source": [
    "H = A/np.diag(A).reshape(4,1)-np.eye(len(A))\n",
    "print (H)"
   ]
  },
  {
   "cell_type": "markdown",
   "id": "49b78ac0",
   "metadata": {},
   "source": [
    "Calculando os autovalores:"
   ]
  },
  {
   "cell_type": "code",
   "execution_count": 103,
   "id": "3c833ef4",
   "metadata": {},
   "outputs": [
    {
     "data": {
      "text/plain": [
       "array([ 3.97756454, -4.06272331,  0.22917206, -0.14401329])"
      ]
     },
     "execution_count": 103,
     "metadata": {},
     "output_type": "execute_result"
    }
   ],
   "source": [
    "aut_val = np.linalg.eig(H)[0]\n",
    "aut_val"
   ]
  },
  {
   "cell_type": "markdown",
   "id": "a95fd580",
   "metadata": {},
   "source": [
    "O máximo em módulo é:"
   ]
  },
  {
   "cell_type": "code",
   "execution_count": 108,
   "id": "7e530ec8",
   "metadata": {},
   "outputs": [
    {
     "data": {
      "text/plain": [
       "4.062723307288213"
      ]
     },
     "execution_count": 108,
     "metadata": {},
     "output_type": "execute_result"
    }
   ],
   "source": [
    "np.abs(aut_val).max()"
   ]
  },
  {
   "cell_type": "markdown",
   "id": "a11f3598",
   "metadata": {},
   "source": [
    "Calculando a norma $p=2$ da matriz $H$:"
   ]
  },
  {
   "cell_type": "code",
   "execution_count": 106,
   "id": "3be79ccb",
   "metadata": {},
   "outputs": [
    {
     "data": {
      "text/plain": [
       "4.485067478547747"
      ]
     },
     "execution_count": 106,
     "metadata": {},
     "output_type": "execute_result"
    }
   ],
   "source": [
    "np.linalg.norm(H,2)"
   ]
  },
  {
   "cell_type": "markdown",
   "id": "658c9ce8",
   "metadata": {},
   "source": [
    "Como é possível perceber, o Nesse caso,  valor, em módulo, dentre os autovalores de $H$ é maior que $1$ assim como a norma eulidiana de $H$. Neste caso, se quiséssemos usar um método iterativo para resolver o sistema $Ax=v$ e ter garantia de convergência, teríamos que fazer uma troca de linhas da mtriz $A$ de modo a obter um sistema equivalente em que a convergência do método iterativo para sua resolução é assegurada.\n",
    "\n",
    "Observe que trocano a primeira e a terceira linha de $A$, obtemos uma matriz $H$ com norma menor que $1$."
   ]
  },
  {
   "cell_type": "code",
   "execution_count": 111,
   "id": "b6af10e0",
   "metadata": {},
   "outputs": [],
   "source": [
    "A[[0,2]]=A[[2,0]]"
   ]
  },
  {
   "cell_type": "code",
   "execution_count": 131,
   "id": "45fc7997",
   "metadata": {},
   "outputs": [
    {
     "data": {
      "text/plain": [
       "5.883026432033091"
      ]
     },
     "execution_count": 131,
     "metadata": {},
     "output_type": "execute_result"
    }
   ],
   "source": [
    "H = A/np.diag(A).reshape(4,1)-np.eye(len(A))\n",
    "np.linalg.norm(H)"
   ]
  },
  {
   "cell_type": "code",
   "execution_count": null,
   "id": "b2a56155",
   "metadata": {},
   "outputs": [],
   "source": []
  },
  {
   "cell_type": "markdown",
   "id": "f10b347f",
   "metadata": {},
   "source": [
    "**Exercícios:** \n",
    "\n",
    "**1.** Calcule outras normas para a matriz $H$."
   ]
  },
  {
   "cell_type": "code",
   "execution_count": 134,
   "id": "875c2690",
   "metadata": {},
   "outputs": [],
   "source": [
    "# resolva aqui"
   ]
  },
  {
   "cell_type": "markdown",
   "id": "5d2948d7",
   "metadata": {},
   "source": [
    "**2.** Verifique se a matriz $A$ é estritamente diagonalmente dominante, ou seja,\n",
    "\n",
    "$$ |a_{ii}| > \\sum_{j=1,i\\neq j} |a_{ij}| , i=1,...n \\text{.}$$\n",
    "\n",
    "É possível trocar linhas da matriz $A$ de modo que ela se torna estr?itamente diagonalmente dominante?"
   ]
  },
  {
   "cell_type": "code",
   "execution_count": 135,
   "id": "9f92f9a1",
   "metadata": {},
   "outputs": [],
   "source": [
    "# resolva aqui"
   ]
  },
  {
   "cell_type": "markdown",
   "id": "9096b65c",
   "metadata": {},
   "source": [
    "### Método iterativo de Jacobi-Richardson\n",
    "\n",
    "Considere um sistema  de equações lineares $Ax = b$ em que $det(A) \\neq 0$, com a diagonal principal $a_{ii} \\neq 0$, $i=1,...,n$ como segue\n",
    "\n",
    "$$ \\begin{cases} \n",
    "\t         a_{11}x_1 +a_{12}x_2 + \\cdots + a_{1n}x_n = b_1\\\\ \n",
    "\t         a_{21}x_1 +a_{22}x_2 + \\cdots + a_{2n}x_n = b_2\\\\\n",
    "\t         \\vdots   \\\\\n",
    "\t         a_{n1}x_1 +a_{n2}x_2 + \\cdots + a_{nn}x_n = b_1\\\\\n",
    "             \\end{cases} $$\n",
    "\n",
    "Dividindo cada linha do sistema dado pelo elemento da diagonal e isolando $x_1$ na $1^a$ equação, $x_2$ na $2^a$ equação até $x_n$ na n-ésima equação, temos o sistema escrito na forma equivalente:\n",
    "\n",
    "$$ \\begin{cases} \n",
    "\t         x_1 = \\frac{1}{a_{11}} \\left(b_1  - a_{12}x_2 - a_{13}x_3 - \\cdots - a_{1n}x_n \\right)\\\\ \n",
    "\t         x_2 = \\frac{1}{a_{22}} \\left(b_2  - a_{21}x_1 - a_{23}x_3 - \\cdots - a_{2n}x_n \\right)\\\\ \n",
    "\t         \\vdots   \\\\\n",
    "\t         x_n = \\frac{1}{a_{nn}} \\left(b_n  - a_{n1}x_1 - a_{n2}x_2 - \\cdots - a_{n \\, n-1}x_{n-1} \\right)\\\\ \n",
    "\\end{cases} $$\n",
    "\n",
    "O método iterativo de Jacobi-Richardson fornece uma sequência de soluções $x^{(k)}=[x_1^{(k)}, x_2^{(k}), ..., x_n^{(k)}]$ com $k=1,2,3,...$ a partir de uma solução inicial $x^{(0)}=[x_1^{(0)}, x_2^{(0), ..., x_n^{(0)}}]$ dada por:\n",
    "\n",
    "$$ \\begin{cases} \n",
    "             x_1^{(k+1)} = \\frac{b_1}{a_{11}}  - \\frac{a_{12}}{a_{11}}x_2^{(k)} - \\frac{a_{13}}{a_{11}}x_3^{(k)} - \\cdots - \\frac{a_{1n}}{a_{11}}x_n^{(k)} \\\\ \n",
    "\t         x_2^{(k+1)} = \\frac{b_2}{a_{22}}  - \\frac{a_{21}}{a_{22}}x_1^{(k)} - \\frac{a_{23}}{a_{22}}x_3^{(k)} - \\cdots - \\frac{a_{1n}}{a_{11}}x_n^{(k)} \\\\ \n",
    "\t         \\vdots   \\\\\n",
    "\t         x_n^{(k+1)} = \\frac{b_n}{a_{nn}}  - \\frac{a_{n1}}{a_{nn}}x_1^{(k)} - \\frac{a_{n2}}{a_{nn}}x_3^{(k)} - \\cdots - \\frac{a_{n \\, n-1}}{a_{nn}}x_{n-1}^{(k)} \\\\\n",
    "\\end{cases} $$\n"
   ]
  },
  {
   "cell_type": "markdown",
   "id": "8eba8f12",
   "metadata": {},
   "source": [
    "ou, ainda:\n",
    "\n",
    "$$ x_i^{(k+1)} = \\frac{1}{a_{ii}} \\left(b_i - \\sum_{j=1}^{i-1} a_{ij}x_j^{(k)} -\\sum_{j=i+1}^{n} a_{ij}x_j^{(k)} \\right) \\,\\,\\,\\,\\,\\, i=1,...,n$$"
   ]
  },
  {
   "cell_type": "markdown",
   "id": "c32e9c27",
   "metadata": {},
   "source": [
    "Na forma matricial, o método de Jacobi-Richardson pode ser escrito como:\n",
    "\n",
    "$$ x^{(k+1)} = Hx^{(k)} + g $$\n",
    "\n",
    "onde \n",
    "\n",
    "\n",
    "$$H = \n",
    "\\left[\\begin{array}{ccccc} \n",
    " 0 & -\\frac{a_{12}}{a_{11}} & -\\frac{a_{13}}{a_{11}} &\\cdots & -\\frac{a_{1n}}{a_{11}} \\\\ \n",
    " -\\frac{a_{21}}{a_{22}} & 0 & -\\frac{a_{23}}{a_{22}} &\\cdots & -\\frac{a_{2n}}{a_{22}} \\\\\n",
    "  \\vdots & \\vdots & \\vdots & \\vdots & \\vdots \\\\\n",
    " -\\frac{a_{n1}}{a_{nn}} & -\\frac{a_{n2}}{a_{nn}} & -\\frac{a_{n3}}{a_{nn}}&\\cdots & 0 \\\\\n",
    "\\end{array} \\right]\n",
    "\\quad \\text{e} \\quad\n",
    "g = \n",
    "\\left[\\begin{array}{c} \n",
    "\\frac{b_1}{a_{11}} \\\\ \n",
    "\\frac{b_2}{a_{22}} \\\\\n",
    "\\vdots \\\\\n",
    "\\frac{b_n}{a_{nn}}\\\\\n",
    "\\end{array} \\right]$$\n",
    "\n",
    "\n",
    "ou, ainda,\n",
    "\n",
    "\n",
    "$$\n",
    "\\left[\\begin{array}{c} \n",
    "x_1^{(k+1)} \\\\ \n",
    "x_2^{(k+1)} \\\\\n",
    "\\vdots \\\\\n",
    "x_n^{(k+1)}\\\\\n",
    "\\end{array} \\right]\n",
    "= \n",
    "\\left[\\begin{array}{ccccc} \n",
    " 0 & -\\frac{a_{12}}{a_{11}} & -\\frac{a_{13}}{a_{11}} &\\cdots & -\\frac{a_{1n}}{a_{11}} \\\\ \n",
    " -\\frac{a_{21}}{a_{22}} & 0 & -\\frac{a_{23}}{a_{22}} &\\cdots & -\\frac{a_{2n}}{a_{22}} \\\\\n",
    "  \\vdots & \\vdots & \\vdots & \\vdots & \\vdots \\\\\n",
    " -\\frac{a_{n1}}{a_{nn}} & -\\frac{a_{n2}}{a_{nn}} & -\\frac{a_{n3}}{a_{nn}}&\\cdots & 0 \\\\\n",
    "\\end{array} \\right]\n",
    "\\left[\\begin{array}{c} \n",
    "x_1^{(k)} \\\\ \n",
    "x_2^{(k)} \\\\\n",
    "\\vdots \\\\\n",
    "x_n^{(k)}\\\\\n",
    "\\end{array} \\right]\n",
    "+\n",
    "\\left[\\begin{array}{c} \n",
    "\\frac{b_1}{a_{11}} \\\\ \n",
    "\\frac{b_2}{a_{22}} \\\\\n",
    "\\vdots \\\\\n",
    "\\frac{b_n}{a_{nn}}\\\\\n",
    "\\end{array} \\right]\n",
    "$$"
   ]
  },
  {
   "cell_type": "markdown",
   "id": "5c1afedf",
   "metadata": {},
   "source": [
    "#### Convergência\n",
    "Podemos verificar a convergência do método avaliando a matriz $A$. Se a matriz $A=[a_{ij}]_{i,j=1.,,,,n}$ do sistema $Ax=b$ for estritamente diagonalmente dominante, ou seja,\n",
    "\n",
    "$$ |a_{ii}| > \\sum_{j=1,i\\neq j} |a_{ij}| , i=1,...n$$\n",
    "\n",
    "então, o método iterativo de Jacobi-Richardson será convergente. "
   ]
  },
  {
   "cell_type": "markdown",
   "id": "935b2ea2",
   "metadata": {},
   "source": [
    "#### Critério de parada \n",
    "Considerando que o processo iterativo está fornecendo uma sequência convergente, um critério de parada para o algoritmo pode ser dado por\n",
    "\n",
    "$$ \\frac{\\parallel x^n - x^{n-1}\\parallel }{\\parallel x^n\\parallel} < \\epsilon$$\n",
    "\n",
    "para alguma norma vetorial $ \\| \\cdot \\| : V \\rightarrow R$ e alguma tolerância $\\epsilon$ pré estabelecida. \n",
    "\n",
    "Por conveniência, é comum utilizarmos a norma infinito:\n",
    "\n",
    "$$\\parallel x\\parallel _ \\infty = max \\{ |x_0|, |x_1|, ..., |x_n| \\}$$"
   ]
  },
  {
   "cell_type": "markdown",
   "id": "38f15b1e",
   "metadata": {},
   "source": [
    "**Exemplo:**\n",
    "Usando o método interativo de Jacobi-Richardson, determine uma solução aproximada para o seguinte sistema de equações lineares, com aproximação inicial $x^{(0)}=(0,0,0)^T$ e precisão $\\epsilon = 0.01$. \n",
    "\n",
    "$$\n",
    "\\left[\\begin{array}{ccc} \n",
    "10 & 2 & 1\\\\\n",
    "1 & 5 & 1\\\\\n",
    "2 & 3 & 10\\\\\n",
    "\\end{array} \\right]\n",
    "\\left[\\begin{array}{c} \n",
    "x_1\\\\\n",
    "x_2\\\\\n",
    "x_3\\\\\n",
    "\\end{array} \\right]\n",
    "=\n",
    "\\left[\\begin{array}{c} \n",
    "14\\\\\n",
    "11\\\\\n",
    "8\\\\\n",
    "\\end{array} \\right]\n",
    "$$"
   ]
  },
  {
   "cell_type": "markdown",
   "id": "c9270be7",
   "metadata": {},
   "source": [
    "Reescrevendo o sistema, obtemos:\n",
    "\n",
    "$$ \n",
    "\\begin{cases} \n",
    "x_1^{(k+1)} = \\frac{14}{10} - \\frac{2}{10}x_2^{(k)} - \\frac{1}{10}x_3^{(k)}\\\\ \n",
    "x_2^{(k+1)} = \\frac{11}{5} - \\frac{1}{5}x_1^{(k)} - \\frac{1}{5}x_3^{(k)}\\\\ \n",
    "x_3^{(k+1)} = \\frac{8}{10} - \\frac{2}{10}x_1^{(k)} - \\frac{3}{10}x_2^{(k)}\\\\ \n",
    "\\end{cases} \n",
    "$$"
   ]
  },
  {
   "cell_type": "markdown",
   "id": "09ec412a",
   "metadata": {},
   "source": [
    "A partir da primeira iteração, $k=0$, $x^{(0)}=(x_1^{(0)},x_2^{(0)},x_3^{(0)})^T=(0,0,0)^T$obtem-se:\n",
    "\n",
    "$x_1^{(1)}=\\frac{14}{10}-\\frac{2}{10}x_2^{(0)}-\\frac{1}{10}x_3^{(0)}=\\frac{14}{10}-\\frac{2}{10}(0)-\\frac{1}{10}(0)=1.4$\n",
    "\n",
    "\n",
    "$x_2^{(1)}= \\frac{11}{5}-\\frac{1}{5}x_1^{(0)}-\\frac{1}{5}x_3^{(0)}= \\frac{11}{5}-\\frac{1}{5}(0)-\\frac{1}{5}(0)=2.2$\n",
    "\n",
    "\n",
    "$x_3^{(1)}=\\frac{8}{10}-\\frac{2}{10}x_1^{(0)}-\\frac{3}{10}x_2^{(0)}=\\frac{8}{10}-\\frac{2}{10}(0)-\\frac{3}{10}(0)=0.8$"
   ]
  },
  {
   "cell_type": "markdown",
   "id": "0e55933a",
   "metadata": {},
   "source": [
    "Em python podemos fazer como é mostrado a seguir"
   ]
  },
  {
   "cell_type": "code",
   "execution_count": 145,
   "id": "5b378dea",
   "metadata": {},
   "outputs": [],
   "source": [
    "# Dados iniciais\n",
    "x = np.array([0.,0.,0.])\n",
    "\n",
    "A =  np.array([[10.,2.,1.],[1.,5.,1.],[2.,3.,10.]])\n",
    "b = np.array([14.,11.,8.])"
   ]
  },
  {
   "cell_type": "code",
   "execution_count": 146,
   "id": "cf664749",
   "metadata": {},
   "outputs": [],
   "source": [
    "# função para fazer as iterações\n",
    "def itera(x):\n",
    "    x1 = (b[0] - A[0,1]*x[1] - A[0,2]*x[2])/A[0,0]\n",
    "    x2 = (b[1] - A[1,0]*x[0] - A[1,2]*x[2])/A[1,1]\n",
    "    x3 = (b[2] - A[2,0]*x[0] - A[2,1]*x[1])/A[2,2]\n",
    "    x = np.array([x1, x2, x3])\n",
    "    return x"
   ]
  },
  {
   "cell_type": "code",
   "execution_count": 147,
   "id": "c51da9a9",
   "metadata": {},
   "outputs": [
    {
     "data": {
      "text/plain": [
       "array([1.4, 2.2, 0.8])"
      ]
     },
     "execution_count": 147,
     "metadata": {},
     "output_type": "execute_result"
    }
   ],
   "source": [
    "x = itera(x)\n",
    "x"
   ]
  },
  {
   "cell_type": "code",
   "execution_count": 148,
   "id": "c1c4c3e0",
   "metadata": {},
   "outputs": [
    {
     "name": "stdout",
     "output_type": "stream",
     "text": [
      "2 [1.4 2.2 0.8] 1.0\n",
      "3 [ 0.88  1.76 -0.14] 0.5341\n",
      "4 [1.062 2.052 0.096] 0.1423\n",
      "5 [ 0.98    1.9684 -0.028 ] 0.063\n",
      "6 [1.00912 2.0096  0.01348] 0.0206\n",
      "7 [ 0.996732  1.99548  -0.004704] 0.0091\n",
      "Solução: [ 0.9967  1.9955 -0.0047]\n"
     ]
    }
   ],
   "source": [
    "#várias iterações e o erro\n",
    "x = np.array([0.,0.,0.])\n",
    "\n",
    "x_ant = x\n",
    "for i in range(2,8):\n",
    "    x = itera(x)\n",
    "    err = np.max(abs(x-x_ant))/np.max(abs(x))\n",
    "    x_ant = x\n",
    "    print (i, x, np.round(err,4))\n",
    "    \n",
    "print (\"Solução:\", np.round(x,4))"
   ]
  },
  {
   "cell_type": "markdown",
   "id": "f245a8ea",
   "metadata": {},
   "source": [
    "Resolvendo novamente, mas agora usando operações matriciais"
   ]
  },
  {
   "cell_type": "code",
   "execution_count": 149,
   "id": "696c61cf",
   "metadata": {},
   "outputs": [
    {
     "name": "stdout",
     "output_type": "stream",
     "text": [
      "H = [[ 0.  -0.2 -0.1]\n",
      " [-0.2  0.  -0.2]\n",
      " [-0.2 -0.3  0. ]]\n",
      "g = [1.4 2.2 0.8]\n"
     ]
    }
   ],
   "source": [
    "#Calculando a matriz H\n",
    "H = A.copy()\n",
    "g = b.copy()\n",
    "\n",
    "for i in range(len(A)):\n",
    "    H[i] = -A[i]/A[i,i]\n",
    "    g[i] = b[i]/A[i,i]\n",
    "    \n",
    "H = H + np.identity(len(A))\n",
    "print ('H =', H)\n",
    "print ('g =', g)"
   ]
  },
  {
   "cell_type": "code",
   "execution_count": 150,
   "id": "77562ea8",
   "metadata": {},
   "outputs": [
    {
     "name": "stdout",
     "output_type": "stream",
     "text": [
      "H = [[ 0.  -0.2 -0.1]\n",
      " [-0.2  0.  -0.2]\n",
      " [-0.2 -0.3  0. ]]\n"
     ]
    }
   ],
   "source": [
    "#ou, alternativamente\n",
    "H = np.eye(len(A))- A/np.diag(A).reshape(3,1)\n",
    "print ('H =', H)"
   ]
  },
  {
   "cell_type": "code",
   "execution_count": 151,
   "id": "cf4de442",
   "metadata": {},
   "outputs": [
    {
     "name": "stdout",
     "output_type": "stream",
     "text": [
      "g = [1.4 2.2 0.8]\n"
     ]
    }
   ],
   "source": [
    "g = b/np.diag(A)\n",
    "print ('g =', g)"
   ]
  },
  {
   "cell_type": "code",
   "execution_count": 152,
   "id": "82274ebe",
   "metadata": {},
   "outputs": [
    {
     "name": "stdout",
     "output_type": "stream",
     "text": [
      "Norma: 0.5\n"
     ]
    }
   ],
   "source": [
    "# verificando a convergẽncia com a norma inf \n",
    "norma_inf = np.sum(abs(H), axis=1).max()\n",
    "print ('Norma:', norma_inf)"
   ]
  },
  {
   "cell_type": "code",
   "execution_count": 153,
   "id": "2c997a68",
   "metadata": {},
   "outputs": [],
   "source": [
    "x = np.array([0,0,0])"
   ]
  },
  {
   "cell_type": "code",
   "execution_count": 154,
   "id": "0d88f587",
   "metadata": {},
   "outputs": [
    {
     "data": {
      "text/plain": [
       "array([1.4, 2.2, 0.8])"
      ]
     },
     "execution_count": 154,
     "metadata": {},
     "output_type": "execute_result"
    }
   ],
   "source": [
    "x = H@x+g\n",
    "x"
   ]
  },
  {
   "cell_type": "code",
   "execution_count": 155,
   "id": "b744481c",
   "metadata": {},
   "outputs": [
    {
     "name": "stdout",
     "output_type": "stream",
     "text": [
      "Iterações:\n",
      "[1.4 2.2 0.8] , Err= 1.0\n",
      "[ 0.88  1.76 -0.14] , Err= 0.25\n",
      "[1.062 2.052 0.096] , Err= 0.1423\n",
      "[ 0.98    1.9684 -0.028 ] , Err= 0.04166\n",
      "[1.0091 2.0096 0.0135] , Err= 0.02064\n",
      "[ 0.9967  1.9955 -0.0047] , Err= 0.00621\n"
     ]
    }
   ],
   "source": [
    "# fazendo as iterações\n",
    "err = 1\n",
    "x = np.array([0,0,0])\n",
    "x_ant = x\n",
    "\n",
    "print ('Iterações:')\n",
    "while err>0.01:\n",
    "    x = np.dot(H,x)+g\n",
    "    err = abs(max(x-x_ant)/max(x))\n",
    "    x_ant = x   \n",
    "    print(np.round(x, 4), \", Err=\", np.round(err,5))"
   ]
  },
  {
   "cell_type": "markdown",
   "id": "b97fe01b",
   "metadata": {},
   "source": [
    "### Método iterativo de Gaus-Seidel\n",
    "\n",
    "Considere um sistema  de equações lineares $Ax = b$ em que $det(A) \\neq 0$, com a diagonal principal $a_{ii} \\neq 0$, $i=1,...,n$ como segue\n",
    "\n",
    "$$ \\begin{cases} \n",
    "\t         a_{11}x_1 +a_{12}x_2 + \\cdots + a_{1n}x_n = b_1\\\\ \n",
    "\t         a_{21}x_1 +a_{22}x_2 + \\cdots + a_{2n}x_n = b_2\\\\\n",
    "\t         \\vdots   \\\\\n",
    "\t         a_{n1}x_1 +a_{n2}x_2 + \\cdots + a_{nn}x_n = b_1\\\\\n",
    "             \\end{cases} $$\n",
    "\n",
    "Dividindo cada linha do sistema dado pelo elemento da diagonal e isolando $x_1$ na $1^a$ equação, $x_2$ na $2^a$ equação até $x_n$ na n-ésima equação, temos o sistema escrito na forma equivalente:\n",
    "\n",
    "$$ \\begin{cases} \n",
    "\t         x_1 = \\frac{1}{a_{11}} \\left(b_1  - a_{12}x_2 - a_{13}x_3 - \\cdots - a_{1n}x_n \\right)\\\\ \n",
    "\t         x_2 = \\frac{1}{a_{22}} \\left(b_2  - a_{21}x_1 - a_{23}x_3 - \\cdots - a_{2n}x_n \\right)\\\\ \n",
    "\t         \\vdots   \\\\\n",
    "\t         x_n = \\frac{1}{a_{nn}} \\left(b_n  - a_{n1}x_1 - a_{n2}x_2 - \\cdots - a_{n \\, n-1}x_{n-1} \\right)\\\\ \n",
    "\\end{cases} $$\n",
    "\n",
    "O método iterativo de Gauss-Seidel é dado da seguinte forma:\n",
    "\n",
    "$$ \\begin{cases} \n",
    "             x_1^{(k+1)} = \\frac{b_1}{a_{11}}  - \\frac{a_{12}}{a_{11}}x_2^{(k)} - \\frac{a_{13}}{a_{11}}x_3^{(k)} - \\cdots - \\frac{a_{1n}}{a_{11}}x_n^{(k)} \\\\ \n",
    "\t         x_2^{(k+1)} = \\frac{b_2}{a_{22}}  - \\frac{a_{21}}{a_{22}}x_1^{(k+1)} - \\frac{a_{23}}{a_{22}}x_3^{(k)} - \\cdots - \\frac{a_{1n}}{a_{11}}x_n^{(k)} \\\\ \n",
    "\t         \\vdots   \\\\\n",
    "\t         x_n^{(k+1)} = \\frac{b_n}{a_{nn}}  - \\frac{a_{n1}}{a_{nn}}x_1^{(k+1)} - \\frac{a_{n2}}{a_{nn}}x_3^{(k+1)} - \\cdots - \\frac{a_{n \\, n-1}}{a_{nn}}x_{n-1}^{(k+1)} \\\\\n",
    "\\end{cases} $$\n"
   ]
  },
  {
   "cell_type": "markdown",
   "id": "b532b148",
   "metadata": {},
   "source": [
    "De forma geral, o método de Gauss-Seidel pode ser resumido como:\n",
    "\n",
    "$$ x_i^{(k+1)} = \\frac{1}{a_{ii}} \\left(b_i - \\sum_{j=1}^{i-1} a_{ij}x_j^{(k+1)} -\\sum_{j=i+1}^{n} a_{ij}x_j^{(k)} \\right) \\,\\,\\,\\,\\,\\, i=1,...,n$$\n",
    "\n",
    "ou ainda, de forma equivalente:\n",
    "\n",
    "$$ x_i^{(k+1)} = g_i - \\sum_{j=1}^{i-1} h_{ij}x_j^{(k+1)} -\\sum_{j=i+1}^{n} h_{ij}x_j^{(k)} \\,\\,\\,\\,\\,\\, i=1,...,n$$\n",
    "\n",
    "em que $g_i=\\frac{b_i}{a_{ii}}$ e $h_{ij}=\\frac{a_{ij}}{a_{ii}}$, $i=1,...,n$. "
   ]
  },
  {
   "cell_type": "markdown",
   "id": "74d8818a",
   "metadata": {},
   "source": [
    "#### Convergência: critério de Sassenfield\n",
    "Sejam as constantes $\\beta_i$ definidas pelas seguintes fórmulas de recorrência:\n",
    "\n",
    "$$\\beta_i = \\sum_{j=1}^{i-1} |h_{ij}|\\beta_i +\\sum_{j=i+1}^{n} |h_{ij}| \\,\\,\\,\\,\\,\\, i=1,...,n$$\n",
    "\n",
    "e seja\n",
    "\n",
    "$$\\beta = \\max_{1 \\leq i \\leq n}\\ \\beta_i$$\n",
    "\n",
    "Então, se $\\beta < 1$, a sequência $x^{(k)}$, gerada pelo método iterativo de Gauss-Seidel, converge para a solução $x$ do sistema dado."
   ]
  },
  {
   "cell_type": "markdown",
   "id": "aca1e247",
   "metadata": {},
   "source": [
    "**Exemplo:** Usando o método iterativo de Gauss-Seidel, determine uma solução aproximada para o sistema dado a seguir, com aproximação inicial\n",
    "$x^{(0)} =(x_1^{(0)},x_2^{(0)},x_3^{(0)})^t =(0,0,0)^t$ e precisão $\\epsilon = 0.01$.\n",
    "\n",
    "$$ \\left[\\begin{array}{ccc} \n",
    "10 & 2 & 1\\\\ 1 & 5 & 1\\\\ 2 & 3 & 10\\\\\n",
    "\\end{array} \\right]\n",
    "\\left[\\begin{array}{c} \n",
    "x_1\\\\ x_2\\\\ x_3\\\\\n",
    "\\end{array} \\right]\n",
    "=\n",
    "\\left[\\begin{array}{c} \n",
    "14\\\\ 11\\\\ 8\\\\\n",
    "\\end{array} \\right] $$"
   ]
  },
  {
   "cell_type": "code",
   "execution_count": 156,
   "id": "79735899",
   "metadata": {},
   "outputs": [],
   "source": [
    "# Entrando com a matriz a e o vetor b\n",
    "A = np.array([[10.0, 2.0, 1.0],\n",
    "              [ 1.0, 5.0, 1.0],\n",
    "              [ 2.0, 3.0, 10.0]])\n",
    "\n",
    "b = np.array([14., 11., 8.])"
   ]
  },
  {
   "cell_type": "markdown",
   "id": "3b1ef448",
   "metadata": {},
   "source": [
    "Uma implementação é apresentada a seguir:"
   ]
  },
  {
   "cell_type": "code",
   "execution_count": 157,
   "id": "5aa95235",
   "metadata": {},
   "outputs": [],
   "source": [
    "from numpy.linalg import inv"
   ]
  },
  {
   "cell_type": "code",
   "execution_count": 158,
   "id": "e3b6a941",
   "metadata": {},
   "outputs": [
    {
     "name": "stdout",
     "output_type": "stream",
     "text": [
      "[ 1.4    1.92  -0.056]\n",
      "[ 1.0216  2.0069 -0.0064]\n",
      "[ 9.9930e-01  2.0014e+00 -3.0000e-04]\n",
      "[0.9997 2.0001 0.    ]\n"
     ]
    }
   ],
   "source": [
    "n = len(A)\n",
    "P = np.zeros((n,n))\n",
    "Q = np.zeros((n,n))\n",
    "g = np.zeros(n)\n",
    "\n",
    "x = np.array([0.,0.,0.])\n",
    "for i in range(n):\n",
    "    P[i,0:i] = -A[i,0:i]/A[i,i]\n",
    "    Q[i,i+1:n] = -A[i,i+1:n]/A[i,i]\n",
    "    g[i] = b[i]/A[i,i] \n",
    "    \n",
    "I = np.eye(n)\n",
    "H = np.dot(inv(I-P),Q)\n",
    "g = np.dot(inv(I-P),g)\n",
    "\n",
    "\n",
    "for k in range(4):\n",
    "    x = np.dot(H,x) + g\n",
    "    \n",
    "    print (np.round(x,4))"
   ]
  },
  {
   "cell_type": "markdown",
   "id": "a6f1bd82",
   "metadata": {},
   "source": [
    "Uma solução alternativa\n"
   ]
  },
  {
   "cell_type": "code",
   "execution_count": 159,
   "id": "28ca90db",
   "metadata": {},
   "outputs": [
    {
     "name": "stdout",
     "output_type": "stream",
     "text": [
      "Matriz H:\n",
      "[[ 0.  -0.2 -0.1]\n",
      " [-0.2  0.  -0.2]\n",
      " [-0.2 -0.3  0. ]]\n"
     ]
    }
   ],
   "source": [
    "# obtendo a matriz H\n",
    "H = np.eye(len(A))-(A.T/np.diag(A)).T\n",
    "\n",
    "print ('Matriz H:')\n",
    "print(H)"
   ]
  },
  {
   "cell_type": "code",
   "execution_count": 160,
   "id": "3a37fa58",
   "metadata": {},
   "outputs": [
    {
     "name": "stdout",
     "output_type": "stream",
     "text": [
      "Convergência:\n",
      "max{ [0.3, 0.26, 0.138] } = 0.3\n"
     ]
    }
   ],
   "source": [
    "# verificando a convergência \n",
    "beta = []\n",
    "for i in range(len(H)):\n",
    "    bi = np.dot(beta,abs(H[i,0:i]))+ np.sum(abs(H[i,i+1:]))\n",
    "    beta.append(np.round(bi,4))\n",
    "\n",
    "print('Convergência:')\n",
    "print ('max{',beta,'} =',np.array(beta).max())"
   ]
  },
  {
   "cell_type": "code",
   "execution_count": 161,
   "id": "fa947a68",
   "metadata": {},
   "outputs": [
    {
     "name": "stdout",
     "output_type": "stream",
     "text": [
      "1 [ 1.4    1.92  -0.056]\n",
      "2 [ 1.0216  2.0069 -0.0064]\n",
      "3 [ 9.9930e-01  2.0014e+00 -3.0000e-04]\n",
      "4 [0.9997 2.0001 0.    ]\n",
      "Solução: [0.9997 2.0001 0.    ]\n"
     ]
    }
   ],
   "source": [
    "n = len(A)\n",
    "x = np.array([0.,0.,0.])\n",
    "\n",
    "for k in range(1,5):\n",
    "    for i in range(len(A)):\n",
    "        x[i] = (b[i] - np.dot(A[i,0:i],x[0:i])-np.dot(A[i,i+1:n],x[i+1:n]))/A[i,i]\n",
    "    print(k, np.round(x,4))\n",
    "\n",
    "print(\"Solução:\",np.round(x,4))"
   ]
  },
  {
   "cell_type": "markdown",
   "id": "fa5b5d69",
   "metadata": {},
   "source": [
    "___\n",
    "Na forma matricial, o método de Gauss-Seidel  pode ser escrito como\n",
    "\n",
    "$$\\left[\n",
    "    \\begin{array}{c} \n",
    "\t         x_1^{(k+1)} \\\\ \n",
    "\t         x_2^{(k+1)} \\\\\n",
    "             \\vdots\\\\\n",
    "\t         x_n^{(k+1)} \\\\\n",
    "\t\\end{array} \n",
    "\\right]\n",
    "=\n",
    "\\left[\\begin{array}{ccccc} \n",
    "\t         0                     & 0 & 0 & \\cdots & 0 \\\\ \n",
    "\t         -\\frac{a_{21}}{a_{22}} & 0 & 0 & \\cdots & 0 \\\\\n",
    "\t         \\vdots & \\vdots & \\vdots & \\vdots & \\vdots \\\\\n",
    "\t         -\\frac{a_{n1}}{a_{nn}} & -\\frac{a_{n2}}{a_{nn}} & \\cdots & -\\frac{a_{n \\,n-1}}{a_{nn}} & 0\\\\\n",
    "\t         \\end{array} \\right]\n",
    "             \\left[\n",
    "    \\begin{array}{c} \n",
    "\t         x_1^{(k+1)} \\\\ \n",
    "\t         x_2^{(k+1)} \\\\\n",
    "             \\vdots\\\\\n",
    "\t         x_n^{(k+1)} \\\\\n",
    "\t\\end{array} \n",
    "\\right]\n",
    "+\n",
    "\\left[\\begin{array}{ccccc} \n",
    "\t         0&  -\\frac{a_{12}}{a_{11}}& -\\frac{a_{13}}{a_{11}}& \\cdots &-\\frac{a_{1n}}{a_{11}} \\\\ \n",
    "\t         0& 0& -\\frac{a_{23}}{a_{22}} & \\cdots & -\\frac{a_{2n}}{a_{22}} \\\\\n",
    "\t         \\vdots & \\vdots & \\vdots & \\vdots & \\vdots \\\\\n",
    "\t         0& 0& 0& \\cdots& 0\\\\\n",
    "\t         \\end{array} \\right]\n",
    "\\left[\\begin{array}{c} \n",
    "\t         x_1^{(k)} \\\\ \n",
    "\t         x_2^{(k)} \\\\\n",
    "             \\vdots\\\\\n",
    "\t         x_n^{(k)} \\\\\n",
    "\t\\end{array} \\right]\n",
    "+\n",
    "\\left[ \\begin{array}{c} \n",
    "\t         \\frac{b_1}{a_{11}} \\\\ \n",
    "\t         \\frac{b_2}{a_{22}} \\\\\n",
    "             \\vdots\\\\\n",
    "\t         \\frac{b_n}{a_{nn}} \\\\\n",
    "\t\\end{array} \\right]$$\n"
   ]
  },
  {
   "cell_type": "markdown",
   "id": "b47ce135",
   "metadata": {},
   "source": [
    "ou \n",
    "$$ x^{(k+1)} = P x^{(k+1)} + Q x^{(k)} + g$$\n",
    "\n",
    "$$ (I-P)x^{(k+1)} = Q x^{(k)} + g$$\n",
    "\n",
    "$$ x^{(k+1)} = (I-P)^{-1}Q x^{(k)} + (I-P)^{-1}g$$\n",
    "\n",
    "Fazendo-se $H = (I-P)^{-1}Q$ e $g' =(I-P)^{-1}g$ o processo iterativo torna-se\n",
    "\n",
    "$$x^{(k+1)} = H x^{(k)} + g'$$"
   ]
  },
  {
   "cell_type": "code",
   "execution_count": 162,
   "id": "09260c74",
   "metadata": {},
   "outputs": [
    {
     "name": "stdout",
     "output_type": "stream",
     "text": [
      "[ 1.4    1.92  -0.056]\n",
      "[ 1.0216  2.0069 -0.0064]\n",
      "[ 9.9930e-01  2.0014e+00 -3.0000e-04]\n",
      "[0.9997 2.0001 0.    ]\n"
     ]
    }
   ],
   "source": [
    "from numpy.linalg import inv\n",
    "\n",
    "\n",
    "x = np.array([0.,0.,0.])\n",
    "\n",
    "eps = 0.001\n",
    "# Entrando com a matriz a e o vetor b\n",
    "A = np.array([[10.0, 2.0, 1.0],\n",
    "              [ 1.0, 5.0, 1.0],\n",
    "              [ 2.0, 3.0, 10.0]])\n",
    "\n",
    "b = np.array([14., 11., 8.])\n",
    "\n",
    "n = len(A)\n",
    "P = np.zeros((n,n))\n",
    "Q = np.zeros((n,n))\n",
    "g = np.zeros(n)\n",
    "\n",
    "\n",
    "for i in range(n):\n",
    "    P[i,0:i] = -A[i,0:i]/A[i,i]\n",
    "    Q[i,i+1:n] = -A[i,i+1:n]/A[i,i]\n",
    "    g[i] = b[i]/A[i,i] \n",
    "    \n",
    "I = np.eye(n)\n",
    "H = np.dot(inv(I-P),Q)\n",
    "g = np.dot(inv(I-P),g)\n",
    "\n",
    "\n",
    "for k in range(4):\n",
    "    x = np.dot(H,x) + g\n",
    "    \n",
    "    print (np.round(x,4))"
   ]
  },
  {
   "cell_type": "markdown",
   "id": "39578eda",
   "metadata": {},
   "source": [
    "Ou, de um modo mais esperto..."
   ]
  },
  {
   "cell_type": "code",
   "execution_count": 163,
   "id": "c352ed56",
   "metadata": {},
   "outputs": [
    {
     "data": {
      "text/plain": [
       "array([[0.   , 0.   , 0.   ],\n",
       "       [0.   , 0.04 , 0.   ],\n",
       "       [0.   , 0.028, 0.074]])"
      ]
     },
     "execution_count": 163,
     "metadata": {},
     "output_type": "execute_result"
    }
   ],
   "source": [
    "P = np.tril(H)\n",
    "P"
   ]
  },
  {
   "cell_type": "code",
   "execution_count": 164,
   "id": "8429e1b8",
   "metadata": {},
   "outputs": [
    {
     "data": {
      "text/plain": [
       "array([[ 0.   , -0.2  , -0.1  ],\n",
       "       [ 0.   ,  0.04 , -0.18 ],\n",
       "       [ 0.   ,  0.   ,  0.074]])"
      ]
     },
     "execution_count": 164,
     "metadata": {},
     "output_type": "execute_result"
    }
   ],
   "source": [
    "Q = np.triu(H)\n",
    "Q"
   ]
  },
  {
   "cell_type": "code",
   "execution_count": 165,
   "id": "dc605130",
   "metadata": {},
   "outputs": [],
   "source": [
    "Hl = np.linalg.inv(np.eye(len(H))-P)@Q\n",
    "gl = np.linalg.inv(np.eye(len(H))-P)@g"
   ]
  },
  {
   "cell_type": "code",
   "execution_count": 166,
   "id": "4585c2e2",
   "metadata": {},
   "outputs": [
    {
     "name": "stdout",
     "output_type": "stream",
     "text": [
      "Iterações:\n",
      "[1.4 2.  0. ] , Err= 1.0\n",
      "[1.     2.0833 0.0025] , Err= 0.04\n",
      "[0.9831 2.0863 0.0028] , Err= 0.00144\n",
      "[0.9825 2.0864 0.0028] , Err= 3e-05\n"
     ]
    }
   ],
   "source": [
    "# fazendo as iterações\n",
    "err = 1\n",
    "x = np.array([0,0,0])\n",
    "x_ant = x\n",
    "\n",
    "print ('Iterações:')\n",
    "while err>0.001:\n",
    "    x = (Hl@x)+gl\n",
    "    err = abs(max(x-x_ant)/max(x))\n",
    "    x_ant = x   \n",
    "    print(np.round(x, 4), \", Err=\", np.round(err,5))"
   ]
  },
  {
   "cell_type": "markdown",
   "id": "9ea740da",
   "metadata": {},
   "source": [
    "### Exercícios \n",
    "\n",
    "**1.** Usando o método iterativo de Gauss-Seidel, determine uma solução aproximada para o sistema dado a seguir, com aproximação inicial\n",
    "$x^{(0)} =(0,0,0,0,0)^t$ e 10 iterações.\n",
    "\n",
    "$$ \\left[\\begin{array}{ccccc} \n",
    "5 & 1 & 2 & 1 & -1\\\\ \n",
    "0&6&1&1&-1\\\\ \n",
    "0&1&-3&2&1\\\\\n",
    "3&0&2&7&0\\\\\n",
    "1&1&0&0&8\\\\\n",
    "\\end{array} \\right]\n",
    "\\left[\\begin{array}{c} \n",
    "x_1\\\\ x_2\\\\ x_3\\\\x_4\\\\x_5\\\\\n",
    "\\end{array} \\right]\n",
    "=\n",
    "\\left[\\begin{array}{c} \n",
    "1\\\\ 2\\\\ 0\\\\2\\\\1\\\\\n",
    "\\end{array} \\right] $$"
   ]
  },
  {
   "cell_type": "markdown",
   "id": "916e8a39",
   "metadata": {},
   "source": [
    "**2.** ([Fonte](https://integrada.minhabiblioteca.com.br/reader/books/9788580555691/pageid/297))\n",
    "Use o método de Gauss-Seidel para resolver o seguinte sistema até que o erro relativo porcentual caia abaixo de $\\varepsilon_s=5 \\%$,\n",
    "$$\n",
    "\\begin{gathered}\n",
    "10 x_1+2 x_2-x_3=27 \\\\\n",
    "-3 x_1-6 x_2+2 x_3=-61,5 \\\\\n",
    "x_1+x_2+5 x_3=-21,5\n",
    "\\end{gathered}\n",
    "$$"
   ]
  },
  {
   "cell_type": "markdown",
   "id": "abfd919f",
   "metadata": {},
   "source": [
    "**3.** ([Fonte](https://integrada.minhabiblioteca.com.br/reader/books/9788580555691/pageid/297))Dos seguintes três conjuntos de equações lineares, identifique qual(is) conjunto(s) não pode(m) ser resolvido(s) usando um método iterativo como o de Gauss-Seidel. Mostre, utilizando qualquer número de iterações, que necessariamente sua solução não converge. Enuncie claramente seu critério de convergência (como você sabe que a solução não está convergindo).\n",
    "\n",
    "$$\\text{(a)} \\begin{gathered}8 x+3 y+z=12 \\\\ -6 x+7 z=1 \\\\ 2 x+4 y-z=5\\end{gathered}\n",
    "\\text{,} \\quad \\quad\n",
    "\\text{(b)} \\begin{aligned} & x+y+5 z=7 \\\\ & x+4 y-z=4 \\\\ & 3 x+y-z=4\\end{aligned}\n",
    "\\quad\\text{e} \\quad\n",
    "\\text{(c)} \\begin{gathered}-x+3 y+5 z=7 \\\\ -2 x+4 y-5 z=-3 \\\\ 2 y-z=1\\end{gathered}\n",
    "$$"
   ]
  },
  {
   "cell_type": "markdown",
   "id": "fc055f16",
   "metadata": {},
   "source": [
    "**4.** ([Fonte](https://integrada.minhabiblioteca.com.br/reader/books/9788580555691/pageid/297)) Se possível, use algum método iterativo para resolver os sistemas lineares:\n",
    "\n",
    "$$\n",
    "\\left[\\begin{array}{cccc}\n",
    "1 & 4 & 9 & 16 \\\\\n",
    "4 & 9 & 16 & 25 \\\\\n",
    "9 & 16 & 25 & 36 \\\\\n",
    "16 & 25 & 36 & 49\n",
    "\\end{array}\\right]\\left[\\begin{array}{l}\n",
    "x_1 \\\\\n",
    "x_2 \\\\\n",
    "x_3 \\\\\n",
    "x_4\n",
    "\\end{array}\\right]=\\left[\\begin{array}{c}\n",
    "30 \\\\\n",
    "54 \\\\\n",
    "86 \\\\\n",
    "126\n",
    "\\end{array}\\right]\n",
    "\\quad \\text{e} \\quad\n",
    "\\left[\\begin{array}{rrrrr}8 & -2 & -1 & 0 & 0 \\\\ -2 & 9 & -4 & -1 & 0 \\\\ -1 & -3 & 7 & -1 & -2 \\\\ 0 & -4 & -2 & 12 & -5 \\\\ 0 & 0 & -7 & -3 & 15\\end{array}\\right]\n",
    "\\left[\\begin{array}{l}x_1 \\\\ x_2 \\\\ x_3 \\\\ x_4 \\\\ x_5\\end{array}\\right]=\\left[\\begin{array}{l}5 \\\\ 2 \\\\ 0 \\\\ 1 \\\\ 5\\end{array}\\right]\n",
    "$$"
   ]
  },
  {
   "cell_type": "markdown",
   "id": "1fb00d85",
   "metadata": {},
   "source": [
    "**4.** ([Fonte](https://integrada.minhabiblioteca.com.br/reader/books/9788522123414/pageid/526)) Se possível, use algum método iterativo para resolver os sistemas lineares:\n",
    "\n",
    "$$\n",
    "\\begin{aligned}\n",
    "10 x_1+5 x_2 & =6 \\\\\n",
    "5 x_1+10 x_2-4 x_3 & =25 \\\\\n",
    "-4 x_2+8 x_3-x_4 & =-11 \\\\\n",
    "-x_3+5 x_4 & =-11 \n",
    "\\end{aligned}\n",
    "\\quad \\text{e} \\quad\n",
    "\\begin{aligned}\n",
    "4 x_1+x_2+x_3+x_5 & =6 \\\\\n",
    "-x_1-3 x_2+x_3+x_4 & =6 \\\\\n",
    "2 x_1+x_2+5 x_3-x_4-x_5 & =6 \\\\\n",
    "-x_1-x_2-x_3+4 x_4 & =6 \\\\\n",
    "2 x_2-x_3+x_4+4 x_5 & =6 \n",
    "\\end{aligned}\n",
    "$$"
   ]
  },
  {
   "cell_type": "markdown",
   "id": "59d92e56",
   "metadata": {},
   "source": [
    "Mais aplicações e estudos de caso em [Chapra e Canale (2020)](https://integrada.minhabiblioteca.com.br/reader/books/9788580555691/pageid/299)."
   ]
  },
  {
   "cell_type": "code",
   "execution_count": null,
   "id": "3a85d237",
   "metadata": {},
   "outputs": [],
   "source": []
  }
 ],
 "metadata": {
  "kernelspec": {
   "display_name": "Python 3 (ipykernel)",
   "language": "python",
   "name": "python3"
  },
  "language_info": {
   "codemirror_mode": {
    "name": "ipython",
    "version": 3
   },
   "file_extension": ".py",
   "mimetype": "text/x-python",
   "name": "python",
   "nbconvert_exporter": "python",
   "pygments_lexer": "ipython3",
   "version": "3.8.5"
  }
 },
 "nbformat": 4,
 "nbformat_minor": 5
}
