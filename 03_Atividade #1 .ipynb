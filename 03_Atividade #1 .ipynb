{
 "cells": [
  {
   "cell_type": "markdown",
   "id": "354c1dd4",
   "metadata": {},
   "source": [
    "## Atividade #1\n"
   ]
  },
  {
   "cell_type": "markdown",
   "id": "e4a6e428",
   "metadata": {},
   "source": [
    "**Atividade:** Usar as funções de Pyhton e Numpy estudados em aula para descrever vetores e matrizes como `arrays` e realizar o que se pede a seguir.\n",
    "\n",
    "Dadas as matrizes\n",
    "$A= \\left[\\begin{array}{ccc} \n",
    "\t         1 & 2  & 3 \\\\ \n",
    "\t         -1 & 5 &  0 \\\\\n",
    "\t         7 & -2 &  4 \\\\\n",
    "\t         \\end{array} \\right]$,\n",
    "$M= \\left[\\begin{array}{ccc} \n",
    "\t         1 & 2  & 3 \\\\ \n",
    "\t         11 & -2 & 7.5  \\\\\n",
    "\t         7 & -2 &  4 \\\\\n",
    "\t         \\end{array} \\right]$ e\n",
    "            \n",
    "\n",
    "$N=\\frac 1{\\sqrt{6}}\\begin{pmatrix} \\sqrt{2} & 1 & \\sqrt{3} \\\\ -\\sqrt{2} & 2 & 0 \\\\ \\sqrt{2} & 1 & -\\sqrt{3} \\end{pmatrix}$\n",
    "\n",
    "\n",
    "e o vetor $b = \\left[ \n",
    "            \\begin{array}{c} \n",
    "\t          3 \\\\ \n",
    "\t         -1  \\\\\n",
    "\t          0 \\\\\n",
    "\t         \\end{array} \\right]$, "
   ]
  },
  {
   "cell_type": "markdown",
   "id": "d26408b5",
   "metadata": {},
   "source": [
    "**1.** Calcule o módulo (ou magnitude) do vetor $b$. Em seguida obtenha um vetor unitário $\\hat{b}$ na direção de $b$ e verifique que $\\sqrt{\\langle \\hat{b}, \\hat{b}\\rangle }=1$."
   ]
  },
  {
   "cell_type": "markdown",
   "id": "3b9c26af",
   "metadata": {},
   "source": [
    "**2.** Verifique que a segunda linha ($L_2$) da matriz $M$ é a combinação linear  $L_2 = \\frac{1}{2}L_1+\\frac{3}{2}L_3$ da primeira ($L_1$) e da terceira ($L_3$) linhas."
   ]
  },
  {
   "cell_type": "code",
   "execution_count": null,
   "id": "f5489e48",
   "metadata": {},
   "outputs": [],
   "source": []
  },
  {
   "cell_type": "markdown",
   "id": "2ad1ff48",
   "metadata": {},
   "source": [
    "**3.** Verifique que dois vetores $u_1$ e $u_2$ dados por duas colunas quaisquer de $N$ são ortogonais entre si, ou seja, $\\langle u_1, u_2\\rangle =0$."
   ]
  },
  {
   "cell_type": "code",
   "execution_count": null,
   "id": "ae06d82f",
   "metadata": {},
   "outputs": [],
   "source": []
  },
  {
   "cell_type": "markdown",
   "id": "763290b1",
   "metadata": {},
   "source": [
    "**4.** Verifique que o produto vetorial de dois vetores $u_1$ e $u_2$ dados por duas colunas quaisquer de $N$ resulta em um vetor múltiplo da terceira coluna."
   ]
  },
  {
   "cell_type": "code",
   "execution_count": null,
   "id": "1130fbd8",
   "metadata": {},
   "outputs": [],
   "source": []
  },
  {
   "cell_type": "markdown",
   "id": "587470fd",
   "metadata": {},
   "source": [
    "**5.** Calcule o determinante das matrizes $A$, $M$ e $N$. Qual dessas 3 matrizes possuem inversa?"
   ]
  },
  {
   "cell_type": "code",
   "execution_count": null,
   "id": "908643da",
   "metadata": {},
   "outputs": [],
   "source": []
  },
  {
   "cell_type": "markdown",
   "id": "59725626",
   "metadata": {},
   "source": [
    "**6.** Obtenha a inversa de $A$ e use-a para obter o vetor $x$ tal que $x = A^{-1}b$. Então, verifique que $x$ é a solução do sistema $Ax=b$, calculando o produto $Ax$ e comparando com o vetor $b$. "
   ]
  },
  {
   "cell_type": "code",
   "execution_count": null,
   "id": "9ad2f8f4",
   "metadata": {},
   "outputs": [],
   "source": []
  },
  {
   "cell_type": "markdown",
   "id": "e567054f",
   "metadata": {},
   "source": [
    "**7.** Verifique que $N$ é uma matriz ortogonal mostrando que $N^{-1}=N^T$."
   ]
  },
  {
   "cell_type": "code",
   "execution_count": null,
   "id": "6f07d407",
   "metadata": {},
   "outputs": [],
   "source": []
  },
  {
   "cell_type": "markdown",
   "id": "fb23ee4a",
   "metadata": {},
   "source": [
    "**8.** Extraia uma matriz triangular superior da matriz $A$ e verifique que o determinante da matriz triangular é igual ao produto dos elementos de sua diagonal principal. "
   ]
  },
  {
   "cell_type": "code",
   "execution_count": null,
   "id": "09bcd94a",
   "metadata": {},
   "outputs": [],
   "source": []
  },
  {
   "cell_type": "markdown",
   "id": "2eab9027",
   "metadata": {},
   "source": [
    "**9.**  Verifique que trocando duas linhas da matriz identidade e multiplicando por qualquer uma das matrizes dadas, o resultado obtido é a matriz com as mesmas linhas trocadas."
   ]
  },
  {
   "cell_type": "code",
   "execution_count": null,
   "id": "4a7c021e",
   "metadata": {},
   "outputs": [],
   "source": []
  },
  {
   "cell_type": "markdown",
   "id": "045cc251",
   "metadata": {},
   "source": [
    "**10.** Faça o escalonamento da matriz $A$ usando operações elementares sobre linhas  da matriz."
   ]
  },
  {
   "cell_type": "code",
   "execution_count": null,
   "id": "7704bf64",
   "metadata": {},
   "outputs": [],
   "source": []
  }
 ],
 "metadata": {
  "kernelspec": {
   "display_name": "Python 3",
   "language": "python",
   "name": "python3"
  },
  "language_info": {
   "codemirror_mode": {
    "name": "ipython",
    "version": 3
   },
   "file_extension": ".py",
   "mimetype": "text/x-python",
   "name": "python",
   "nbconvert_exporter": "python",
   "pygments_lexer": "ipython3",
   "version": "3.8.5"
  }
 },
 "nbformat": 4,
 "nbformat_minor": 5
}
