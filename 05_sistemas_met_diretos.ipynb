{
 "cells": [
  {
   "cell_type": "markdown",
   "id": "c46ef01a",
   "metadata": {},
   "source": [
    "## Sistemas lineares\n",
    "### Métodos diretos\n",
    "\n",
    "É comum em computação numérica escalonar uma matriz que representa um sistema linear com o objetivo de obter um ou mais sistemas triangulares durante o processo de resolução. Sistemas lineares triangulares são aqueles cuja matriz dos coeficientes é uma matriz triangular e o algoritmo para sua resolução é bastante simples, consiste=indo de substituições subsequentes. "
   ]
  },
  {
   "cell_type": "markdown",
   "id": "297fdb48",
   "metadata": {},
   "source": [
    "Um **sistema triangular inferior** representado por $Lx=b$, possui matriz de coeficientes tal que $[l_{ij}]=0$ para $i<j$, com $i,j=0,1,...,n$. \n",
    "\n",
    "Um algoritmo para obter a sua solução é dado por:\n",
    "\n",
    "$$ x_1 = b_1/a_{11}$$\n",
    "\n",
    "para $i=2,3...,n$, faça\n",
    "\n",
    "$$ x_i = \\frac{b_i- \\sum\\limits_{j=1}^{(i-1)} a_{ij}x_j}{a_{ii}}$$\t         \n",
    "\t         \n",
    "Usando Python, um código que implementa esse algoritmo, é mostrado no exemplo abaixo."
   ]
  },
  {
   "cell_type": "markdown",
   "id": "eaeca23e",
   "metadata": {},
   "source": [
    "### Exemplo\n",
    "\n",
    "Seja o sistema linear\n",
    "$$ \\begin{cases} \n",
    "\t         2x_1 = 2\\\\ \n",
    "             x_1 + 4x_2 = -3\\\\\n",
    "             x_1 + x_2 + x_3 = 0\n",
    "             \\end{cases} $$\n",
    "um código em Python que implementa esse algoritmo e a solução obtida executando o programa são mostrados a seguir "
   ]
  },
  {
   "cell_type": "code",
   "execution_count": 31,
   "id": "285f3b9b",
   "metadata": {},
   "outputs": [],
   "source": [
    "import numpy as np"
   ]
  },
  {
   "cell_type": "code",
   "execution_count": 32,
   "id": "16e9ef5c",
   "metadata": {},
   "outputs": [],
   "source": [
    "def solve_L(A,b):\n",
    "    x1 = b[0]/A[0][0]\n",
    "    x = [x1]\n",
    "\n",
    "    for i in range(1,len(A)):\n",
    "        soma = 0\n",
    "        for j in range(0,i):\n",
    "            soma +=  A[i][j]*x[j]\n",
    "        x.append((b[i]-soma)/A[i][i])\n",
    "    return x\n"
   ]
  },
  {
   "cell_type": "code",
   "execution_count": 33,
   "id": "1ec25691",
   "metadata": {},
   "outputs": [],
   "source": [
    "A = np.array([[2,0,0], \n",
    "              [1,4,0], \n",
    "              [1,1,1]], dtype=np.float64) \n",
    "b = np.array([2,-3,0], dtype=np.float64) "
   ]
  },
  {
   "cell_type": "code",
   "execution_count": 34,
   "id": "dd997171",
   "metadata": {},
   "outputs": [
    {
     "data": {
      "text/plain": [
       "[1.0, -1.0, 0.0]"
      ]
     },
     "execution_count": 34,
     "metadata": {},
     "output_type": "execute_result"
    }
   ],
   "source": [
    "x = solve_L(A,b)\n",
    "x"
   ]
  },
  {
   "cell_type": "markdown",
   "id": "9b8f9493",
   "metadata": {},
   "source": [
    "Ou, de modo mais elegante:\n"
   ]
  },
  {
   "cell_type": "code",
   "execution_count": 35,
   "id": "86c5f44a",
   "metadata": {},
   "outputs": [
    {
     "name": "stdout",
     "output_type": "stream",
     "text": [
      "[ 1. -1.  0.]\n"
     ]
    }
   ],
   "source": [
    "x = np.zeros(len(b))\n",
    "for i in range(len(A)):\n",
    "    x[i] = (b[i]-A[i,:i].dot(x[:i]))/A[i,i]\n",
    "print (x)"
   ]
  },
  {
   "cell_type": "code",
   "execution_count": 36,
   "id": "da50b7ad",
   "metadata": {},
   "outputs": [
    {
     "name": "stdout",
     "output_type": "stream",
     "text": [
      "[ 1. -1.  0.]\n"
     ]
    }
   ],
   "source": [
    "def solve_L(L,b): \n",
    "    x = np.zeros(len(b))\n",
    "    for i in range(len(b)):\n",
    "        x[i] = (b[i]-L[i,:i].dot(x[:i]))/L[i,i]\n",
    "    return (x)\n",
    "\n",
    "x = solve_L(A,b)\n",
    "print(x)\n"
   ]
  },
  {
   "cell_type": "code",
   "execution_count": 37,
   "id": "b3ec9eb5",
   "metadata": {},
   "outputs": [
    {
     "data": {
      "text/plain": [
       "array([ 1., -1.,  0.])"
      ]
     },
     "execution_count": 37,
     "metadata": {},
     "output_type": "execute_result"
    }
   ],
   "source": [
    "x = solve_L(A,b)\n",
    "x"
   ]
  },
  {
   "cell_type": "code",
   "execution_count": 38,
   "id": "02de3529",
   "metadata": {},
   "outputs": [
    {
     "data": {
      "text/plain": [
       "array([ 2., -3.,  0.])"
      ]
     },
     "execution_count": 38,
     "metadata": {},
     "output_type": "execute_result"
    }
   ],
   "source": [
    "A@x"
   ]
  },
  {
   "cell_type": "markdown",
   "id": "b3d3987e",
   "metadata": {},
   "source": [
    "Um **sistema triangular superior** representado por $Ux=b$, possui matriz de coeficientes tal que $[u_{ij}]=0$ para $i>j$, com $i,j=0,1,...,n$. \n",
    "\n",
    "Um algoritmo para obter a sua solução é dado por:\n",
    "\n",
    "$$ x_n = b_n/a_{nn}$$\n",
    "\n",
    "para $i=(n-1), (n-2),...,1$, faça\n",
    "\n",
    "$$ x_i = \\frac{b_i- \\sum\\limits_{j=i+1}^{(n)} a_{ij}x_j}{a_{ii}}$$\t\n",
    "\n",
    "Usando Python, um código que implementa esse algoritmo, é mostrado abaixo."
   ]
  },
  {
   "cell_type": "markdown",
   "id": "c4204ebe",
   "metadata": {},
   "source": [
    "### Exemplo\n",
    "Seja o sistema linear\n",
    "$$ \\begin{cases} \n",
    "\t         3x_1 + x_2 +x_3= 4\\\\ \n",
    "             2x_2 -x_3 = 2\\\\\n",
    "             3x_3 = 3\n",
    "             \\end{cases} $$\n",
    "             \n",
    "um código em Python que implementa esse algoritmo e a solução obtida executando o programa são mostrados a seguir "
   ]
  },
  {
   "cell_type": "code",
   "execution_count": 23,
   "id": "ec938326",
   "metadata": {},
   "outputs": [],
   "source": [
    "import numpy as np"
   ]
  },
  {
   "cell_type": "code",
   "execution_count": 24,
   "id": "9301734b",
   "metadata": {},
   "outputs": [],
   "source": [
    "A = np.array([[3,1,1], [0,2,-1], [0,0,3]]) \n",
    "b = np.array([4,2,3])"
   ]
  },
  {
   "cell_type": "code",
   "execution_count": 26,
   "id": "d18e25d0",
   "metadata": {},
   "outputs": [
    {
     "name": "stdout",
     "output_type": "stream",
     "text": [
      "[0.5 1.5 1. ]\n"
     ]
    }
   ],
   "source": [
    "def solve_U(U,b):\n",
    "    x = np.zeros(len(b))\n",
    "    for i in range(len(b)-1,-1,-1):\n",
    "        x[i]=(b[i]-np.dot(U[i,i+1:],x[i+1:]))/U[i,i]\n",
    "    return (x)\n",
    "\n",
    "x = solve_U(A,b)\n",
    "print (x)"
   ]
  },
  {
   "cell_type": "code",
   "execution_count": 27,
   "id": "63c826b3",
   "metadata": {},
   "outputs": [
    {
     "data": {
      "text/plain": [
       "array([0.5, 1.5, 1. ])"
      ]
     },
     "execution_count": 27,
     "metadata": {},
     "output_type": "execute_result"
    }
   ],
   "source": [
    "np.linalg.solve(A,b)"
   ]
  },
  {
   "cell_type": "markdown",
   "id": "00b01d98",
   "metadata": {},
   "source": [
    "Verificando a solução"
   ]
  },
  {
   "cell_type": "code",
   "execution_count": 28,
   "id": "7071d919",
   "metadata": {},
   "outputs": [
    {
     "data": {
      "text/plain": [
       "array([4., 2., 3.])"
      ]
     },
     "execution_count": 28,
     "metadata": {},
     "output_type": "execute_result"
    }
   ],
   "source": [
    "A@x"
   ]
  },
  {
   "cell_type": "code",
   "execution_count": null,
   "id": "26fa2a50",
   "metadata": {},
   "outputs": [],
   "source": []
  },
  {
   "cell_type": "markdown",
   "id": "d7ea81b8",
   "metadata": {},
   "source": [
    "### Fatoração LU\n",
    "Uma forma de obter a fatoração $LU$ da matriz $A$, conhecido como processo Redução de Doolittle será apresentado a seguir. Considere a fatoração da matriz $A = (a_{ij})_{i,j=1,...,n}$ nas matrizes $L = (l_{ij})_{i,j=1,...,n}$ e $U = (u_{ij})_{i,j=1,...,n}$ como é mostrado a seguir\n",
    "\n",
    "$$\\left[\\begin{array}{cccc} \n",
    "\t         1      & 0      & \\cdots & 0      \\\\ \n",
    "\t         l_{21} & 1      & \\cdots & 0      \\\\\n",
    "\t         \\vdots & \\vdots & \\vdots & \\vdots \\\\\n",
    "\t         l_{n1} & l_{n2} & \\cdots & 1 \\\\\n",
    "\t         \\end{array} \\right] \n",
    "\\left[\\begin{array}{cccc} \n",
    "\t         u_{11} & u_{12} & \\cdots & u_{1n} \\\\ \n",
    "\t         0      & u_{22} & \\cdots & u_{2n} \\\\\n",
    "\t         \\vdots & \\vdots & \\vdots & \\vdots \\\\\n",
    "\t         0      & 0      & \\cdots & u_{nn} \\\\\n",
    "\t         \\end{array} \\right]\n",
    "\t         =\n",
    "\\left[\\begin{array}{cccc} \n",
    "\t         a_{11} & a_{12} & \\cdots & a_{1n} \\\\ \n",
    "\t         a_{21} & a_{22} & \\cdots & a_{2n} \\\\\n",
    "\t         \\vdots & \\vdots & \\vdots & \\vdots \\\\\n",
    "\t         a_{n1} & a_{n2} & \\cdots & a_{nn} \\\\\n",
    "\t         \\end{array} \\right]$$\n",
    "\n",
    "o processo de múltiplicação de matrizes nos leva às seguintes equações, que fornecem a primeira linha da matriz $U$: $u_{11}=a_{11}$, $u_{12}=a_{12}$, $u_{12}=a_{12}$,..., $u_{1n}=a_{1n}$. Seguindo o procedimento de multiplicar matrizes, podemos encontrar a 1ª coluna da matriz $L$: $l_{21}=a_{21}/u_{11}$, $l_{31}=a_{31}/u_{11}$,..., $u_{n1}=a_{n1}/u_{11}$. Continuando o processo para a 2ª linha de $U$, 2ª coluna de $L$, 3ª linha de $U$, 3ª coluna de $L$, e assim por diante, chegamos nas seguintes fórmulas:\n",
    "$$u_{ij}=a_{ij}-\\sum\\limits_{k=1}^{i-1}l_{ik}u_{kj} \\qquad i,j=1,...,n$$\n",
    "e\n",
    "$$l_{ij}=\\frac{a_{ij}-\\sum\\limits_{k=1}^{j-1}l_{ik}u_{kj}}{ujj} \\qquad i,j=1,...,n$$"
   ]
  },
  {
   "cell_type": "code",
   "execution_count": 24,
   "id": "5b44854a",
   "metadata": {},
   "outputs": [],
   "source": [
    "def fatoracao_LU(A):\n",
    "    n = len(A)     \n",
    "    U = np.zeros((n,n))\n",
    "    L = np.identity(n)\n",
    "    for m in range(n):\n",
    "        for j in range(m, n):\n",
    "            U[m,j] = A[m,j] - np.sum(L[m,0:m] * U[0:m,j])\n",
    "        for i in range(m+1, n):\n",
    "            L[i,m] = (A[i,m] - np.sum(L[i,0:m] * U[0:m,m]))/U[m,m]\n",
    "    return L,U"
   ]
  },
  {
   "cell_type": "code",
   "execution_count": 25,
   "id": "21ddbd11",
   "metadata": {},
   "outputs": [
    {
     "name": "stdout",
     "output_type": "stream",
     "text": [
      "Matriz L:\n",
      "[[1.  0.  0. ]\n",
      " [0.  1.  0. ]\n",
      " [0.5 0.5 1. ]]\n",
      "Matriz U:\n",
      "[[2. 0. 1.]\n",
      " [0. 2. 1.]\n",
      " [0. 0. 2.]]\n"
     ]
    }
   ],
   "source": [
    "A = np.array([[2,0,1],\n",
    "              [0,2,1],\n",
    "              [1,1,3]])\n",
    "b = np.array([3,3,5])\n",
    "L,U = fatoracao_LU(A)\n",
    "\n",
    "print (\"Matriz L:\")\n",
    "print (np.array(L))\n",
    "print (\"Matriz U:\")\n",
    "print(np.array(U))"
   ]
  },
  {
   "cell_type": "code",
   "execution_count": 26,
   "id": "75c02c60",
   "metadata": {},
   "outputs": [
    {
     "data": {
      "text/plain": [
       "array([3., 3., 2.])"
      ]
     },
     "execution_count": 26,
     "metadata": {},
     "output_type": "execute_result"
    }
   ],
   "source": [
    "np.linalg.solve(L,b)\n"
   ]
  },
  {
   "cell_type": "code",
   "execution_count": 29,
   "id": "b3649c09",
   "metadata": {},
   "outputs": [
    {
     "data": {
      "text/plain": [
       "[3.0, 3.0, 2.0]"
      ]
     },
     "execution_count": 29,
     "metadata": {},
     "output_type": "execute_result"
    }
   ],
   "source": [
    "def solve_L(A,b):\n",
    "    x1 = b[0]/A[0][0]\n",
    "    x = [x1]\n",
    "\n",
    "    for i in range(1,len(A)):\n",
    "        soma = 0\n",
    "        for j in range(0,i):\n",
    "            soma +=  A[i][j]*x[j]\n",
    "        x.append((b[i]-soma)/A[i][i])\n",
    "    return x\n",
    "\n",
    "y = solve_L(L,b)\n",
    "y"
   ]
  },
  {
   "cell_type": "code",
   "execution_count": 30,
   "id": "cc45a0d8",
   "metadata": {},
   "outputs": [
    {
     "data": {
      "text/plain": [
       "array([1., 1., 1.])"
      ]
     },
     "execution_count": 30,
     "metadata": {},
     "output_type": "execute_result"
    }
   ],
   "source": [
    "solve_U(U,y)"
   ]
  },
  {
   "cell_type": "markdown",
   "id": "5046dee7",
   "metadata": {},
   "source": [
    "Outro exemplo"
   ]
  },
  {
   "cell_type": "code",
   "execution_count": null,
   "id": "de23f4b6",
   "metadata": {},
   "outputs": [],
   "source": [
    "A = np.array([[3,2,4],\n",
    "              [1,1,2],\n",
    "              [4,3,2]])\n",
    "b = [1,2,3]\n",
    "L,U = fatoracao_LU(A)\n",
    "\n",
    "y = solve_L(L,b)\n",
    "print(\"y=\",np.round(y,4))\n",
    "x = solve_U(U,y)\n",
    "print(\"x=\",np.round(x,4))"
   ]
  },
  {
   "cell_type": "markdown",
   "id": "fef023cc",
   "metadata": {},
   "source": [
    "### Método da Eliminação de Gauss"
   ]
  },
  {
   "cell_type": "markdown",
   "id": "63be7cb6",
   "metadata": {},
   "source": [
    "Os métodos diretos de eliminação consistem no processo \n",
    "de transformar um sistema de equações lineares $Ax=b$, em que $A= [a_{ij}]_i,j=1,..,n$, \n",
    "$x=[x_1,x_2,...,x_n]^t$ e $b=[b_1, b_2,...,b_n]^t$, em um sistema equivalente, \n",
    "aplicando operações elementares sobre as linhas da matriz aumentada $[A \\mid b]$. O sistema equivalente obtido ao final do processo, deve ser de \n",
    "resolução mais simples ou imediata, por substituição direta. No caso da eliminação de Gauss \n",
    "com pivoteamento diagonal ou pivoteamento parcial, obtém-se um sistema equivalente \n",
    "na forma triangular. "
   ]
  },
  {
   "cell_type": "markdown",
   "id": "8ed36abd",
   "metadata": {},
   "source": [
    "### Exemplo \n",
    "Um exemplo de algoritmo para resolver sistemas lineares por eliminação de Gauss."
   ]
  },
  {
   "cell_type": "code",
   "execution_count": null,
   "id": "3d9d019c",
   "metadata": {},
   "outputs": [],
   "source": [
    "A = np.array([[3.,2.,4.],\n",
    "              [1.,1.,2.],import scipy\n",
    "import scipy.linalg\n",
    "              [-4.,3.,2.]])\n",
    "\n",
    "b = np.array([1.,2.,3.])\n",
    "\n",
    "M = np.hstack((A,b.reshape(3,1)))\n",
    "M"
   ]
  },
  {
   "cell_type": "code",
   "execution_count": null,
   "id": "1a1da899",
   "metadata": {},
   "outputs": [],
   "source": [
    "# funcao que triangulariza o sistema\n",
    "def triangulariza(M):\n",
    "    n = len(M)\n",
    "    for j in range(n-1):\n",
    "        for i in range(j,n-1):\n",
    "            m = M[i+1,j]/M[j,j]\n",
    "            M[i+1] = M[i+1]-m*M[j]\n",
    "    return (M)\n",
    "\n",
    "T = triangulariza(M)\n",
    "T"
   ]
  },
  {
   "cell_type": "code",
   "execution_count": null,
   "id": "53638e87",
   "metadata": {},
   "outputs": [],
   "source": [
    "U = T[:,0:-1]\n",
    "y = T[:,-1]"
   ]
  },
  {
   "cell_type": "code",
   "execution_count": null,
   "id": "77ed49f9",
   "metadata": {},
   "outputs": [],
   "source": [
    "U"
   ]
  },
  {
   "cell_type": "code",
   "execution_count": null,
   "id": "a1de9d49",
   "metadata": {},
   "outputs": [],
   "source": [
    "def solve_trang_sup(M,m):\n",
    "    M = np.flip(M)\n",
    "    m = np.flip(m)\n",
    "    \n",
    "    for i in range(len(M)):\n",
    "        m[i] = (m[i]-M[i,:i].dot(m[:i]))/M[i,i]\n",
    "    return (np.flip(m))"
   ]
  },
  {
   "cell_type": "code",
   "execution_count": null,
   "id": "86571a64",
   "metadata": {},
   "outputs": [],
   "source": [
    "x = solve_trang_sup(U,y)\n",
    "print(x)"
   ]
  },
  {
   "cell_type": "code",
   "execution_count": null,
   "id": "4a53429b",
   "metadata": {},
   "outputs": [],
   "source": [
    "A"
   ]
  },
  {
   "cell_type": "markdown",
   "id": "3c4c79db",
   "metadata": {},
   "source": [
    "Verificando"
   ]
  },
  {
   "cell_type": "code",
   "execution_count": null,
   "id": "c4f16aaf",
   "metadata": {},
   "outputs": [],
   "source": [
    "A.dot(x)"
   ]
  },
  {
   "cell_type": "markdown",
   "id": "ef8ed229",
   "metadata": {},
   "source": [
    "#### Método por inversão de matrizes\n",
    "\n",
    "Considere o sistema de $n$ equações e $n$ variáveis dado por \n",
    "\n",
    "$$ Ax=b$$\n",
    "\n",
    "Se a matriz $A$ dos coeficientes for não singular, ou seja, se o sistema possuir solução única a matriz é invertível e a solução do sistema pode ser obtida multiplicando-se a inversa $A^{-1}$ à esquerda de ambos os lados da equação, como segue: \n",
    "\n",
    "$$A^{-1}Ax=A^{-1}b$$\n",
    "logo\n",
    "$$Ix = A^{-1}b$$\n",
    "ou\n",
    "$$x = A^{-1}b$$\n",
    "Que é a solução do sistema linear."
   ]
  },
  {
   "cell_type": "markdown",
   "id": "0a5a39f0",
   "metadata": {},
   "source": [
    "**Exemplo:** Resolver o sistema $Ax=b$ com $A = \n",
    " \\left[\\begin{array}{ccc} \n",
    "\t         3 & 0 & 1 \\\\ \n",
    "\t         3 & 2 & 1 \\\\\n",
    "            -3 & 1 & 3 \\\\\n",
    "\t     \\end{array} \\right]$\n",
    "e $b = (1,1,3)^t$.    "
   ]
  },
  {
   "cell_type": "code",
   "execution_count": null,
   "id": "a07a7e1f",
   "metadata": {},
   "outputs": [],
   "source": [
    "import numpy as np\n",
    "from numpy.linalg import inv\n",
    "\n",
    "A = np.array([[3,0,1],[3,2,1],[-3,1,3]])\n",
    "b = np.array([1,1,3])\n",
    "x = np.dot(inv(A),b)\n",
    "print (np.round(x,4))"
   ]
  },
  {
   "cell_type": "markdown",
   "id": "e1e457da",
   "metadata": {},
   "source": [
    "A obtenção inversa pode ser feita pelo processo de eliminação de Gauss-Jordan em que são realizadas operações elementares sobre as linhas da matriz $A$ até que ela se torne uma matriz identidade. Essas mesmas operações são realizadas em uma matriz identidade de mesma ordem, ao final das operações na matriz identidade o resultado é a inversa da matriz $A$. O exemplo a seguir implementa o processo de eliminação de Gauss-Jordan.\n",
    "\n",
    "**Exemplo 7.12:** Vamos nesse exemplo utilizar o processo de eliminação de Gauss-Jordan para obter a matriz inversa de \n",
    "$A = \n",
    " \\left[\\begin{array}{ccc} \n",
    "\t         2 & 1 & 3 \\\\ \n",
    "\t         0 & -1 & 1 \\\\\n",
    "            1 & 0 & 3 \\\\\n",
    "\t     \\end{array} \\right]$"
   ]
  },
  {
   "cell_type": "code",
   "execution_count": null,
   "id": "5352b39f",
   "metadata": {},
   "outputs": [],
   "source": [
    "def gaussJordan(M):\n",
    "    n = len(M)\n",
    "    for k in range(n):\n",
    "        M[k] = M[k]/M[k,k]\n",
    "        for i in range(n):\n",
    "            if i!=k:\n",
    "                M[i] = M[i] - M[i,k]*M[k]\n",
    "    return (M)\n",
    "\n",
    "A = np.array([[2,1,3],[0,-1,1],[1,0,3]], float)\n",
    "I = np.identity(len(A))\n",
    "M = np.concatenate((A,I), axis=1)\n",
    "\n",
    "print ('Matriz ampliada:')\n",
    "print (M)\n",
    "\n",
    "print ('Matriz após eliminação:')\n",
    "Mgj = gaussJordan(M)\n",
    "print (Mgj )\n",
    "\n",
    "print ('Matriz inversa:')\n",
    "Ainv = Mgj[:,3:6]\n",
    "print(Ainv)"
   ]
  },
  {
   "cell_type": "code",
   "execution_count": null,
   "id": "2ff255bd",
   "metadata": {},
   "outputs": [],
   "source": []
  },
  {
   "cell_type": "markdown",
   "id": "634b3c79",
   "metadata": {},
   "source": [
    "### Usando o módulo `linalg`\n"
   ]
  },
  {
   "cell_type": "markdown",
   "id": "aef41712",
   "metadata": {},
   "source": [
    "**Exemplo 2.4, p.33**"
   ]
  },
  {
   "cell_type": "code",
   "execution_count": null,
   "id": "ede4420b",
   "metadata": {},
   "outputs": [],
   "source": [
    "import scipy\n",
    "import scipy.linalg"
   ]
  },
  {
   "cell_type": "code",
   "execution_count": null,
   "id": "6360dba6",
   "metadata": {},
   "outputs": [],
   "source": [
    "A = np.array([[2,0,1],\n",
    "              [0,2,1],\n",
    "              [1,1,3]])"
   ]
  },
  {
   "cell_type": "code",
   "execution_count": null,
   "id": "40d4c823",
   "metadata": {},
   "outputs": [],
   "source": [
    "scipy.linalg.lu(A)"
   ]
  },
  {
   "cell_type": "markdown",
   "id": "224957d3",
   "metadata": {},
   "source": [
    "**Exemplo 2.8, p.39**\n"
   ]
  },
  {
   "cell_type": "code",
   "execution_count": null,
   "id": "522b6cb4",
   "metadata": {},
   "outputs": [],
   "source": [
    "A = np.array([[1,2,4],[2,8,10],[4,10,26]])\n",
    "b = np.array([1,-4,10])"
   ]
  },
  {
   "cell_type": "code",
   "execution_count": null,
   "id": "55972aa5",
   "metadata": {},
   "outputs": [],
   "source": [
    "R = np.linalg.cholesky(A)\n",
    "R"
   ]
  },
  {
   "cell_type": "code",
   "execution_count": null,
   "id": "f38c1767",
   "metadata": {},
   "outputs": [],
   "source": [
    "R@R.T"
   ]
  },
  {
   "cell_type": "markdown",
   "id": "1ca4ba43",
   "metadata": {},
   "source": [
    "### Exercício\n",
    "\n",
    "Obtenha, caso exista, a solução para os seguintes sistemas lineares utilizando os métodos estudados. \n",
    "\n",
    "\n",
    "a) $\\begin{cases} \n",
    "\t         2x_1 + 3x_2 + x_3 +5x_4= 11\\\\ \n",
    "\t         x_1  + 3.5x_2  + x_3 +7.5x_4= 13\\\\\n",
    "\t         1.4x_1 + 2.7x_2 + 5.5x_3 + 12x_4 = 21.6\\\\\n",
    "\t         -2x_1 + 1x_2 + 3x_3 +28x_4 = 30\n",
    "\t         \\end{cases}$\n",
    "    \n",
    "b) $\\begin{cases} \n",
    "\t         6.1x_1 + 0.32x_2 + 1.3x_3 +2.1x_4 + 0.11x_5 = 19.52\\\\ \n",
    "\t         0.82x_1  + 8.81x_2  + 1.01x_3 +3x_4 + 3.12x_5= 15.83\\\\\n",
    "\t         0.5x_1 + 1.78x_2 + 15.2x_3 + 4.2x_4 +8.1x_5= -22.14\\\\\n",
    "\t         4.2x_1 + 5.3x_2 + 1.8x_3 +20.9x_4 +7.51x_5 = 27.28\\\\\n",
    "\t         0.2x_1 + 9.1x_2 + 4.68x_3 +4.3x_4 +20.1x_5  = -21.78\n",
    "\t         \\end{cases}$\n",
    "             \n",
    "c)$ \\begin{cases} \n",
    "    12.1756 x_1 + 4.0231 x_2 - 2.1732 x_3 + 5.1967 x_4 = 17.1020\\\\ \n",
    "   -4.0231 x_1 + 6.0030 x_2              + 1.1973 x_4 = -6.1593\\\\\n",
    "   -1.0000 x_1 - 5.2107 x_2 + 11.1111 x_3              =  3.0004\\\\\n",
    "\t6.0235 x_1 + 7.0000 x_2 +            - 14.1561 x_4 =  0.0000\n",
    "\\end{cases} $"
   ]
  },
  {
   "cell_type": "markdown",
   "id": "34347dfd",
   "metadata": {},
   "source": [
    "### Atividade:\n",
    "\n",
    "Resolver os sistemas acima, por:\n",
    "\n",
    "a) Eliminação de Gauss\n",
    "\n",
    "b) Decomposição LU\n",
    "\n",
    "c) Eliminação de Gauss-Jordan\n",
    "\n",
    "d) Matriz inversa"
   ]
  },
  {
   "cell_type": "code",
   "execution_count": null,
   "id": "3a5bd96b",
   "metadata": {},
   "outputs": [],
   "source": [
    "A = np.array([[6.1, 0.32, 1.3, 2.1, 0.11], \n",
    "              [0.82, 8.81, 1.01, 3, 3.12],\n",
    "              [0.5, 1.78, 15.2, 4.2, 8.1],\n",
    "              [4.2, 5.3, 1.8, 20.9, 7.51],\n",
    "              [0.2, 9.1, 4.68, 4.3, 20.1]]) \n",
    "\n",
    "b = np.array([19.52, 15.83, -22.14, 27.28, -21.78])"
   ]
  },
  {
   "cell_type": "code",
   "execution_count": null,
   "id": "af286eb8",
   "metadata": {},
   "outputs": [],
   "source": []
  },
  {
   "cell_type": "code",
   "execution_count": null,
   "id": "ff80d423",
   "metadata": {},
   "outputs": [],
   "source": []
  }
 ],
 "metadata": {
  "kernelspec": {
   "display_name": "Python 3",
   "language": "python",
   "name": "python3"
  },
  "language_info": {
   "codemirror_mode": {
    "name": "ipython",
    "version": 3
   },
   "file_extension": ".py",
   "mimetype": "text/x-python",
   "name": "python",
   "nbconvert_exporter": "python",
   "pygments_lexer": "ipython3",
   "version": "3.8.5"
  }
 },
 "nbformat": 4,
 "nbformat_minor": 5
}
