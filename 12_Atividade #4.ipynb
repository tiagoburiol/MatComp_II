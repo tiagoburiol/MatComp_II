{
 "cells": [
  {
   "cell_type": "markdown",
   "id": "a93c15a0",
   "metadata": {},
   "source": [
    "## Atividade  #4"
   ]
  },
  {
   "cell_type": "markdown",
   "id": "242cb458",
   "metadata": {},
   "source": [
    "### Atividade\n",
    "\n",
    "**1.** Plote os seguintes campos vetoriais:\n",
    "\n",
    "a) $\\textbf{F}(x,y)= cos(x+y)\\textbf{i}-x\\textbf{j}$\n",
    "\n",
    "b) $\\textbf{F}(x,y)= xcos(y)\\textbf{i}+sen(x)cos(y)\\textbf{j}$\n",
    "\n",
    "c) $\\textbf{F}(x,y,z)= y\\textbf{i}+z\\textbf{j}-2x\\textbf{k}$\n"
   ]
  },
  {
   "cell_type": "code",
   "execution_count": null,
   "id": "b22bc34d",
   "metadata": {},
   "outputs": [],
   "source": []
  },
  {
   "cell_type": "markdown",
   "id": "6073f446",
   "metadata": {},
   "source": [
    "**2.** Se $f$ é uma função escalar de duas variáveis, o seu gradiente $\\nabla f$ (ou $\\operatorname{grad} f$ ), definido por\n",
    "\n",
    "$$\n",
    "\\nabla f(x, y)=f_x(x, y) \\mathbf{i}+f_y(x, y) \\mathbf{j}\n",
    "$$\n",
    "\n",
    "é um campo vetorial em $\\mathbb{R}^2$ denominado *campo vetorial gradiente*. \n",
    "\n",
    "Da mesma forma, se $f$ for uma função escalar de três variáveis, seu gradiente é um campo vetorial em $\\mathbb{R}^3$ dado por\n",
    "\n",
    "$$\n",
    "\\nabla f(x, y, z)=f_x(x, y, z) \\mathbf{i}+f_y(x, y, z) \\mathbf{j}+f_z(x, y, z) \\mathbf{k}\n",
    "$$\n",
    "\n",
    "Sabendo disso, \n",
    "\n",
    "a) plote o campo gradiente e algumas curvas de nível da função escalar\n",
    "\n",
    "$$f(x,y)=10x^2y-5x^2-4y^2-x^4-2y^4$$\n",
    "\n",
    "b) plote o campo gradiente função escalar\n",
    "\n",
    " $$f(x,y,z)=  x^2+y^3+4z$$"
   ]
  },
  {
   "cell_type": "code",
   "execution_count": null,
   "id": "226b3594",
   "metadata": {},
   "outputs": [],
   "source": []
  }
 ],
 "metadata": {
  "kernelspec": {
   "display_name": "Python 3",
   "language": "python",
   "name": "python3"
  },
  "language_info": {
   "codemirror_mode": {
    "name": "ipython",
    "version": 3
   },
   "file_extension": ".py",
   "mimetype": "text/x-python",
   "name": "python",
   "nbconvert_exporter": "python",
   "pygments_lexer": "ipython3",
   "version": "3.8.5"
  }
 },
 "nbformat": 4,
 "nbformat_minor": 5
}
