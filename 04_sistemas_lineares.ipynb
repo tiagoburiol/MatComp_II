{
 "cells": [
  {
   "cell_type": "markdown",
   "metadata": {},
   "source": [
    "# Sistemas Lineares e matrizes\n",
    "\n",
    "Muitas situações em ciência e engenharia envolvem a resolução de sistemas de equações lineares, tais como o **cálculo de correntes num circuito elétrico**, a **distribuição das tensões e deformações em uma estrutura**, o **balanceamento de equações químicas**, dentre outras. Estudar os sistemas lineares, portanto, é fundamental em muitos contextos.\n",
    "\n",
    "Um sistema linear $n \\times n$ é um conjunto de equações na forma \n",
    "\n",
    "$$\\begin{cases} \n",
    "\t         a_{11}x_1 +a_{12}x_2 + \\cdots + a_{1n}x_n = b_1\\\\ \n",
    "\t         a_{21}x_1 +a_{22}x_2 + \\cdots + a_{2n}x_n = b_2\\\\\n",
    "\t         \\vdots   \\\\\n",
    "\t         a_{n1}x_1 +a_{n2}x_2 + \\cdots + a_{nn}x_n = b_1\\\\\n",
    "             \\end{cases},$$\n",
    "\n",
    "O qual também pode ser descrito como uma equação matricial\n",
    "\n",
    "$$\\left[\\begin{array}{cccc} \n",
    "\t         a_{11} & a_{12} & \\cdots & a_{1n} \\\\ \n",
    "\t         a_{21} & a_{22} & \\cdots & a_{2n} \\\\\n",
    "\t         \\vdots & \\vdots & \\vdots & \\vdots \\\\\n",
    "\t         a_{n1} & a_{n2} & \\cdots & a_{nn} \\\\\n",
    "\t         \\end{array} \\right]\n",
    "\\left[\\begin{array}{c} \n",
    "\t         x_1 \\\\ \n",
    "\t         x_2 \\\\\n",
    "             \\vdots\\\\\n",
    "\t         x_n \\\\\n",
    "\t         \\end{array} \\right]\n",
    "=\n",
    "\\left[\\begin{array}{c} \n",
    "\t         b_1 \\\\ \n",
    "\t         b_2 \\\\\n",
    "             \\vdots\\\\\n",
    "\t         b_n \\\\\n",
    "\t         \\end{array} \\right].$$\n",
    "\n",
    "Em que  $A= (a_{ij})$, com $i,j=1,..,n$, é a matriz dos coeficientes, $x=(x_1, x_2, ..., x_n)$ é o vetor de incógnitas, e \n",
    "$b=(b_1, b_2,...,b_n)$ é o vetor de termos independentes de $x$. Assim, um sistema linear pode ser descrito de forma sussinta como \n",
    "\n",
    "$$Ax=b$$\n",
    "\n",
    "\n",
    "\n",
    "Resolver um sistema dado, consiste em encontrar o vetor solução $\\overline x=(\\overline x_1, \\overline x_2,..., \\overline x_n)$ que satisfaça todas as equações simultaneamente.\n"
   ]
  },
  {
   "cell_type": "markdown",
   "metadata": {},
   "source": [
    "# Interpretração geométrica de sistemas lineares \n",
    "\n",
    "<br>\n",
    "\n",
    "Toda equação linear corresponde a um **objeto geométrico**, que depende do número de **variáveis** presentes na equação:\n",
    "\n",
    "\\begin{align}\n",
    "&x + 2y = 4 &\\rightarrow  &\\text{2 variáveis}  &\\rightarrow &\\text{reta} \\\\\\\\\n",
    "&3x - y - 5z = 6 &\\rightarrow  &\\text{3 variáveis}&\\rightarrow &\\text{plano} \\\\\\\\\n",
    "&-2x_1 + 2x_2 -9x_3 + 4x_4 = 4 &\\rightarrow &\\text{4 variáveis} &\\rightarrow &\\text{hiperplano} \\\\\\\\\n",
    "&\\quad\\quad\\vdots&& \\\\\\\\\n",
    "&x_1 + 3x_2 -16x_3 + 5x_4 + ... + 2x_8 = 13 &\\rightarrow  &\\text{8 variáveis} &\\rightarrow &\\text{hiperplano}\\\\\\\\\n",
    "&\\quad\\quad\\vdots&&\n",
    "\\end{align}\n",
    "\n",
    "Portanto, uma solução para um sistema de equações lineares é um ponto que pertence a todos os objetos descritos pelas equações, isto é, **um ponto de interseção de todas as retas/planos/hiperplanos presentes no sistema**. \n",
    "\n",
    "\n",
    "\n",
    "### Exemplo 1: \n",
    "Considere o sistema\n",
    " \n",
    "$$\\begin{cases} \n",
    "-x + 3y = 2\\\\\n",
    "x + y = 5\n",
    "\\end{cases}. $$\n",
    "\n",
    "Geometricamente, o sistema representa duas retas do $\\mathbb R^2$. Assim, seu conjunto solução é o conjunto de todos os pontos de interseção dessas retas. \n",
    "Se as retas forem paralelas, o sistemas não terá solução.\n",
    "Se as retas forem coincidentes, o sistema terá infinitas soluções.\n",
    "\n",
    "Vamos plotar essas retas e verificar o número de soluções do sistema:"
   ]
  },
  {
   "cell_type": "code",
   "execution_count": 1,
   "metadata": {},
   "outputs": [],
   "source": [
    "import matplotlib.pyplot as plt\n",
    "import numpy as np"
   ]
  },
  {
   "cell_type": "code",
   "execution_count": 2,
   "metadata": {},
   "outputs": [
    {
     "data": {
      "image/png": "[encoded data removed]",
      "text/plain": [
       "<Figure size 432x288 with 1 Axes>"
      ]
     },
     "metadata": {
      "needs_background": "light"
     },
     "output_type": "display_data"
    }
   ],
   "source": [
    "x1 = np.linspace(-10, 10, 200)\n",
    "y1 = (2 + x1)/3\n",
    "\n",
    "x2 = np.linspace(-10, 10, 200)\n",
    "y2 = 5 - x2\n",
    "\n",
    "plt.plot(x1, y1)\n",
    "plt.plot(x2, y2)\n",
    "plt.show()"
   ]
  },
  {
   "cell_type": "markdown",
   "metadata": {},
   "source": [
    "Assim, vemos que o sistema tem uma **única solução**, pois há um único ponto de interseção das retas.\n"
   ]
  },
  {
   "cell_type": "markdown",
   "metadata": {},
   "source": [
    "### Exercício 1: \n",
    "\n",
    "Plote os gráficos dos sistemas abaixo e escreva o número de soluções de cada um. \n",
    "\n",
    "(a) $\\begin{cases} \n",
    "2x + \\frac 32 y = 2\\\\\n",
    "-4x -3y = 3\n",
    "\\end{cases}$ \n"
   ]
  },
  {
   "cell_type": "code",
   "execution_count": 3,
   "metadata": {},
   "outputs": [],
   "source": [
    "# resolva aqui"
   ]
  },
  {
   "cell_type": "markdown",
   "metadata": {},
   "source": [
    "(b) $\\begin{cases} \n",
    "2x + \\frac 32 y = 2\\\\\n",
    "3x -5y = 2\n",
    "\\end{cases}. $"
   ]
  },
  {
   "cell_type": "code",
   "execution_count": 4,
   "metadata": {},
   "outputs": [],
   "source": [
    "# resolva aqui"
   ]
  },
  {
   "cell_type": "markdown",
   "metadata": {},
   "source": [
    "(c) $\\begin{cases} \n",
    "3x + \\frac 32 y = 2\\\\\n",
    "-x -\\frac 12 y = -\\frac23\n",
    "\\end{cases}. $"
   ]
  },
  {
   "cell_type": "code",
   "execution_count": 5,
   "metadata": {},
   "outputs": [],
   "source": [
    "# resolva aqui"
   ]
  },
  {
   "cell_type": "markdown",
   "metadata": {},
   "source": [
    "(d) $\\begin{cases} \n",
    "-2x + y = 2\\\\\n",
    "\\frac12x - y = -1\\\\\n",
    "-x + 2y = 10 \n",
    "\\end{cases}. $"
   ]
  },
  {
   "cell_type": "code",
   "execution_count": 6,
   "metadata": {},
   "outputs": [],
   "source": [
    "# resolva aqui"
   ]
  },
  {
   "cell_type": "markdown",
   "metadata": {},
   "source": [
    "\n",
    "\n",
    "Para sistema com três incógnitas, as equações envolvidas são geometricamente interpretadas como planos em $\\mathbb R^3$.\n",
    "\n",
    "### Exercício 2:<br>\n",
    "\n",
    "A figura abaixo mostra quatro possibilidades de posições relativas entre três planos distintos. Interprete-as e escreva abaixo os número de soluções de cada um dos respectivos sistemas associados a cada figura.\n",
    "\n",
    "<img src=\"https://github.com/guerinileonardo/figures/blob/main/planos_interc.png?raw=true\" width=\"960\">"
   ]
  },
  {
   "cell_type": "markdown",
   "metadata": {},
   "source": [
    "**Resposta**: COMPLETE."
   ]
  },
  {
   "cell_type": "markdown",
   "metadata": {},
   "source": [
    "Note que, em todos esses casos, verificamos apenas o **número de soluções**. Para obter **explicitamente** essas soluções, não basta apenas plotar e interpretar os gráficos. É necessário **resolver** de fato cada sistema."
   ]
  },
  {
   "cell_type": "markdown",
   "metadata": {},
   "source": [
    "\n",
    "# Condição de unicidade de soluções\n",
    "<br>\n",
    "\n",
    "Note que, em um sistema \n",
    "\n",
    "$$Ax=b,$$ \n",
    "\n",
    "a matriz de coeficientes $A$ é **quadrada** se e somente se **o número de equações do sistema é igual ao número de incógnitas**.\n",
    "\n",
    "Algumas matrizes quadradas são **invertíveis**. Isto é, se $A$ é uma matriz quadrada $n\\times n$, pode existir outra matriz de mesmo ordem, denotada por $A^{-1}$, tal que\n",
    "\n",
    "$$\n",
    "AA^{-1} = A^{-1}A = I,\n",
    "$$\n",
    "onde $I$ é a matriz identidade de ordem $n$.\n",
    "\n",
    "No caso específico em que $A$ é quadrada, vale que o sistema $Ax=b$ tem **solução única** se e somente se **$A$ é invertível**. \n",
    "\n",
    "Isso vale pois nesses casos podemos isolar o vetor $x$ multiplicando ambos os lados da equação matricial pela inversa $A^{-1}$:\n",
    "\n",
    "$$\n",
    "Ax=b\\quad \\implies\\quad A^{-1}Ax=A^{-1}b\\quad \\implies\\quad x = A^{-1}b.\n",
    "$$\n",
    "\n",
    "Ou seja, nesse caso, $x$ fica unicamente definido por $x = A^{-1}b$."
   ]
  },
  {
   "cell_type": "markdown",
   "metadata": {},
   "source": [
    "\n",
    "### Exercício 3:<br> \n",
    "\n",
    "Considere o sistema linear\n",
    "\n",
    "$$\\begin{cases} \n",
    "    x_1 + 3x_2 -2x_3 = -22\\\\\n",
    "    2x_1 -x_2 + 3x_3 = -9\\\\\n",
    "    -2x_2 + 4x_3= -2\n",
    "\\end{cases}. $$\n",
    "\n",
    "(a) Defina a matriz de coeficientes $A$ e o vetor de termos independentes $b$ como *arrays* e verifique que $x = \\begin{bmatrix}x_1\\\\x_2\\\\x_3\\end{bmatrix}= \\begin{bmatrix}-1\\\\-11\\\\-6\\end{bmatrix}$ é uma solução do sistema."
   ]
  },
  {
   "cell_type": "code",
   "execution_count": 7,
   "metadata": {},
   "outputs": [],
   "source": [
    "# resolva aqui"
   ]
  },
  {
   "cell_type": "markdown",
   "metadata": {},
   "source": [
    "<br>\n",
    "\n",
    "(b) Verifique que $A^{-1}=\\begin{bmatrix}-\\frac17& \\frac47&-\\frac12\\\\ \\frac47&-\\frac27&\\frac12\\\\ \\frac27&-\\frac17&\\frac12\\end{bmatrix}$."
   ]
  },
  {
   "cell_type": "code",
   "execution_count": 8,
   "metadata": {},
   "outputs": [],
   "source": [
    "# resolva aqui"
   ]
  },
  {
   "cell_type": "markdown",
   "metadata": {},
   "source": [
    "(c) Mostre que a solução dada no item (a) é única."
   ]
  },
  {
   "cell_type": "code",
   "execution_count": 9,
   "metadata": {},
   "outputs": [],
   "source": [
    "# resolva aqui"
   ]
  },
  {
   "cell_type": "markdown",
   "metadata": {},
   "source": [
    "### Exercício 4:<br>\n",
    "\n",
    "Dado o sistema\n",
    "\n",
    "$$\\begin{cases} \n",
    "   -2x_1 + x_2 +3x_3 = 2\\\\\n",
    "     x_1 -3 x_2 -x_3 = -3\\\\\n",
    "    -x_1 - 2x_2 +2x_3= -1\n",
    "\\end{cases}, $$\n",
    "mostre que $\\begin{bmatrix}1\\\\1 \\\\1 \\end{bmatrix}$ e $\\begin{bmatrix}-7\\\\0 \\\\-4 \\end{bmatrix}$ pertencem ao conjunto solução."
   ]
  },
  {
   "cell_type": "code",
   "execution_count": 10,
   "metadata": {},
   "outputs": [],
   "source": [
    "# resolva aqui"
   ]
  },
  {
   "cell_type": "markdown",
   "metadata": {},
   "source": [
    "O que você pode concluir sobre a inversa $A^{-1}$? Por quê?"
   ]
  },
  {
   "cell_type": "markdown",
   "metadata": {},
   "source": [
    "### Sistemas triangulares e escalonamento de matrizes\n",
    "Muitas vezes é útil escalonar a matriz ampliada de um sistema linear para obter um sistema triangular equivalente que seja mais fácil de resolver. Sistemas triagulares, em geral podem ser facilmente resolvidos por substituições sucessivas.\n",
    "\n",
    "Um **sistema triangular inferior** representado por $Lx=b$, possui matriz de coeficientes tal que $[l_{ij}]=0$ para $i<j$, com $i,j=0,1,...,n$. \n",
    "\n",
    "Um algoritmo para obter a sua solução é dado por:\n",
    "\n",
    "$$ x_1 = b_1/a_{11}$$\n",
    "\n",
    "para $i=2,3...,n$, faça\n",
    "\n",
    "$$ x_i = \\frac{b_i- \\sum\\limits_{j=1}^{(i-1)} a_{ij}x_j}{a_{ii}}$$\t         \n",
    "\t         \n",
    "Usando Python, um código que implementa esse algoritmo, é mostrado no exemplo abaixo."
   ]
  },
  {
   "cell_type": "markdown",
   "metadata": {},
   "source": [
    "### Exemplo 2: \n",
    "\n",
    "Seja o sistema linear\n",
    "$$ \\begin{cases} \n",
    "\t         2x_1 = 2\\\\ \n",
    "             x_1 + 4x_2 = -3\\\\\n",
    "             x_1 + x_2 + x_3 = 0\n",
    "             \\end{cases} $$\n",
    "um código em Python que implementa esse algoritmo e a solução obtida executando o programa são mostrados a seguir "
   ]
  },
  {
   "cell_type": "code",
   "execution_count": 11,
   "metadata": {},
   "outputs": [
    {
     "data": {
      "text/plain": [
       "array([[ 2.,  0.,  0.,  2.],\n",
       "       [ 1.,  4.,  0., -3.],\n",
       "       [ 1.,  1.,  1.,  0.]])"
      ]
     },
     "execution_count": 11,
     "metadata": {},
     "output_type": "execute_result"
    }
   ],
   "source": [
    "A = np.array([[2,0,0],\n",
    "              [1.,4.,0],\n",
    "              [1.,1.,1.]])\n",
    "\n",
    "b = np.array([2.,-3., 0])\n",
    "\n",
    "M = np.hstack((A,b.reshape(3,1)))\n",
    "M"
   ]
  },
  {
   "cell_type": "code",
   "execution_count": 12,
   "metadata": {},
   "outputs": [
    {
     "name": "stdout",
     "output_type": "stream",
     "text": [
      "[1.0, -1.0, 0.0]\n"
     ]
    }
   ],
   "source": [
    "x1 = b[0]/A[0][0]\n",
    "x = [x1]\n",
    "\n",
    "for i in range(1,len(A)):\n",
    "    soma = 0\n",
    "    for j in range(0,i):\n",
    "        soma +=  A[i][j]*x[j]\n",
    "    x.append((b[i]-soma)/A[i][i])\n",
    "print (x)"
   ]
  },
  {
   "cell_type": "code",
   "execution_count": 13,
   "metadata": {},
   "outputs": [
    {
     "data": {
      "text/plain": [
       "array([ 2., -3.,  0.])"
      ]
     },
     "execution_count": 13,
     "metadata": {},
     "output_type": "execute_result"
    }
   ],
   "source": [
    "A@x"
   ]
  },
  {
   "cell_type": "markdown",
   "metadata": {},
   "source": [
    "Uma versão mais elegante do algoritmo para resolução de um sistema triangular inferior pode ser escrito como é mostrado abaixo"
   ]
  },
  {
   "cell_type": "code",
   "execution_count": 14,
   "metadata": {},
   "outputs": [
    {
     "name": "stdout",
     "output_type": "stream",
     "text": [
      "[ 1. -1.  0.]\n"
     ]
    }
   ],
   "source": [
    "for i in range(len(b)): \n",
    "    b[i] = (b[i] - np.dot(A[i,0:i],b[0:i]))/A[i][i] \n",
    "print (b)"
   ]
  },
  {
   "cell_type": "markdown",
   "metadata": {},
   "source": [
    "Um **sistema triangular superior** representado por $Ux=b$, possui matriz de coeficientes tal que $[u_{ij}]=0$ para $i>j$, com $i,j=0,1,...,n$. \n",
    "\n",
    "Um algoritmo para obter a sua solução é dado por:\n",
    "\n",
    "$$ x_n = b_n/a_{nn}$$\n",
    "\n",
    "para $i=(n-1), (n-2),...,1$, faça\n",
    "\n",
    "$$ x_i = \\frac{b_i- \\sum\\limits_{j=i+1}^{(n)} a_{ij}x_j}{a_{ii}}$$\t\n",
    "\n",
    "Usando Python, um código que implementa esse algoritmo, é mostrado abaixo."
   ]
  },
  {
   "cell_type": "code",
   "execution_count": 15,
   "metadata": {},
   "outputs": [],
   "source": [
    "def solve_U(U,b):\n",
    "    n=len(b)\n",
    "    x = np.empty(n)\n",
    "    for i in range(n-1, -1, -1):\n",
    "        x[i] = (b[i] - np.sum(U[i,i+1:n+1]*x[i+1:n+1]))/U[i,i]\n",
    "    return x"
   ]
  },
  {
   "cell_type": "markdown",
   "metadata": {},
   "source": [
    "**Exemplo:**\n",
    "Seja o sistema linear\n",
    "$$ \\begin{cases} \n",
    "\t         3x_1 + x_2 +x_3= 4\\\\ \n",
    "             2x_2 -x_3 = 2\\\\\n",
    "             3x_3 = 3\n",
    "             \\end{cases} $$\n",
    "um código em Python que implementa esse algoritmo e a solução obtida executando o programa são mostrados a seguir "
   ]
  },
  {
   "cell_type": "code",
   "execution_count": 16,
   "metadata": {},
   "outputs": [],
   "source": [
    "A = np.array([[3,1,1],\n",
    "              [0,2,-1],\n",
    "              [0,0,3]]).astype(float)\n",
    "\n",
    "b = np.array([4,2,3]).astype(float)"
   ]
  },
  {
   "cell_type": "code",
   "execution_count": 17,
   "metadata": {},
   "outputs": [
    {
     "data": {
      "text/plain": [
       "array([0.5, 1.5, 1. ])"
      ]
     },
     "execution_count": 17,
     "metadata": {},
     "output_type": "execute_result"
    }
   ],
   "source": [
    "solve_U(A,b)"
   ]
  },
  {
   "cell_type": "code",
   "execution_count": 18,
   "metadata": {},
   "outputs": [
    {
     "data": {
      "text/plain": [
       "array([0.5, 1.5, 1. ])"
      ]
     },
     "execution_count": 18,
     "metadata": {},
     "output_type": "execute_result"
    }
   ],
   "source": [
    "x = np.linalg.solve(A,b)\n",
    "x"
   ]
  },
  {
   "cell_type": "code",
   "execution_count": 19,
   "metadata": {},
   "outputs": [
    {
     "data": {
      "text/plain": [
       "array([4., 2., 3.])"
      ]
     },
     "execution_count": 19,
     "metadata": {},
     "output_type": "execute_result"
    }
   ],
   "source": [
    "A@x"
   ]
  },
  {
   "cell_type": "markdown",
   "metadata": {},
   "source": [
    "### Método da Eliminação de Gauss\n",
    "\n",
    "O método de eliminação de Gauss para resolução de sistemas lineares consiste no processo \n",
    "de transformar um sistema $Ax=b$, em que $A= [a_{ij}]_i,j=1,..,n$, \n",
    "$x=[x_1,x_2,...,x_n]^t$ e $b=[b_1, b_2,...,b_n]^t$, em um sistema triangular equivalente, \n",
    "aplicando operações elementares sobre as linhas da matriz aumentada $[A \\mid b]$. O sistema equivalente obtido ao final do processo, deve ser de resolução mais simples ou imediata, por substituição subsequente. "
   ]
  },
  {
   "cell_type": "markdown",
   "metadata": {},
   "source": [
    "### Exemplo \n",
    "Usando o método de eliminação de Gauss, resolva o sistema de equações lineares:\n",
    "\n",
    "$$\n",
    "\\left[\\begin{array}{rrr}\n",
    "3 & 0 & 1 \\\\\n",
    "3 & 2 & 1 \\\\\n",
    "-3 & 1 & 3\n",
    "\\end{array}\\right]\\left[\\begin{array}{l}\n",
    "x_1 \\\\\n",
    "x_2 \\\\\n",
    "x_3\n",
    "\\end{array}\\right]=\\left[\\begin{array}{l}\n",
    "1 \\\\\n",
    "1 \\\\\n",
    "3\n",
    "\\end{array}\\right]\n",
    "$$"
   ]
  },
  {
   "cell_type": "markdown",
   "metadata": {},
   "source": [
    "Um exemplo de algoritmo para resolver sistemas lineares por eliminação de Gauss (sem pivoteamento e sem verificar valores nulos na diagonal)."
   ]
  },
  {
   "cell_type": "code",
   "execution_count": 20,
   "metadata": {},
   "outputs": [],
   "source": [
    "# funcao que triangulariza o sistema\n",
    "def escalona(M):\n",
    "    n = len(M)\n",
    "    for j in range(n-1):\n",
    "        for i in range(j,n-1):            \n",
    "            m = M[i+1,j]/M[j,j]\n",
    "            M[i+1] = M[i+1]-m*M[j]\n",
    "    return (M)"
   ]
  },
  {
   "cell_type": "code",
   "execution_count": 21,
   "metadata": {},
   "outputs": [],
   "source": [
    "A = np.array([[3.,0.,1.],\n",
    "              [3.,2.,1.],\n",
    "              [-3.,1.,3.]])\n",
    "b = np.array([1.,1.,3.])"
   ]
  },
  {
   "cell_type": "code",
   "execution_count": 22,
   "metadata": {},
   "outputs": [
    {
     "data": {
      "text/plain": [
       "array([[ 3.,  0.,  1.,  1.],\n",
       "       [ 3.,  2.,  1.,  1.],\n",
       "       [-3.,  1.,  3.,  3.]])"
      ]
     },
     "execution_count": 22,
     "metadata": {},
     "output_type": "execute_result"
    }
   ],
   "source": [
    "M = np.hstack((A,b.reshape(3,1)))\n",
    "M"
   ]
  },
  {
   "cell_type": "code",
   "execution_count": 23,
   "metadata": {},
   "outputs": [
    {
     "data": {
      "text/plain": [
       "array([[3., 0., 1., 1.],\n",
       "       [0., 2., 0., 0.],\n",
       "       [0., 0., 4., 4.]])"
      ]
     },
     "execution_count": 23,
     "metadata": {},
     "output_type": "execute_result"
    }
   ],
   "source": [
    "Mesc = escalona(M)\n",
    "Mesc"
   ]
  },
  {
   "cell_type": "code",
   "execution_count": 24,
   "metadata": {},
   "outputs": [
    {
     "data": {
      "text/plain": [
       "array([[3., 0., 1.],\n",
       "       [0., 2., 0.],\n",
       "       [0., 0., 4.]])"
      ]
     },
     "execution_count": 24,
     "metadata": {},
     "output_type": "execute_result"
    }
   ],
   "source": [
    "Aesc =  Mesc[:,:-1]\n",
    "Aesc"
   ]
  },
  {
   "cell_type": "code",
   "execution_count": 26,
   "metadata": {},
   "outputs": [
    {
     "data": {
      "text/plain": [
       "array([1., 0., 4.])"
      ]
     },
     "execution_count": 26,
     "metadata": {},
     "output_type": "execute_result"
    }
   ],
   "source": [
    "besc = Mesc[:,-1]\n",
    "besc"
   ]
  },
  {
   "cell_type": "code",
   "execution_count": 27,
   "metadata": {},
   "outputs": [
    {
     "data": {
      "text/plain": [
       "array([0., 0., 1.])"
      ]
     },
     "execution_count": 27,
     "metadata": {},
     "output_type": "execute_result"
    }
   ],
   "source": [
    "x = solve_U(Aesc, besc)\n",
    "x"
   ]
  },
  {
   "cell_type": "markdown",
   "metadata": {},
   "source": [
    "### Exercícios:\n",
    "Use a eliminação de Gauss para resolver os seguintes sistemas lineares. Não reordene as equações. (A solução exata para cada sistema é  $\\left( x_1=1, x_2=-1, x_3=3 \\right)$.\n",
    "\n",
    "$$\n",
    "\\begin{gathered}\n",
    "4 x_1-x_2+x_3=8, \\\\\n",
    "2 x_1+5 x_2+2 x_3=3, \\\\\n",
    "x_1+2 x_2+4 x_3=11 .\n",
    "\\end{gathered}\n",
    "\\quad \\text{e} \\quad  \n",
    "\\begin{aligned}\n",
    "4 x_1+x_2+2 x_3 & =9, \\\\\n",
    "2 x_1+4 x_2-x_3 & =-5, \\\\\n",
    "x_1+x_2-3 x_3 & =-9 .\n",
    "\\end{aligned}\n",
    "$$"
   ]
  },
  {
   "cell_type": "code",
   "execution_count": null,
   "metadata": {},
   "outputs": [],
   "source": []
  },
  {
   "cell_type": "markdown",
   "metadata": {},
   "source": [
    "### Exercício resolvido:\n",
    "\n",
    "Represente o sistema linear\n",
    "$$\n",
    "\\begin{aligned}\n",
    "x_1-x_2+2 x_3-x_4 & =-8, \\\\\n",
    "2 x_1-2 x_2+3 x_3-3 x_4 & =-20, \\\\\n",
    "x_1+x_2+x_3 & =-2, \\\\\n",
    "x_1-x_2+4 x_3+3 x_4 & =4 .\n",
    "\\end{aligned}\n",
    "$$\n",
    "\n",
    "e use a eliminação de Gauss para encontrar sua solução. "
   ]
  },
  {
   "cell_type": "code",
   "execution_count": 66,
   "metadata": {},
   "outputs": [
    {
     "name": "stdout",
     "output_type": "stream",
     "text": [
      "[[  1.  -1.   2.  -1.  -8.]\n",
      " [  2.  -2.   3.  -3. -20.]\n",
      " [  1.   1.   1.   0.  -2.]\n",
      " [  1.  -1.   4.   3.   4.]]\n"
     ]
    }
   ],
   "source": [
    "A = np.array([[1,-1,2,-1],\n",
    "              [2,-2,3,-3],\n",
    "              [1,1,1,0],\n",
    "              [1,-1,4,3]]).astype(float)\n",
    "b = np.array([-8, -20, -2, 4])\n",
    "\n",
    "M = np.hstack((A,b.reshape(4,1)))\n",
    "print (M)"
   ]
  },
  {
   "cell_type": "code",
   "execution_count": 67,
   "metadata": {},
   "outputs": [
    {
     "name": "stderr",
     "output_type": "stream",
     "text": [
      "<ipython-input-20-57ceb7db5080>:6: RuntimeWarning: divide by zero encountered in double_scalars\n",
      "  m = M[i+1,j]/M[j,j]\n",
      "<ipython-input-20-57ceb7db5080>:7: RuntimeWarning: invalid value encountered in multiply\n",
      "  M[i+1] = M[i+1]-m*M[j]\n",
      "<ipython-input-20-57ceb7db5080>:6: RuntimeWarning: invalid value encountered in double_scalars\n",
      "  m = M[i+1,j]/M[j,j]\n"
     ]
    }
   ],
   "source": [
    "Mesc = escalona(M)"
   ]
  },
  {
   "cell_type": "markdown",
   "metadata": {},
   "source": [
    "Observe que aqui ocorreu um problema de divisão por zero. Vamos modificar o código da eliminação de gaus e incluir o pivoteamento. Para isso vamos usar a função `np.argsort` que devolve os índices dos elementos uma coluna ordenados. Vejamos um exemplo:"
   ]
  },
  {
   "cell_type": "code",
   "execution_count": 68,
   "metadata": {},
   "outputs": [],
   "source": [
    "M = np.hstack((A,b.reshape(4,1)))"
   ]
  },
  {
   "cell_type": "code",
   "execution_count": 69,
   "metadata": {},
   "outputs": [],
   "source": [
    "# ordem crescente dos elementos da 3ª coluna (em valor absoluto) \n",
    "idx = np.argsort(abs(M[:,2]))"
   ]
  },
  {
   "cell_type": "code",
   "execution_count": 70,
   "metadata": {},
   "outputs": [
    {
     "data": {
      "text/plain": [
       "array([[  1.,  -1.,   4.,   3.,   4.],\n",
       "       [  2.,  -2.,   3.,  -3., -20.],\n",
       "       [  1.,  -1.,   2.,  -1.,  -8.],\n",
       "       [  1.,   1.,   1.,   0.,  -2.]])"
      ]
     },
     "execution_count": 70,
     "metadata": {},
     "output_type": "execute_result"
    }
   ],
   "source": [
    "# trocando linhas para deixar a 3ª coluna em ordem decrescente\n",
    "M = M[np.flip(idx)]\n",
    "M"
   ]
  },
  {
   "cell_type": "markdown",
   "metadata": {},
   "source": [
    "Agora vamos usar esse procedimento para incluir o pivoteamento na eliminação de Gauss."
   ]
  },
  {
   "cell_type": "code",
   "execution_count": 71,
   "metadata": {},
   "outputs": [],
   "source": [
    "M = np.hstack((A,b.reshape(4,1)))"
   ]
  },
  {
   "cell_type": "code",
   "execution_count": 72,
   "metadata": {},
   "outputs": [],
   "source": [
    "def escalonap(M):\n",
    "    n = len(M)\n",
    "    for j in range(n-1):\n",
    "        \n",
    "        # pivoteamento\n",
    "        m = M[j:,j:]\n",
    "        idx=np.flip(np.argsort(abs(m[:,0])))\n",
    "        M[j:,j:] = m[idx]\n",
    "        \n",
    "        for i in range(j,n-1):\n",
    "            m = M[i+1,j]/M[j,j]\n",
    "            M[i+1] = M[i+1]-m*M[j]\n",
    "            \n",
    "    return (M)"
   ]
  },
  {
   "cell_type": "code",
   "execution_count": 75,
   "metadata": {},
   "outputs": [
    {
     "data": {
      "text/plain": [
       "array([[  2. ,  -2. ,   3. ,  -3. , -20. ],\n",
       "       [  0. ,   2. ,  -0.5,   1.5,   8. ],\n",
       "       [  0. ,   0. ,   2.5,   4.5,  14. ],\n",
       "       [  0. ,   0. ,   0. ,  -0.4,  -0.8]])"
      ]
     },
     "execution_count": 75,
     "metadata": {},
     "output_type": "execute_result"
    }
   ],
   "source": [
    "Mesc = escalonap(M)\n",
    "Mesc"
   ]
  },
  {
   "cell_type": "code",
   "execution_count": 76,
   "metadata": {},
   "outputs": [
    {
     "data": {
      "text/plain": [
       "array([-7.,  3.,  2.,  2.])"
      ]
     },
     "execution_count": 76,
     "metadata": {},
     "output_type": "execute_result"
    }
   ],
   "source": [
    "x = solve_U(Mt[:,:-1], Mt[:,-1])\n",
    "x"
   ]
  },
  {
   "cell_type": "code",
   "execution_count": 80,
   "metadata": {},
   "outputs": [
    {
     "data": {
      "text/plain": [
       "True"
      ]
     },
     "execution_count": 80,
     "metadata": {},
     "output_type": "execute_result"
    }
   ],
   "source": [
    "# checando se a solução está correta\n",
    "np.allclose(np.dot(A, x), b)"
   ]
  },
  {
   "cell_type": "markdown",
   "metadata": {},
   "source": [
    "### Exercício:\n",
    "Resolva o sistema linear\n",
    "$$\n",
    "\\begin{aligned}\n",
    "x_1+x_2-x_3+x_4-x_5 & =2, \\\\\n",
    "2 x_1+2 x_2+x_3-x_4+x_5 & =4, \\\\\n",
    "3 x_1+x_2-3 x_3-2 x_4+3 x_5 & =8, \\\\\n",
    "4 x_1+x_2-x_3+4 x_4-5 x_5 & =16, \\\\\n",
    "16 x_1-x_2+x_3-x_4-x_5 & =32 .\n",
    "\\end{aligned}\n",
    "$$"
   ]
  },
  {
   "cell_type": "code",
   "execution_count": null,
   "metadata": {},
   "outputs": [],
   "source": []
  },
  {
   "cell_type": "code",
   "execution_count": null,
   "metadata": {},
   "outputs": [],
   "source": []
  }
 ],
 "metadata": {
  "kernelspec": {
   "display_name": "Python 3",
   "language": "python",
   "name": "python3"
  },
  "language_info": {
   "codemirror_mode": {
    "name": "ipython",
    "version": 3
   },
   "file_extension": ".py",
   "mimetype": "text/x-python",
   "name": "python",
   "nbconvert_exporter": "python",
   "pygments_lexer": "ipython3",
   "version": "3.8.5"
  }
 },
 "nbformat": 4,
 "nbformat_minor": 4
}
