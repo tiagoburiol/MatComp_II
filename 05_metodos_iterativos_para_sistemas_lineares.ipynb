{
 "cells": [
  {
   "cell_type": "markdown",
   "id": "10e09851",
   "metadata": {},
   "source": [
    "## 5. Métodos iterativos"
   ]
  },
  {
   "cell_type": "markdown",
   "id": "dd933dda",
   "metadata": {},
   "source": [
    "Os métodos iterativos são indicados para sistemas de grande porte com a matriz dos coeficientes esparsa, ou seja, com grande grande quantidade de zeros. Nesses casos os métodos iterativos são mais rápidos e demandam menos memória para armazenamento. Além disso, os métodos iterativos possuem a vantagem de se auto corrigir e também podem ser usados para reduzir os erros de arredondamento na solução obtida por métodos exatos. Sob certas condições, podem também ser usados para resolver um conjunto de equações não lineares. \n",
    "\n",
    "No entanto, para que o método iterativo seja convergente, é necessário atender a certas condições. Dizemos que a sequência de vetores $x^{(k)}$, $k=0,1,2,..$ de um espaço vetorial $V$ converge para a solução exata $\\bar{x} \\in V$ se $\\|x^{(k)} - \\bar{x}\\|  \\rightarrow 0$, quando $k \\rightarrow \\infty$ para alguma norma $ \\| .\\|$ sobre o espaço vetorial $V$.\n",
    "\n",
    "Para determinar a solução de um sistema linear por métodos iterativos, precisamos transformar o sistema dado em um outro sistema equivalente que estabeleça um processo iterativo. Suponha então, que o sistema $Ax = b$ seja reescrito na forma equivalente \n",
    "\n",
    "$$x = Hx + g$$\n",
    "\n",
    "tal que a solução $\\bar{x}$ de $x = Hx + g$ é  também, solução de $Ax = b$. A partir dessa nova forma podemos obter um processo iterativo que fornecerá a sequência de soluções aproximadas que buscamos. Assim, seja $x^{(0)}$ uma aproximação inicial para a solução $\\bar{x}$, obtemos as aproximações sucessivas $x^{(k)}$ para a solução desejada usando o processo iterativo definido por:\n",
    "\n",
    "$$x^{(k)} = Hx^{(k-1)} + g$$"
   ]
  },
  {
   "cell_type": "markdown",
   "id": "fa68ae05-3a2d-4776-b35e-6d7b0660a31a",
   "metadata": {},
   "source": [
    "**Convergência:**\n",
    "A condição necessária e suficiente para a convergência do processo iterativo definido por $x = Hx + g$ é que $max \\{ |\\lambda_i |\\} < 1$, onde $\\lambda_i$ são os autovalores da matriz $H$. \n",
    "\n",
    "**Critério geral de convergência:**\n",
    "Como consequência do teorema acima, o processo será convergente se para qualquer norma de matrizes, $\\| H \\| < 1$.   \n",
    "\n",
    "*Prova:* (Franco, 2006, p.169) Na k-ésima iteração o vetor erro, dado por $e^{(k)}=\\bar{x}-x^{(k)}$ será \n",
    "\n",
    "$$ e ^{(k)} = H^ke^{(0)}$$\n",
    "\n",
    "Tomando normas consistentes, tem-se que \n",
    "\n",
    "$$ \\| H^k e^{(0)} \\| \\leq \\| H \\|^k \\|e^{(0)}\\|$$\n",
    "\n",
    "portanto \n",
    "$$ \\| e^{(k)} \\| \\leq \\| H \\|^k \\|e^{(0)}\\|$$\n",
    "\n",
    "como $\\| H \\|<1$ tem-se que $\\| e^{(k)} \\| \\rightarrow 0$ quando $k \\rightarrow \\infty$.\n",
    "\n",
    "Assim, se $\\| H \\|<1$ para alguma norma, temos a garantia de que o processo iterativo dado por $ x - x^{(k)} = H(x-x^{(k-1)})$ converge para a solução exata $\\bar{x}$. A matriz $H$ é chamada **matriz de iteração**."
   ]
  },
  {
   "cell_type": "markdown",
   "id": "6e346b51",
   "metadata": {},
   "source": [
    "### Método iterativo de Jacobi-Richardson\n",
    "\n",
    "Considere um sistema  de equações lineares $Ax = b$ em que $det(A) \\neq 0$, com a diagonal principal $a_{ii} \\neq 0$, $i=1,...,n$ como segue\n",
    "\n",
    "$$ \\begin{cases} \n",
    "\t         a_{11}x_1 +a_{12}x_2 + \\cdots + a_{1n}x_n = b_1\\\\ \n",
    "\t         a_{21}x_1 +a_{22}x_2 + \\cdots + a_{2n}x_n = b_2\\\\\n",
    "\t         \\vdots   \\\\\n",
    "\t         a_{n1}x_1 +a_{n2}x_2 + \\cdots + a_{nn}x_n = b_1\\\\\n",
    "             \\end{cases} $$\n",
    "\n",
    "Dividindo cada linha do sistema dado pelo elemento da diagonal e isolando $x_1$ na $1^a$ equação, $x_2$ na $2^a$ equação até $x_n$ na n-ésima equação, temos o sistema escrito na forma equivalente (contanto que não ocorram divisões por zero):\n",
    "\n",
    "$$ \\begin{cases} \n",
    "\t         x_1 = \\frac{1}{a_{11}} \\left(b_1  - a_{12}x_2 - a_{13}x_3 - \\cdots - a_{1n}x_n \\right)\\\\ \n",
    "\t         x_2 = \\frac{1}{a_{22}} \\left(b_2  - a_{21}x_1 - a_{23}x_3 - \\cdots - a_{2n}x_n \\right)\\\\ \n",
    "\t         \\vdots   \\\\\n",
    "\t         x_n = \\frac{1}{a_{nn}} \\left(b_n  - a_{n1}x_1 - a_{n2}x_2 - \\cdots - a_{n \\, n-1}x_{n-1} \\right)\\\\ \n",
    "\\end{cases} $$\n",
    "\n",
    "O método iterativo de Jacobi-Richardson é dado da seguinte forma:\n",
    "\n",
    "$$ \\begin{cases} \n",
    "             x_1^{(k+1)} = \\frac{b_1}{a_{11}}  - \\frac{a_{12}}{a_{11}}x_2^{(k)} - \\frac{a_{13}}{a_{11}}x_3^{(k)} - \\cdots - \\frac{a_{1n}}{a_{11}}x_n^{(k)} \\\\ \n",
    "\t         x_2^{(k+1)} = \\frac{b_2}{a_{22}}  - \\frac{a_{21}}{a_{22}}x_1^{(k)} - \\frac{a_{23}}{a_{22}}x_3^{(k)} - \\cdots - \\frac{a_{1n}}{a_{11}}x_n^{(k)} \\\\ \n",
    "\t         \\vdots   \\\\\n",
    "\t         x_n^{(k+1)} = \\frac{b_n}{a_{nn}}  - \\frac{a_{n1}}{a_{nn}}x_1^{(k)} - \\frac{a_{n2}}{a_{nn}}x_3^{(k)} - \\cdots - \\frac{a_{n \\, n-1}}{a_{nn}}x_{n-1}^{(k)} \\\\\n",
    "\\end{cases} $$\n"
   ]
  },
  {
   "cell_type": "markdown",
   "id": "184ba60f",
   "metadata": {},
   "source": [
    "ou, ainda:\n",
    "\n",
    "$$ x_i^{(k+1)} = \\frac{1}{a_{ii}} \\left(b_i - \\sum_{j=1}^{i-1} a_{ij}x_j^{(k)} -\\sum_{j=i+1}^{n} a_{ij}x_j^{(k)} \\right) \\,\\,\\,\\,\\,\\, i=1,...,n$$"
   ]
  },
  {
   "cell_type": "markdown",
   "id": "22409a1c",
   "metadata": {},
   "source": [
    "Na forma matricial, o método de Jacobi-Richardson pode ser escrito como:\n",
    "\n",
    "$$ x^{(k+1)} = Hx^{(k)} + g $$\n",
    "\n",
    "onde \n",
    "\n",
    "\n",
    "$$H = \n",
    "\\left[\\begin{array}{ccccc} \n",
    " 0 & -\\frac{a_{12}}{a_{11}} & -\\frac{a_{13}}{a_{11}} &\\cdots & -\\frac{a_{1n}}{a_{11}} \\\\ \n",
    " -\\frac{a_{21}}{a_{22}} & 0 & -\\frac{a_{23}}{a_{22}} &\\cdots & -\\frac{a_{2n}}{a_{22}} \\\\\n",
    "  \\vdots & \\vdots & \\vdots & \\vdots & \\vdots \\\\\n",
    " -\\frac{a_{n1}}{a_{nn}} & -\\frac{a_{n2}}{a_{nn}} & -\\frac{a_{n3}}{a_{nn}}&\\cdots & 0 \\\\\n",
    "\\end{array} \\right]\n",
    "\\quad \\text{e} \\quad\n",
    "g = \n",
    "\\left[\\begin{array}{c} \n",
    "\\frac{b_1}{a_{11}} \\\\ \n",
    "\\frac{b_2}{a_{22}} \\\\\n",
    "\\vdots \\\\\n",
    "\\frac{b_n}{a_{nn}}\\\\\n",
    "\\end{array} \\right]$$\n",
    "\n",
    "\n",
    "ou, ainda,\n",
    "\n",
    "\n",
    "$$\n",
    "\\left[\\begin{array}{c} \n",
    "x_1^{(k+1)} \\\\ \n",
    "x_2^{(k+1)} \\\\\n",
    "\\vdots \\\\\n",
    "x_n^{(k+1)}\\\\\n",
    "\\end{array} \\right]\n",
    "= \n",
    "\\left[\\begin{array}{ccccc} \n",
    " 0 & -\\frac{a_{12}}{a_{11}} & -\\frac{a_{13}}{a_{11}} &\\cdots & -\\frac{a_{1n}}{a_{11}} \\\\ \n",
    " -\\frac{a_{21}}{a_{22}} & 0 & -\\frac{a_{23}}{a_{22}} &\\cdots & -\\frac{a_{2n}}{a_{22}} \\\\\n",
    "  \\vdots & \\vdots & \\vdots & \\vdots & \\vdots \\\\\n",
    " -\\frac{a_{n1}}{a_{nn}} & -\\frac{a_{n2}}{a_{nn}} & -\\frac{a_{n3}}{a_{nn}}&\\cdots & 0 \\\\\n",
    "\\end{array} \\right]\n",
    "\\left[\\begin{array}{c} \n",
    "x_1^{(k)} \\\\ \n",
    "x_2^{(k)} \\\\\n",
    "\\vdots \\\\\n",
    "x_n^{(k)}\\\\\n",
    "\\end{array} \\right]\n",
    "+\n",
    "\\left[\\begin{array}{c} \n",
    "\\frac{b_1}{a_{11}} \\\\ \n",
    "\\frac{b_2}{a_{22}} \\\\\n",
    "\\vdots \\\\\n",
    "\\frac{b_n}{a_{nn}}\\\\\n",
    "\\end{array} \\right]\n",
    "$$"
   ]
  },
  {
   "cell_type": "markdown",
   "id": "3b68808a",
   "metadata": {},
   "source": [
    "#### Convergência\n",
    "Podemos verificar a convergência do método Jacobi-Richardson avaliando a matriz $A$. Se a matriz $A=[a_{ij}]_{i,j=1.,,,,n}$ do sistema $Ax=b$ for estritamente diagonalmente dominante, ou seja, se\n",
    "\n",
    "$$ |a_{ii}| > \\sum_{j=1,i\\neq j} |a_{ij}| , i=1,...n$$\n",
    "\n",
    "então, o método iterativo será convergente. "
   ]
  },
  {
   "cell_type": "markdown",
   "id": "aa3810b9",
   "metadata": {},
   "source": [
    "#### Critério de parada \n",
    "Considerando que o processo iterativo está fornecendo uma sequência convergente, um critério de parada para o algoritmo é dado por\n",
    "\n",
    "$$ \\frac{\\parallel x^{(k)} - x^{(k-1)}\\parallel }{\\parallel x^{(k)}\\parallel} < \\epsilon$$\n",
    "\n",
    "para alguma norma vetorial $\\parallel  . \\parallel : V \\rightarrow R$ e alguma tolerância $\\epsilon$ pré estabelecida. \n",
    "\n",
    "Por conveniência, é comum utilizarmos a norma infinito:\n",
    "\n",
    "$$\\parallel x\\parallel _ \\infty = max \\{ |x_0|, |x_1|, ..., |x_n| \\}$$"
   ]
  },
  {
   "cell_type": "markdown",
   "id": "8f4da256",
   "metadata": {},
   "source": [
    "**Exemplo 5.1:**\n",
    "Usando o método interativo de Jacobi-Richardson, determine uma solução aproximada para o seguinte sistema de equações lineares, com aproximação inicial $x^{(0)}=(0,0,0)^T$ e precisão $\\epsilon = 0.01$. \n",
    "\n",
    "$$\n",
    "\\left[\\begin{array}{ccc} \n",
    "10 & 2 & 1\\\\\n",
    "1 & 5 & 1\\\\\n",
    "2 & 3 & 10\\\\\n",
    "\\end{array} \\right]\n",
    "\\left[\\begin{array}{c} \n",
    "x_1\\\\\n",
    "x_2\\\\\n",
    "x_3\\\\\n",
    "\\end{array} \\right]\n",
    "=\n",
    "\\left[\\begin{array}{c} \n",
    "14\\\\\n",
    "11\\\\\n",
    "8\\\\\n",
    "\\end{array} \\right]\n",
    "$$"
   ]
  },
  {
   "cell_type": "markdown",
   "id": "779bb4cb",
   "metadata": {},
   "source": [
    "Reescrevendo o sistema, obtemos:\n",
    "\n",
    "$$ \n",
    "\\begin{cases} \n",
    "x_1^{(k+1)} = \\frac{14}{10} - \\frac{2}{10}x_2^{(k)} - \\frac{1}{10}x_3^{(k)}\\\\ \n",
    "x_2^{(k+1)} = \\frac{11}{5} - \\frac{1}{5}x_1^{(k)} - \\frac{1}{5}x_3^{(k)}\\\\ \n",
    "x_3^{(k+1)} = \\frac{8}{10} - \\frac{2}{10}x_1^{(k)} - \\frac{3}{10}x_2^{(k)}\\\\ \n",
    "\\end{cases} \n",
    "$$"
   ]
  },
  {
   "cell_type": "markdown",
   "id": "d0496223",
   "metadata": {},
   "source": [
    "A partir da primeira iteração, $k=0$, $x^{(0)}=(x_1^{(0)},x_2^{(0)},x_3^{(0)})^T=(0,0,0)^T$obtem-se:\n",
    "\n",
    "$x_1^{(1)}=\\frac{14}{10}-\\frac{2}{10}x_2^{(0)}-\\frac{1}{10}x_3^{(0)}=\\frac{14}{10}-\\frac{2}{10}(0)-\\frac{1}{10}(0)=1,4$\n",
    "\n",
    "\n",
    "$x_2^{(1)}= \\frac{11}{5}-\\frac{1}{5}x_1^{(0)}-\\frac{1}{5}x_3^{(0)}= \\frac{11}{5}-\\frac{1}{5}(0)-\\frac{1}{5}(0)=2,2$\n",
    "\n",
    "\n",
    "$x_3^{(1)}=\\frac{8}{10}-\\frac{2}{10}x_1^{(0)}-\\frac{3}{10}x_2^{(0)}=\\frac{8}{10}-\\frac{2}{10}(0)-\\frac{3}{10}(0)=0,8$"
   ]
  },
  {
   "cell_type": "markdown",
   "id": "ab308eca-49ee-4b18-8f5e-1379d4b17b26",
   "metadata": {},
   "source": [
    "Para $k=0$ e tomando $x^{(0)}=(0,0,0)^t$, temos $x^{(1)}=(1,4;2,2;0,8)^t$\n",
    "Teste de parada: $\\frac{\\left\\|x^{(1)}-x^{(0)}\\right\\|_{\\infty}}{\\left\\|x^{(1)}\\right\\|_{\\infty}}=1>\\varepsilon$"
   ]
  },
  {
   "cell_type": "markdown",
   "id": "8b7f75a3-4b94-4d0e-9ddc-fbe45e17471f",
   "metadata": {},
   "source": [
    "Para $k=1$, temos:\n",
    "\n",
    "$x_1^{(2)}=\\frac{14}{10}-\\frac{2}{10} x_2^{(1)}-\\frac{1}{10} x_3^{(1)}=\\frac{14}{10}-\\frac{2}{10} (2,2)-\\frac{1}{10} (0,8)=0,88$\n",
    "\n",
    "$x_2^{(2)}=\\frac{11}{5}-\\frac{1}{5} x_1^{(1)}-\\frac{1}{5} x_3^{(1)} = \\frac{11}{5}-\\frac{1}{5} (1,4)-\\frac{1}{5} (0,8) =1,76$\n",
    "\n",
    "$x_3^{(2)}=\\frac{8}{10}-\\frac{2}{10} x_1^{(1)}-\\frac{3}{10} x_2^{(1)}=\\frac{8}{10}-\\frac{2}{10} (1,4)-\\frac{3}{10} (2,2)=-0,14$\n",
    "\n",
    "\n",
    "Portanto,\n",
    "\n",
    "$$\n",
    "x^{(2)}=(0,8800;1,7600;-0,1400)^t, \\quad \\frac{\\left\\|x^{(2)}-x^{(1)}\\right\\|_{\\infty}}{\\left\\|x^{(2)}\\right\\|_{\\infty}}=0,5341>\\varepsilon\n",
    "$$\n"
   ]
  },
  {
   "cell_type": "markdown",
   "id": "3ab98cec-4ec9-4d0f-961a-243755d5a797",
   "metadata": {},
   "source": [
    "Assim, sucessivamente, calculamos $x^{(3)}$, $x^{(4)}$, $x^{(5)}$, $\\dots$, até que o critério de parada seja satisfeito em\n",
    "\n",
    "$$x^{(6)}=(0,9967;1,9955;-0,0047)^t$$\n",
    "\n",
    "em que\n",
    "\n",
    "$$ \\frac{\\left\\|x^{(6)}-x^{(5)}\\right\\|_{\\infty}}{\\left\\|x^{(6)}\\right\\|_{\\infty}}=0,0091<\\varepsilon$$"
   ]
  },
  {
   "cell_type": "markdown",
   "id": "5e06da4e",
   "metadata": {},
   "source": [
    "Em python podemos fazer como é mostrado a seguir"
   ]
  },
  {
   "cell_type": "code",
   "execution_count": 1,
   "id": "f7c641f5",
   "metadata": {},
   "outputs": [],
   "source": [
    "import numpy as np"
   ]
  },
  {
   "cell_type": "code",
   "execution_count": 2,
   "id": "6b84f518",
   "metadata": {},
   "outputs": [],
   "source": [
    "# Dados iniciais\n",
    "x = np.array([0.,0.,0.])\n",
    "\n",
    "A =  np.array([[10.,2.,1.],\n",
    "               [1.,5.,1.],\n",
    "               [2.,3.,10.]])\n",
    "b = np.array([14.,11.,8.])"
   ]
  },
  {
   "cell_type": "code",
   "execution_count": 3,
   "id": "7d54cc5a",
   "metadata": {},
   "outputs": [],
   "source": [
    "# função para fazer as iterações\n",
    "def itera(x):\n",
    "    x1 = (b[0] - A[0,1]*x[1] - A[0,2]*x[2])/A[0,0]\n",
    "    x2 = (b[1] - A[1,0]*x[0] - A[1,2]*x[2])/A[1,1]\n",
    "    x3 = (b[2] - A[2,0]*x[0] - A[2,1]*x[1])/A[2,2]\n",
    "    x = np.array([x1, x2, x3])\n",
    "    return x"
   ]
  },
  {
   "cell_type": "code",
   "execution_count": 4,
   "id": "64f47144",
   "metadata": {},
   "outputs": [
    {
     "data": {
      "text/plain": [
       "array([1.4, 2.2, 0.8])"
      ]
     },
     "execution_count": 4,
     "metadata": {},
     "output_type": "execute_result"
    }
   ],
   "source": [
    "x = itera(x)\n",
    "x"
   ]
  },
  {
   "cell_type": "code",
   "execution_count": 5,
   "id": "a5d2be77",
   "metadata": {},
   "outputs": [
    {
     "name": "stdout",
     "output_type": "stream",
     "text": [
      "2 [1.4 2.2 0.8] 1.0\n",
      "3 [ 0.88  1.76 -0.14] 0.5341\n",
      "4 [1.062 2.052 0.096] 0.1423\n",
      "5 [ 0.98    1.9684 -0.028 ] 0.063\n",
      "6 [1.00912 2.0096  0.01348] 0.0206\n",
      "7 [ 0.996732  1.99548  -0.004704] 0.0091\n",
      "Solução: [ 0.9967  1.9955 -0.0047]\n"
     ]
    }
   ],
   "source": [
    "#várias iterações e o erro\n",
    "x = np.array([0.,0.,0.])\n",
    "\n",
    "x_ant = x\n",
    "for i in range(2,8):\n",
    "    x = itera(x)\n",
    "    err = np.max(abs(x-x_ant))/np.max(abs(x))\n",
    "    x_ant = x\n",
    "    print (i, x, np.round(err,4))\n",
    "    \n",
    "print (\"Solução:\", np.round(x,4))"
   ]
  },
  {
   "cell_type": "markdown",
   "id": "f0fb04dd-e5fe-42be-a2e0-f94f8253486d",
   "metadata": {},
   "source": [
    "Uma outra forma de obtermos os mesmo resultados usando a expressão resumida, seria"
   ]
  },
  {
   "cell_type": "code",
   "execution_count": 6,
   "id": "04f4870d-beb6-44f4-b9cd-cbad09fef050",
   "metadata": {},
   "outputs": [
    {
     "name": "stdout",
     "output_type": "stream",
     "text": [
      "[1.4 2.2 0.8]\n",
      "[ 0.88  1.76 -0.14]\n",
      "[1.062 2.052 0.096]\n",
      "[ 0.98    1.9684 -0.028 ]\n",
      "[1.00912 2.0096  0.01348]\n",
      "[ 0.996732  1.99548  -0.004704]\n"
     ]
    }
   ],
   "source": [
    "A = np.array([[10., 2., 1.],[1.,5.,1.],[2.,3.,10.]])\n",
    "b = np.array([14.,11.,8.])\n",
    "x = np.array([0.,0.,0.])\n",
    "n = len(A)\n",
    "\n",
    "xk = np.array([0.,0.,0.])\n",
    "for k in range(6):\n",
    "    for i in range(n):\n",
    "        xk[i] = (b[i]-np.sum(A[i,0:i]*x[:i])-np.sum(A[i,i+1:]*x[i+1:]))/A[i,i]\n",
    "        # a linha acima é equivalente a:\n",
    "        #xk[i] = (b[i]-np.dot(A[i,0:i],x[:i])-np.dot(A[i,i+1:],x[i+1:]))/A[i,i]\n",
    "    print (xk)\n",
    "    x = xk.copy()"
   ]
  },
  {
   "cell_type": "code",
   "execution_count": 7,
   "id": "677a19d6-4ebc-4365-b362-11bde9a415d8",
   "metadata": {},
   "outputs": [
    {
     "name": "stdout",
     "output_type": "stream",
     "text": [
      "Solução: [ 0.9967  1.9955 -0.0047]\n"
     ]
    }
   ],
   "source": [
    "print (\"Solução:\", np.round(x,4))"
   ]
  },
  {
   "cell_type": "markdown",
   "id": "26f52531",
   "metadata": {},
   "source": [
    "Resolvendo novamente, mas agora usando operações matriciais"
   ]
  },
  {
   "cell_type": "code",
   "execution_count": 8,
   "id": "d69e8936",
   "metadata": {},
   "outputs": [
    {
     "name": "stdout",
     "output_type": "stream",
     "text": [
      "H = [[ 0.  -0.2 -0.1]\n",
      " [-0.2  0.  -0.2]\n",
      " [-0.2 -0.3  0. ]]\n",
      "g = [1.4 2.2 0.8]\n"
     ]
    }
   ],
   "source": [
    "#Calculando a matriz H\n",
    "H = A.copy()\n",
    "g = b.copy()\n",
    "\n",
    "for i in range(len(A)):\n",
    "    H[i] = -A[i]/A[i,i]\n",
    "    g[i] = b[i]/A[i,i]\n",
    "    \n",
    "H = H + np.identity(len(A))\n",
    "print ('H =', H)\n",
    "print ('g =', g)"
   ]
  },
  {
   "cell_type": "code",
   "execution_count": 9,
   "id": "89e2e79c",
   "metadata": {},
   "outputs": [
    {
     "name": "stdout",
     "output_type": "stream",
     "text": [
      "H = [[ 0.  -0.2 -0.1]\n",
      " [-0.2  0.  -0.2]\n",
      " [-0.2 -0.3  0. ]]\n"
     ]
    }
   ],
   "source": [
    "#ou, alternativamente\n",
    "H = np.eye(len(A))- A/np.diag(A).reshape(3,1)\n",
    "print ('H =', H)"
   ]
  },
  {
   "cell_type": "code",
   "execution_count": 10,
   "id": "1181c95a",
   "metadata": {},
   "outputs": [
    {
     "name": "stdout",
     "output_type": "stream",
     "text": [
      "g = [1.4 2.2 0.8]\n"
     ]
    }
   ],
   "source": [
    "g = b/np.diag(A)\n",
    "print ('g =', g)"
   ]
  },
  {
   "cell_type": "code",
   "execution_count": 11,
   "id": "66286924",
   "metadata": {},
   "outputs": [
    {
     "name": "stdout",
     "output_type": "stream",
     "text": [
      "Norma: 0.5\n"
     ]
    }
   ],
   "source": [
    "# verificando a convergẽncia com a norma inf \n",
    "norma_inf = np.sum(abs(H), axis=1).max()\n",
    "print ('Norma:', norma_inf)"
   ]
  },
  {
   "cell_type": "code",
   "execution_count": 12,
   "id": "1f9143e5",
   "metadata": {},
   "outputs": [],
   "source": [
    "x = np.array([0,0,0])"
   ]
  },
  {
   "cell_type": "code",
   "execution_count": 13,
   "id": "c35ba72b",
   "metadata": {},
   "outputs": [
    {
     "data": {
      "text/plain": [
       "array([1.4, 2.2, 0.8])"
      ]
     },
     "execution_count": 13,
     "metadata": {},
     "output_type": "execute_result"
    }
   ],
   "source": [
    "x = H@x+g\n",
    "x"
   ]
  },
  {
   "cell_type": "code",
   "execution_count": 14,
   "id": "1515ec90",
   "metadata": {},
   "outputs": [
    {
     "name": "stdout",
     "output_type": "stream",
     "text": [
      "Iterações:\n",
      "[1.4 2.2 0.8] , Err= 1.0\n",
      "[ 0.88  1.76 -0.14] , Err= 0.25\n",
      "[1.062 2.052 0.096] , Err= 0.1423\n",
      "[ 0.98    1.9684 -0.028 ] , Err= 0.04166\n",
      "[1.0091 2.0096 0.0135] , Err= 0.02064\n",
      "[ 0.9967  1.9955 -0.0047] , Err= 0.00621\n"
     ]
    }
   ],
   "source": [
    "# fazendo as iterações\n",
    "err = 1\n",
    "x = np.array([0,0,0])\n",
    "x_ant = x\n",
    "\n",
    "print ('Iterações:')\n",
    "while err>0.01:\n",
    "    x = np.dot(H,x)+g\n",
    "    err = abs(max(x-x_ant)/max(x))\n",
    "    x_ant = x   \n",
    "    print(np.round(x, 4), \", Err=\", np.round(err,5))"
   ]
  },
  {
   "cell_type": "markdown",
   "id": "d24c6c61",
   "metadata": {},
   "source": [
    "**Atividade 1:** Use o método de Jacobi-Richardson, se possível, para achar a solução do sistema linear dado no Exercício 1, na última seção. "
   ]
  },
  {
   "cell_type": "markdown",
   "id": "d926754a",
   "metadata": {},
   "source": [
    "#### Método iterativo de Gaus-Seidel\n",
    "\n",
    "Considere um sistema  de equações lineares $Ax = b$ em que $det(A) \\neq 0$, com a diagonal principal $a_{ii} \\neq 0$, $i=1,...,n$ como segue\n",
    "\n",
    "$$ \\begin{cases} \n",
    "\t         a_{11}x_1 +a_{12}x_2 + \\cdots + a_{1n}x_n = b_1\\\\ \n",
    "\t         a_{21}x_1 +a_{22}x_2 + \\cdots + a_{2n}x_n = b_2\\\\\n",
    "\t         \\vdots   \\\\\n",
    "\t         a_{n1}x_1 +a_{n2}x_2 + \\cdots + a_{nn}x_n = b_1\\\\\n",
    "             \\end{cases} $$\n",
    "\n",
    "Dividindo cada linha do sistema dado pelo elemento da diagonal e isolando $x_1$ na $1^a$ equação, $x_2$ na $2^a$ equação até $x_n$ na n-ésima equação, temos o sistema escrito na forma equivalente:\n",
    "\n",
    "$$ \\begin{cases} \n",
    "\t         x_1 = \\frac{1}{a_{11}} \\left(b_1  - a_{12}x_2 - a_{13}x_3 - \\cdots - a_{1n}x_n \\right)\\\\ \n",
    "\t         x_2 = \\frac{1}{a_{22}} \\left(b_2  - a_{21}x_1 - a_{23}x_3 - \\cdots - a_{2n}x_n \\right)\\\\ \n",
    "\t         \\vdots   \\\\\n",
    "\t         x_n = \\frac{1}{a_{nn}} \\left(b_n  - a_{n1}x_1 - a_{n2}x_2 - \\cdots - a_{n \\, n-1}x_{n-1} \\right)\\\\ \n",
    "\\end{cases} $$\n",
    "\n",
    "O método iterativo de Gauss-Seidel é dado da seguinte forma:\n",
    "\n",
    "$$ \\begin{cases} \n",
    "             x_1^{(k+1)} = \\frac{b_1}{a_{11}}  - \\frac{a_{12}}{a_{11}}x_2^{(k)} - \\frac{a_{13}}{a_{11}}x_3^{(k)} - \\cdots - \\frac{a_{1n}}{a_{11}}x_n^{(k)} \\\\ \n",
    "\t         x_2^{(k+1)} = \\frac{b_2}{a_{22}}  - \\frac{a_{21}}{a_{22}}x_1^{(k+1)} - \\frac{a_{23}}{a_{22}}x_3^{(k)} - \\cdots - \\frac{a_{1n}}{a_{11}}x_n^{(k)} \\\\ \n",
    "\t         \\vdots   \\\\\n",
    "\t         x_n^{(k+1)} = \\frac{b_n}{a_{nn}}  - \\frac{a_{n1}}{a_{nn}}x_1^{(k+1)} - \\frac{a_{n2}}{a_{nn}}x_3^{(k+1)} - \\cdots - \\frac{a_{n \\, n-1}}{a_{nn}}x_{n-1}^{(k+1)} \\\\\n",
    "\\end{cases} $$\n"
   ]
  },
  {
   "cell_type": "markdown",
   "id": "52fc0a5c",
   "metadata": {},
   "source": [
    "De forma geral, o método de Gauss-Seidel pode ser resumido como:\n",
    "\n",
    "$$ x_i^{(k+1)} = \\frac{1}{a_{ii}} \\left(b_i - \\sum_{j=1}^{i-1} a_{ij}x_j^{(k+1)} -\\sum_{j=i+1}^{n} a_{ij}x_j^{(k)} \\right) \\,\\,\\,\\,\\,\\, i=1,...,n$$\n",
    "\n",
    "ou ainda, de forma equivalente:\n",
    "\n",
    "$$ x_i^{(k+1)} = g_i - \\sum_{j=1}^{i-1} h_{ij}x_j^{(k+1)} -\\sum_{j=i+1}^{n} h_{ij}x_j^{(k)} \\,\\,\\,\\,\\,\\, i=1,...,n$$\n",
    "\n",
    "em que $g_i=\\frac{b_i}{a_{ii}}$ e $h_{ij}=\\frac{a_{ij}}{a_{ii}}$, $i=1,...,n$. "
   ]
  },
  {
   "cell_type": "markdown",
   "id": "ccc9562c",
   "metadata": {},
   "source": [
    "#### Convergência: critério de Sassenfield\n",
    "Sejam as constantes $\\beta_i$ definidas pelas seguintes fórmulas de recorrência:\n",
    "\n",
    "$$\\beta_i = \\sum_{j=1}^{i-1} |h_{ij}|\\beta_i +\\sum_{j=i+1}^{n} |h_{ij}| \\,\\,\\,\\,\\,\\, i=1,...,n$$\n",
    "\n",
    "e seja\n",
    "\n",
    "$$\\beta = \\max_{1 \\leq i \\leq n}\\ \\beta_i$$\n",
    "\n",
    "Então, se $\\beta < 1$, a sequência $x^{(k)}$, gerada pelo método iterativo de Gauss-Seidel, converge para a solução $x$ do sistema dado.\n",
    "\n",
    "*Prova:* Ver em [Arenales e Darezzo (2016)](https://integrada.minhabiblioteca.com.br/reader/books/9788522112821/pageid/80). "
   ]
  },
  {
   "cell_type": "markdown",
   "id": "e3b8eb0b",
   "metadata": {},
   "source": [
    "**Exemplo 5.2:** Usando o método iterativo de Gauss-Seidel, determine uma solução aproximada para o sistema dado a seguir, com aproximação inicial\n",
    "$x^{(0)} =(x_1^{(0)},x_2^{(0)},x_3^{(0)})^t =(0,0,0)^t$ e precisão $\\epsilon = 0.01$.\n",
    "\n",
    "$$ \\left[\\begin{array}{ccc} \n",
    "10 & 2 & 1\\\\ 1 & 5 & 1\\\\ 2 & 3 & 10\\\\\n",
    "\\end{array} \\right]\n",
    "\\left[\\begin{array}{c} \n",
    "x_1\\\\ x_2\\\\ x_3\\\\\n",
    "\\end{array} \\right]\n",
    "=\n",
    "\\left[\\begin{array}{c} \n",
    "14\\\\ 11\\\\ 8\\\\\n",
    "\\end{array} \\right] $$"
   ]
  },
  {
   "cell_type": "markdown",
   "id": "b97d924b",
   "metadata": {},
   "source": [
    "Construção da matriz H:\n",
    "\n",
    "$$\n",
    "\\mathrm{H}=\\left[\\begin{array}{rrr}\n",
    "0 & -2 / 10 & -1 / 10 \\\\\n",
    "-1 / 5 & 0 & -1 / 5 \\\\\n",
    "-2 / 10 & -3 / 10 & 0\n",
    "\\end{array}\\right]\n",
    "$$\n",
    "\n",
    "\n",
    "Verificando a condição de convergência (critério de Sassenfeld):\n",
    "\n",
    "$$\n",
    "\\begin{aligned}\n",
    "& \\beta_1=\\sum_{j=2}^3\\left|h_{i j}\\right| \\rightarrow \\beta_1=3 / 10=0.3000 \\\\\n",
    "& \\beta_2=\\left|h_{21}\\right| \\beta_1+\\left|h_{23}\\right| \\rightarrow \\beta_2=13 / 50=0.2600 \\\\\n",
    "& \\beta_3=\\left|h_{31}\\right| \\beta_1+\\left|h_{32}\\right| \\beta_2 \\rightarrow \\beta_3=69 / 500=0.1380\n",
    "\\end{aligned}\n",
    "$$\n",
    "\n",
    "\n",
    "Assim,\n",
    "\n",
    "$$\n",
    "\\beta=\\max _{1 \\leq i \\leq 3} \\beta_i=\\operatorname{máx}\\{0.3000,0.2600,0.1380\\}=0.3000<1\n",
    "$$\n",
    "\n",
    "Portanto, temos garantia da convergência da sequência de soluções aproximadas geradas pelo método iterativo de Gauss-Seidel.\n",
    "\n",
    "Vejamos como fazer as contas usando Python."
   ]
  },
  {
   "cell_type": "code",
   "execution_count": 15,
   "id": "df13d511",
   "metadata": {},
   "outputs": [],
   "source": [
    "# Entrando com a matriz a e o vetor b\n",
    "A = np.array([[10.0, 2.0, 1.0],\n",
    "              [ 1.0, 5.0, 1.0],\n",
    "              [ 2.0, 3.0, 10.0]])\n",
    "\n",
    "b = np.array([14., 11., 8.])"
   ]
  },
  {
   "cell_type": "code",
   "execution_count": 16,
   "id": "be0261d0",
   "metadata": {},
   "outputs": [
    {
     "name": "stdout",
     "output_type": "stream",
     "text": [
      "Matriz H:\n",
      "[[ 0.  -0.2 -0.1]\n",
      " [-0.2  0.  -0.2]\n",
      " [-0.2 -0.3  0. ]]\n"
     ]
    }
   ],
   "source": [
    "# obtendo a matriz H\n",
    "H = np.eye(len(A))-(A.T/np.diag(A)).T\n",
    "\n",
    "print ('Matriz H:')\n",
    "print(H)"
   ]
  },
  {
   "cell_type": "code",
   "execution_count": 17,
   "id": "b7222f26",
   "metadata": {},
   "outputs": [
    {
     "name": "stdout",
     "output_type": "stream",
     "text": [
      "Convergência:\n",
      "max{ [0.3, 0.26, 0.138] } = 0.3\n"
     ]
    }
   ],
   "source": [
    "# verificando a convergência \n",
    "beta = []\n",
    "for i in range(len(H)):\n",
    "    bi = np.dot(beta,abs(H[i,0:i]))+ np.sum(abs(H[i,i+1:]))\n",
    "    beta.append(np.round(bi,4))\n",
    "\n",
    "print('Convergência:')\n",
    "print ('max{',beta,'} =',np.array(beta).max())"
   ]
  },
  {
   "cell_type": "code",
   "execution_count": 18,
   "id": "408df2b0",
   "metadata": {},
   "outputs": [
    {
     "name": "stdout",
     "output_type": "stream",
     "text": [
      "1 [ 1.4    1.92  -0.056]\n",
      "2 [ 1.0216  2.0069 -0.0064]\n",
      "3 [ 9.9930e-01  2.0014e+00 -3.0000e-04]\n",
      "4 [0.9997 2.0001 0.    ]\n",
      "Solução: [0.9997 2.0001 0.    ]\n"
     ]
    }
   ],
   "source": [
    "n = len(A)\n",
    "x = np.array([0.,0.,0.])\n",
    "\n",
    "for k in range(1,5):\n",
    "    for i in range(len(A)):\n",
    "        x[i] = (b[i] - np.dot(A[i,0:i],x[0:i])-np.dot(A[i,i+1:n],x[i+1:n]))/A[i,i]\n",
    "    print(k, np.round(x,4))\n",
    "\n",
    "print(\"Solução:\",np.round(x,4))"
   ]
  },
  {
   "cell_type": "markdown",
   "id": "a8532c77",
   "metadata": {},
   "source": [
    "___\n",
    "Na forma matricial, o método de Gauss-Seidel  pode ser escrito como\n",
    "\n",
    "$$\\left[\n",
    "    \\begin{array}{c} \n",
    "\t         x_1^{(k+1)} \\\\ \n",
    "\t         x_2^{(k+1)} \\\\\n",
    "             \\vdots\\\\\n",
    "\t         x_n^{(k+1)} \\\\\n",
    "\t\\end{array} \n",
    "\\right]\n",
    "=\n",
    "\\left[\\begin{array}{ccccc} \n",
    "\t         0                     & 0 & 0 & \\cdots & 0 \\\\ \n",
    "\t         -\\frac{a_{21}}{a_{22}} & 0 & 0 & \\cdots & 0 \\\\\n",
    "\t         \\vdots & \\vdots & \\vdots & \\vdots & \\vdots \\\\\n",
    "\t         -\\frac{a_{n1}}{a_{nn}} & -\\frac{a_{n2}}{a_{nn}} & \\cdots & -\\frac{a_{n \\,n-1}}{a_{nn}} & 0\\\\\n",
    "\t         \\end{array} \\right]\n",
    "             \\left[\n",
    "    \\begin{array}{c} \n",
    "\t         x_1^{(k+1)} \\\\ \n",
    "\t         x_2^{(k+1)} \\\\\n",
    "             \\vdots\\\\\n",
    "\t         x_n^{(k+1)} \\\\\n",
    "\t\\end{array} \n",
    "\\right]\n",
    "+\n",
    "\\left[\\begin{array}{ccccc} \n",
    "\t         0&  -\\frac{a_{12}}{a_{11}}& -\\frac{a_{13}}{a_{11}}& \\cdots &-\\frac{a_{1n}}{a_{11}} \\\\ \n",
    "\t         0& 0& -\\frac{a_{23}}{a_{22}} & \\cdots & -\\frac{a_{2n}}{a_{22}} \\\\\n",
    "\t         \\vdots & \\vdots & \\vdots & \\vdots & \\vdots \\\\\n",
    "\t         0& 0& 0& \\cdots& 0\\\\\n",
    "\t         \\end{array} \\right]\n",
    "\\left[\\begin{array}{c} \n",
    "\t         x_1^{(k)} \\\\ \n",
    "\t         x_2^{(k)} \\\\\n",
    "             \\vdots\\\\\n",
    "\t         x_n^{(k)} \\\\\n",
    "\t\\end{array} \\right]\n",
    "+\n",
    "\\left[ \\begin{array}{c} \n",
    "\t         \\frac{b_1}{a_{11}} \\\\ \n",
    "\t         \\frac{b_2}{a_{22}} \\\\\n",
    "             \\vdots\\\\\n",
    "\t         \\frac{b_n}{a_{nn}} \\\\\n",
    "\t\\end{array} \\right]$$\n"
   ]
  },
  {
   "cell_type": "markdown",
   "id": "b18fc163",
   "metadata": {},
   "source": [
    "ou \n",
    "$$ x^{(k+1)} = P x^{(k+1)} + Q x^{(k)} + g$$\n",
    "\n",
    "$$ (I-P)x^{(k+1)} = Q x^{(k)} + g$$\n",
    "\n",
    "$$ x^{(k+1)} = (I-P)^{-1}Q x^{(k)} + (I-P)^{-1}g$$\n",
    "\n",
    "Fazendo-se $H = (I-P)^{-1}Q$ e $g' =(I-P)^{-1}g$ o processo iterativo torna-se\n",
    "\n",
    "$$x^{(k+1)} = H x^{(k)} + g'$$"
   ]
  },
  {
   "cell_type": "markdown",
   "id": "1bfd38e0-c8db-460c-ad8b-baa39b1c9c38",
   "metadata": {},
   "source": [
    "**Exemplo 5.3:** Vamos resolver o Exemplo 5.2 usando Gauss-Seidel na forma matricial"
   ]
  },
  {
   "cell_type": "code",
   "execution_count": 19,
   "id": "872285cd",
   "metadata": {},
   "outputs": [
    {
     "name": "stdout",
     "output_type": "stream",
     "text": [
      "[ 1.4    1.92  -0.056]\n",
      "[ 1.0216  2.0069 -0.0064]\n",
      "[ 9.9930e-01  2.0014e+00 -3.0000e-04]\n",
      "[0.9997 2.0001 0.    ]\n"
     ]
    }
   ],
   "source": [
    "from numpy.linalg import inv\n",
    "\n",
    "x = np.array([0.,0.,0.])\n",
    "\n",
    "eps = 0.001\n",
    "# Entrando com a matriz a e o vetor b\n",
    "A = np.array([[10.0, 2.0, 1.0],\n",
    "              [ 1.0, 5.0, 1.0],\n",
    "              [ 2.0, 3.0, 10.0]])\n",
    "\n",
    "b = np.array([14., 11., 8.])\n",
    "\n",
    "n = len(A)\n",
    "P = np.zeros((n,n))\n",
    "Q = np.zeros((n,n))\n",
    "g = np.zeros(n)\n",
    "\n",
    "\n",
    "for i in range(n):\n",
    "    P[i,0:i] = -A[i,0:i]/A[i,i]\n",
    "    Q[i,i+1:n] = -A[i,i+1:n]/A[i,i]\n",
    "    g[i] = b[i]/A[i,i] \n",
    "    \n",
    "I = np.eye(n)\n",
    "H = np.dot(inv(I-P),Q)\n",
    "g = np.dot(inv(I-P),g)\n",
    "\n",
    "\n",
    "for k in range(4):\n",
    "    x = np.dot(H,x) + g\n",
    "    \n",
    "    print (np.round(x,4))"
   ]
  },
  {
   "cell_type": "markdown",
   "id": "9fcc470e",
   "metadata": {},
   "source": [
    "Ou, de um modo mais esperto..."
   ]
  },
  {
   "cell_type": "code",
   "execution_count": 20,
   "id": "82fbeb85",
   "metadata": {},
   "outputs": [
    {
     "data": {
      "text/plain": [
       "array([[0.   , 0.   , 0.   ],\n",
       "       [0.   , 0.04 , 0.   ],\n",
       "       [0.   , 0.028, 0.074]])"
      ]
     },
     "execution_count": 20,
     "metadata": {},
     "output_type": "execute_result"
    }
   ],
   "source": [
    "P = np.tril(H)\n",
    "P"
   ]
  },
  {
   "cell_type": "code",
   "execution_count": 21,
   "id": "572357ec",
   "metadata": {},
   "outputs": [
    {
     "data": {
      "text/plain": [
       "array([[ 0.   , -0.2  , -0.1  ],\n",
       "       [ 0.   ,  0.04 , -0.18 ],\n",
       "       [ 0.   ,  0.   ,  0.074]])"
      ]
     },
     "execution_count": 21,
     "metadata": {},
     "output_type": "execute_result"
    }
   ],
   "source": [
    "Q = np.triu(H)\n",
    "Q"
   ]
  },
  {
   "cell_type": "code",
   "execution_count": 22,
   "id": "e17aab40",
   "metadata": {},
   "outputs": [],
   "source": [
    "Hl = np.linalg.inv(np.eye(len(H))-P)@Q\n",
    "gl = np.linalg.inv(np.eye(len(H))-P)@g"
   ]
  },
  {
   "cell_type": "code",
   "execution_count": 23,
   "id": "af68b3f3",
   "metadata": {},
   "outputs": [
    {
     "name": "stdout",
     "output_type": "stream",
     "text": [
      "Iterações:\n",
      "[ 1.4  2.  -0. ] , Err= 1.0\n",
      "[1.     2.0833 0.0025] , Err= 0.04\n",
      "[0.9831 2.0863 0.0028] , Err= 0.00144\n",
      "[0.9825 2.0864 0.0028] , Err= 3e-05\n"
     ]
    }
   ],
   "source": [
    "# fazendo as iterações\n",
    "err = 1\n",
    "x = np.array([0,0,0])\n",
    "x_ant = x\n",
    "\n",
    "print ('Iterações:')\n",
    "while err>0.001:\n",
    "    x = (Hl@x)+gl\n",
    "    err = abs(max(x-x_ant)/max(x))\n",
    "    x_ant = x   \n",
    "    print(np.round(x, 4), \", Err=\", np.round(err,5))"
   ]
  },
  {
   "cell_type": "markdown",
   "id": "e8ddb908",
   "metadata": {},
   "source": [
    "### Exercícios \n",
    "\n",
    "**1.** Usando algum método iterativo, determine uma solução aproximada para os sistemas dados, com aproximação inicial\n",
    "$x^{(0)} =(0,0,...,0)^t$ e 10 iterações.\n",
    "\n",
    "a)\n",
    "$\\left[\\begin{array}{ccccc} \n",
    "5 & 1 & 2 & 1 & -1\\\\ \n",
    "0&6&1&1&-1\\\\ \n",
    "0&1&-3&2&1\\\\\n",
    "3&0&2&7&0\\\\\n",
    "1&1&0&0&8\\\\\n",
    "\\end{array} \\right]\n",
    "\\left[\\begin{array}{c} \n",
    "x_1\\\\ x_2\\\\ x_3\\\\x_4\\\\x_5\\\\\n",
    "\\end{array} \\right]\n",
    "=\\left[\\begin{array}{c} \n",
    "1\\\\ 2\\\\ 0\\\\2\\\\1\\\\\n",
    "\\end{array} \\right] \\quad \\quad$\n",
    "b)\n",
    "$\\begin{aligned} \n",
    "4 x_1+x_2+x_3+\\quad x_5 & =6, \\\\ \n",
    "-x_1-3 x_2+x_3+x_4 & =6, \\\\ \n",
    "2 x_1+x_2+5 x_3-x_4-x_5 & =6, \\\\ \n",
    "-x_1-x_2-x_3+4 x_4 & =6, \\\\ \n",
    "2 x_2-x_3+x_4+4 x_5 & =6\\end{aligned} \\quad \\quad$\n",
    "c)\n",
    "$\\begin{array}{rlr}\n",
    "4 x_1-x_2 & =0, \\\\ \n",
    "-x_1+4 x_2-x_3 & =5, \\\\ \n",
    "-x_2+4 x_3 & =0, \\\\ \n",
    "+4 x_4-x_5 & =6, \\\\ \n",
    "-x_4+4 x_5-x_6= & -2, \\\\ \n",
    "-x_5+4 x_6 & =6 .\n",
    "\\end{array}$"
   ]
  },
  {
   "cell_type": "code",
   "execution_count": null,
   "id": "5ceb21eb-cdd1-4ecb-b650-4ee89258135f",
   "metadata": {},
   "outputs": [],
   "source": []
  },
  {
   "cell_type": "markdown",
   "id": "6eb44ca4-81e5-4d63-8480-6f1ebd9f85b9",
   "metadata": {},
   "source": [
    "**2.** ([Burden et al, 2016, p.505](https://integrada.minhabiblioteca.com.br/reader/books/9788522123414/pageid/521)) Use a técnica iterativa de Gauss-Seidel para encontrar soluções aproximadas de\n",
    "\n",
    "$$\n",
    "\\begin{aligned}\n",
    "10 x_1-x_2+2 x_3 & =6, \\\\\n",
    "-x_1+11 x_2-x_3+3 x_4 & =25, \\\\\n",
    "2 x_1-x_2+10 x_3-x_4 & =-11, \\\\\n",
    "3 x_2-x_3+8 x_4 & =15,\n",
    "\\end{aligned}\n",
    "$$\n",
    "\n",
    "começando com $\\mathbf{x}=(0,0,0,0)^t \\mathrm{e}$ iterando até que\n",
    "\n",
    "$$\n",
    "\\frac{\\left\\|\\mathbf{x}^{(k)}-\\mathbf{x}^{(k-1)}\\right\\|_{\\infty}}{\\left\\|\\mathbf{x}^{(k)}\\right\\|_{\\infty}}<10^{-3} .\n",
    "$$"
   ]
  },
  {
   "cell_type": "markdown",
   "id": "d47e68af-3b68-4101-ae12-2fc1ac072c55",
   "metadata": {},
   "source": [
    "**3.** ([Chapra e Canale, 2016, p. 305](https://integrada.minhabiblioteca.com.br/reader/books/9788580555691/pageid/305))\n",
    "\n",
    "Um problema comum na engenharia elétrica envolve a determinação das correntes e tensões em várias posições em circuitos de resistores.\n",
    "\n",
    "Considere o curcuíto mostrado abaixo\n",
    "\n",
    "<img src=\"https://raw.githubusercontent.com/tiagoburiol/MatComp_II/main/imagens/circuito.png\" width=\"400\">\n",
    "A regra de corrente de Kirchhoff aplicada em cada nó do circuito abaixo fornece\n",
    "\n",
    "$$\n",
    "\\begin{aligned}\n",
    "& i_{12}+i_{52}+i_{32}=0 \\\\\n",
    "& i_{65}-i_{52}-i_{54}=0 \\\\\n",
    "& i_{43}-i_{32}=0 \\\\\n",
    "& i_{54}-i_{43}=0\n",
    "\\end{aligned}\n",
    "$$\n",
    "\n",
    "A aplicação da regra de tensão em cada um dos dois laços dá\n",
    "\n",
    "$$\n",
    "\\begin{aligned}\n",
    "& -i_{54} R_{54}-i_{43} R_{43}-i_{32} R_{32}+i_{52} R_{52}=0 \\\\\n",
    "& -i_{65} R_{65}-i_{52} R_{52}-i_{12} R_{12}-200=0\n",
    "\\end{aligned}\n",
    "$$\n",
    "\n",
    "Substituindo o valor das resistências e movendo as constantes para o lado direito, o problema se transforma em resolver o  conjunto de seis equações equações lineares para as seis correntes desconhecidas. \n",
    "\n",
    "Obtenha o sistema e encontre as correntes usando algum método de eliminação.\n"
   ]
  },
  {
   "cell_type": "markdown",
   "id": "e7a3871d-8d06-415a-8075-a120c2f0bf88",
   "metadata": {},
   "source": [
    "**4.** ([Chapra e Canale, 2016, p. 310](https://integrada.minhabiblioteca.com.br/reader/books/9788580555691/pageid/310))\n",
    "Uma bomba peristáltica produz um escoamento unitário ($Q_i$) de um fluido altamente viscoso. A rede está descrita na figura abaixo. \n",
    "\n",
    "<img src=\"https://raw.githubusercontent.com/tiagoburiol/MatComp_II/main/imagens/bomba_peristaltica.png\" width=\"300\">\n",
    "\n",
    "Cada seção de tubo tem os mesmos comprimento e diâmetro. Os balanços de massa e energia mecânica podem ser simplificados para se obter os escoamentos em cada tubo como solução do sistema de equações \n",
    "\n",
    "$$\n",
    "\\begin{aligned}\n",
    "&\\begin{aligned}\n",
    "& Q_3+2 Q_4-2 Q_2=0 \\\\\n",
    "& Q_5+2 Q_6-2 Q_4=0\\\\\n",
    "& 3 Q_7-2 Q_6=0\n",
    "\\end{aligned}\\\\\n",
    "&\\begin{aligned}\n",
    "& Q_1=Q_2+Q_3 \\\\\n",
    "& Q_3=Q_4+Q_5 \\\\\n",
    "& Q_5=Q_6+Q_7\n",
    "\\end{aligned}\n",
    "\\end{aligned}\n",
    "$$\n",
    "\n",
    "Resolva o sistema para obter o escoamento de cada corrente."
   ]
  },
  {
   "cell_type": "markdown",
   "id": "a5774a84",
   "metadata": {},
   "source": [
    "### Referências\n",
    "\n",
    "ARENALES, Selma; DAREZZO, Artur. Cálculo Numérico: aprendizagem com Apoio de Software. 2. ed. Porto Alegre: +A Educação - Cengage Learning Brasil, 2016. \n",
    "\n",
    "BURDEN, Richard L.; FAIRES, J D.; BURDEN, Annette M. Análise Numérica - Tradução da 10ª edição norte-americana. 3. ed. Porto Alegre: +A Educação - Cengage Learning Brasil, 2016. \n",
    "\n",
    "CHAPRA, Steven C.; CANALE, Raymond P. Métodos numéricos para engenharia. 7. ed. Porto Alegre: AMGH, 2016.\n",
    "\n",
    "FRANCO, Neide Bertoldi. Cálculo numérico. São Paulo: Pearson Prentice Hall, 2006. \n",
    "\n",
    "RUGGIERO, M. A. G. e LOPES, V. L. R. Cálculo Numérico: Aspectos Teóricos e Computacionais. 2ª edição. Saraiva, 2016.\n",
    "\n"
   ]
  },
  {
   "cell_type": "code",
   "execution_count": null,
   "id": "0076ec06",
   "metadata": {},
   "outputs": [],
   "source": []
  }
 ],
 "metadata": {
  "kernelspec": {
   "display_name": "Python 3 (ipykernel)",
   "language": "python",
   "name": "python3"
  },
  "language_info": {
   "codemirror_mode": {
    "name": "ipython",
    "version": 3
   },
   "file_extension": ".py",
   "mimetype": "text/x-python",
   "name": "python",
   "nbconvert_exporter": "python",
   "pygments_lexer": "ipython3",
   "version": "3.12.4"
  }
 },
 "nbformat": 4,
 "nbformat_minor": 5
}
