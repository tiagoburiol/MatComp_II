{
 "cells": [
  {
   "cell_type": "markdown",
   "metadata": {},
   "source": [
    "*Contribuição do prof Leonardo Guerini*"
   ]
  },
  {
   "cell_type": "markdown",
   "metadata": {
    "id": "KA3rzHQ2KTdJ"
   },
   "source": [
    "## Funções reais de duas variáveis\n",
    "\n",
    "Uma função real de duas variáveis $f:\\mathbb R^2 \\rightarrow \\mathbb R$ associa a cada elemento $(x,y)$\n",
    "do domínio $D \\in \\mathbb R^2$ a um único elemento de $z \\in \\mathbb R$.\n",
    "\n",
    "<br>\n",
    "\n",
    "Isso significa que a cada **ponto do plano**, associamos uma terceira coordenada $z$, que podemos interpretar como uma **\"altura\"**,\n",
    "\n",
    "$$(x, y)\\mapsto z.$$\n",
    "\n",
    "<br>\n",
    "\n",
    "Há diversas formas de representar graficamente tais funções. Por exemplo, podemos plotar:\n",
    "\n",
    "1. Um **gráfico tridimensional**, dado por pontos $(x,y,z)$ do $\\mathbb R^3$, onde $z = f(x,y)$. Apesar de na maioria das vezes ser a representação mais clara da função, nem sempre é óbvio como construí-la.\n",
    "<br>\n",
    "\n",
    "2. Um gráfico bidimensional, formado por **curvas de nível**, onde cada curva representa um valor constante de $z$. Isto é, fazemos $z=k$ e plotamos o gráfico gerado por $f(x, y) = k$. Isso costuma ser mais simples, pois reduzimos o problema a apenas duas variáveis, o que nos é mais familiar.\n",
    "<br>\n",
    "\n",
    "3. Um **mapa bidimensional de cores**, onde cada os pontos do plano $xy$ são associados a cores que indicam diferentes valores de $z=f(x,y)$.\n",
    "\n",
    "\n",
    "<br><br>\n",
    "\n",
    "***\n",
    "> **O objetivo da aula de hoje é praticarmos a construção de curvas de nível de funções de duas variáveis e a partir delas intuir como é o gráfico tridimensional da função.**\n",
    "\n",
    "***\n",
    "\n",
    "<br><br>\n",
    "\n",
    "***\n",
    "***\n",
    "\n",
    "<br>"
   ]
  },
  {
   "cell_type": "markdown",
   "metadata": {
    "id": "sc2HJvfHd96g"
   },
   "source": [
    "### Exemplo 1\n",
    "\n",
    "Considere a função $z = f(x, y) = 3x-2y+2$\n",
    "\n",
    "Como todas as três variáveis na equação acima aparecem na potência 1, reconhecemos que a equação acima descreve um **plano**."
   ]
  },
  {
   "cell_type": "markdown",
   "metadata": {
    "id": "PWin7AF1_wH9"
   },
   "source": [
    "Uma maneira de esboçar o gráfico de uma função de duas variáveis é determinar suas **curvas de nível**.\n",
    "\n",
    "Vamos considerando planos horizontais, de equação\n",
    "\n",
    "$$\n",
    "z=k,\n",
    "$$\n",
    "\n",
    "onde $k$ é uma constante.\n",
    "\n",
    "<br>\n",
    "\n",
    "O gráfico de $f(x, y) = 3x-2y+2$ intersecta o plano horizontal $z=k$ quando\n",
    "\n",
    "\\begin{align}\n",
    "&k = 3x-2y + 2 \\\\\\\\\n",
    "\\iff\\quad &2y = 3x + 2 - k \\\\\\\\\n",
    "\\iff\\quad &y = \\frac{3}{2}x + \\frac{2-k}{2}.\n",
    "\\end{align}\n",
    "\n",
    "Ou seja, a interseção do gráfico de $f$ com o plano horizontal é sempre uma **reta** com coeficiente angular $\\frac32$ e coeficiente linear dependendo do valor de $k$. Essas retas são as **curvas de nível** de $f$.\n",
    "\n",
    "<br>\n",
    "\n",
    "Vamos plotá-las."
   ]
  },
  {
   "cell_type": "code",
   "execution_count": null,
   "metadata": {
    "id": "5I6io3HJP37Z"
   },
   "outputs": [],
   "source": [
    "import numpy as np\n",
    "import matplotlib.pyplot as plt\n",
    "\n",
    "# comente\n",
    "x = np.linspace(-2, 2, 100)\n",
    "\n",
    "# comente\n",
    "for k in range(-4, 6, 2):\n",
    "    r = lambda x: \n",
    "    #complete com a equação da reta acima (dependente de k)\n",
    "    plt.plot(x, r(x), label='k = %s' % k)\n",
    "\n",
    "plt.axvline(color='black')\n",
    "plt.axhline(color='black')\n",
    "plt.legend()\n",
    "plt.show()\n"
   ]
  },
  {
   "cell_type": "markdown",
   "metadata": {
    "id": "7BJoztWtV2kU"
   },
   "source": [
    "Podemos usar a biblioteca gráfica `matplotlib` para plotar curvas de nível de maneira mais direta, utilizando a própria função de duas variáveis e o comando `plt.contour`."
   ]
  },
  {
   "cell_type": "code",
   "execution_count": null,
   "metadata": {
    "id": "1imr_6vzV7-w"
   },
   "outputs": [],
   "source": [
    "# inicializando uma nova figura\n",
    "fig = plt.figure()\n",
    "\n",
    "# comente\n",
    "x = np.linspace(-5, 5, 100)\n",
    "y = np.linspace(-5, 5, 100)\n",
    "\n",
    "# comente\n",
    "xx, yy = np.meshgrid(x, y)\n",
    "\n",
    "# comente\n",
    "f = lambda x, y: complete com a lei de f\n",
    "\n",
    "# comente\n",
    "zz = f(xx, yy)\n",
    "\n",
    "ax = fig.add_subplot()\n",
    "# comente\n",
    "c = plt.contour(xx, yy, zz, 15, linewidths=0.5, colors='black')\n",
    "# comente\n",
    "plt.clabel(c, inline=2, fontsize=8)\n",
    "plt.xlabel('x')\n",
    "plt.ylabel('y')\n",
    "plt.show()"
   ]
  },
  {
   "cell_type": "markdown",
   "metadata": {
    "id": "ooUCKfn-Y6Xp"
   },
   "source": [
    "Para facilitar o entendimento da figura acima, podemos plotar também um **mapa de cores**, indicando a \"altura\" de cada curva pela sua cor."
   ]
  },
  {
   "cell_type": "code",
   "execution_count": null,
   "metadata": {
    "id": "Eqc-i2GLXHzT"
   },
   "outputs": [],
   "source": [
    "# comente\n",
    "x = np.linspace(-5, 5, 100)\n",
    "y = np.linspace(-5, 5, 100)\n",
    "\n",
    "# comente\n",
    "xx, yy = np.meshgrid(x, y)\n",
    "\n",
    "# comente\n",
    "f = lambda x, y: complete com a lei de f\n",
    "\n",
    "# plotando o mapa de cores\n",
    "ax = fig.add_subplot()\n",
    "plt.contourf(xx, yy, f(xx,yy), 15, cmap=plt.cm.Greens)\n",
    "plt.colorbar()\n",
    "\n",
    "# plotando as curvas de nível\n",
    "ax = fig.add_subplot()\n",
    "c = plt.contour(xx, yy, f(xx, yy), 15, linewidths=0.5, colors='black')\n",
    "# comente\n",
    "plt.clabel(c, inline=2, fontsize=8)\n",
    "\n",
    "plt.xlabel('x')\n",
    "plt.ylabel('y')\n",
    "plt.show()"
   ]
  },
  {
   "cell_type": "markdown",
   "metadata": {
    "id": "hz1P1XqPR6S2"
   },
   "source": [
    "> **Ou seja, à medida que $x$ <u>cresce</u> e $y$ <u>decresce</u>, a coordenada $z$ cresce (os pontos do gráfico \"ficam mais altos\").**\n",
    "\n",
    "<br>\n",
    "\n",
    "Uma maneira de interpretar tridimensionalmente o gráfico acima é imaginar que as retas estão posicionadas a uma \"altura\" $k$. Podemos plotar exatamente isso utilizando os comandos abaixo."
   ]
  },
  {
   "cell_type": "code",
   "execution_count": null,
   "metadata": {
    "id": "D6hQtSSk_VXA"
   },
   "outputs": [],
   "source": [
    "# inicialiando uma nova figura\n",
    "fig = plt.figure(figsize=(10, 20))\n",
    "# plotando eixos tridimensionais\n",
    "ax = plt.axes(projection='3d')\n",
    "\n",
    "x = np.linspace(-2, 2, 100)\n",
    "\n",
    "for k in [-2, 0, 2, 4]:\n",
    "  # comente\n",
    "  y = (3 * x + (2 - k)) / 2\n",
    "  # comente\n",
    "  z = k * np.ones(np.shape(x))\n",
    "  # comente\n",
    "  ax.plot3D(x, y, z, label='z = %s' % k)\n",
    "\n",
    "# comente\n",
    "ax.view_init(10, -60)\n",
    "plt.xlabel('x')\n",
    "plt.ylabel('y')\n",
    "plt.legend()\n",
    "plt.show()"
   ]
  },
  {
   "cell_type": "markdown",
   "metadata": {
    "id": "xKMsE3UAdvOp"
   },
   "source": [
    "> **As curvas de nível acima servem para guiar nossa intuição sobre a aparência do gráfico de $f$.**\n",
    "\n",
    "<br>\n",
    "\n",
    "Podemos confirmar essa intuição plotando finalmente a superfície e suas projeções com o código abaixo."
   ]
  },
  {
   "cell_type": "code",
   "execution_count": null,
   "metadata": {
    "id": "xjUNoXA8fOMK"
   },
   "outputs": [],
   "source": [
    "from mpl_toolkits.mplot3d import axes3d\n",
    "\n",
    "ax = plt.figure(figsize=(10, 20)).add_subplot(projection='3d')\n",
    "\n",
    "x = np.linspace(-2, 2, 100)\n",
    "y = np.linspace(-2, 2, 100)\n",
    "xx, yy = np.meshgrid(x, y)\n",
    "\n",
    "f = lambda x, y: complete com a lei de f\n",
    "\n",
    "zz = f(xx, yy)\n",
    "\n",
    "# plotando a superfície 3D\n",
    "ax.plot_surface(xx, yy, zz, edgecolor='royalblue', lw=0.5, rstride=8, cstride=8,\n",
    "                alpha=0.3)\n",
    "\n",
    "# plotando as projeções da superfície em cada direção - os valores de offset\n",
    "# coincidir com os limites dados para cada eixo para que as projeções apareçam\n",
    "# nas \"paredes\"\n",
    "ax.contour(xx, yy, zz, zdir='z', offset=-10, cmap='coolwarm')\n",
    "ax.contour(xx, yy, zz, zdir='x', offset=-4, cmap='coolwarm')\n",
    "ax.contour(xx, yy, zz, zdir='y', offset=4, cmap='coolwarm')\n",
    "# limites de cada eixo\n",
    "ax.set(xlim=(-4, 4), ylim=(-4, 4), zlim=(-10, 12),\n",
    "       xlabel='x', ylabel='y', label='y')\n",
    "\n",
    "ax.view_init(10, -60)\n",
    "plt.show()"
   ]
  },
  {
   "cell_type": "markdown",
   "metadata": {
    "id": "y16386sUm51i"
   },
   "source": [
    "<br><br>\n",
    "\n",
    "***\n",
    "\n",
    "<br>\n",
    "\n",
    "## **Exemplo 2: $g(x, y) = x^2 + y^2 + 5$**\n",
    "<br>\n",
    "\n",
    "Vamos começar estudando a função acima pelas suas curvas de nível. Fazendo $g(x, y) = k$, onde $k$ é uma constante fixada, temos\n",
    "\n",
    "$$\\quad \\quad\\ x^2 + y^2 + 5 = k$$\n",
    "\n",
    "$$\\implies x^2 + y^2 = k - 5,$$\n",
    "\n",
    "que é a **equação de um círculo** de raio $\\sqrt{k-5}$. Logo, sempre que $k-5 < 0$, não haverá nenhum ponto satisfazendo essa equação.\n",
    "\n",
    "Vamos plotar as curvas de nível para diferentes valores de $k$."
   ]
  },
  {
   "cell_type": "code",
   "execution_count": null,
   "metadata": {
    "id": "yYXs6C9Fodri"
   },
   "outputs": [],
   "source": [
    "# comente\n",
    "x = np.linspace(-5, 5, 100)\n",
    "y = np.linspace(-5, 5, 100)\n",
    "\n",
    "# comente\n",
    "xx, yy = np.meshgrid(x, y)\n",
    "\n",
    "# comente\n",
    "g = lambda x, y: complete\n",
    "\n",
    "# comente\n",
    "zz = g(xx, yy)\n",
    "\n",
    "# plotando mapa de cores\n",
    "ax = fig.add_subplot()\n",
    "plt.contourf(xx, yy, g(xx,yy), 15, cmap=plt.cm.cool)\n",
    "plt.colorbar()\n",
    "\n",
    "ax = fig.add_subplot()\n",
    "# plota curvas de nível\n",
    "c = plt.contour(xx, yy, g(xx, yy), 15, linewidths=0.5, colors='black')\n",
    "# plota curvas de nível\n",
    "plt.clabel(c, inline=2, fontsize=8)\n",
    "plt.xlabel('x')\n",
    "plt.ylabel('y')\n",
    "plt.show()"
   ]
  },
  {
   "cell_type": "markdown",
   "metadata": {
    "id": "NabMAhD5ouj0"
   },
   "source": [
    "> **Vemos que as curvas de nível são todas círculos, cujo raio cresce cada vez mais devagar à medida que a altura aumenta.**\n",
    "\n",
    "<br>\n",
    "\n",
    "Vamos plotar essas curvas tridimensionalmente. Para definir $y$ em função de $x$ através da equação\n",
    "\n",
    "$$x^2+y^2=k-5,$$\n",
    "\n",
    "precisamos definir duas funções\n",
    "\n",
    "$$y_1 = \\sqrt{k-5-x^2},$$\n",
    "$$y_2 = -\\sqrt{k-5-x^2}.$$"
   ]
  },
  {
   "cell_type": "code",
   "execution_count": null,
   "metadata": {
    "id": "eLN_1XEAodw5"
   },
   "outputs": [],
   "source": [
    "# inicialiando uma nova figura\n",
    "fig = plt.figure(figsize=(10, 20))\n",
    "# plotando eixos tridimensionais\n",
    "ax = plt.axes(projection='3d')\n",
    "\n",
    "for k in [5.01, 6, 7, 8, 9, 10]:\n",
    "  # comente\n",
    "  x = np.linspace(-np.sqrt(k - 5), np.sqrt(k - 5), 200)\n",
    "  y1 = complete com a lei de y1\n",
    "  y2 = complete com a lei de y2\n",
    "  # comente\n",
    "  z = k * np.ones(np.shape(x))\n",
    "  # comente\n",
    "  ax.plot3D(x, y1, z)\n",
    "  ax.plot3D(x, y2, z)\n",
    "\n",
    "# comente\n",
    "ax.view_init(10, -60)\n",
    "plt.xlabel('x')\n",
    "plt.ylabel('y')\n",
    "plt.show()"
   ]
  },
  {
   "cell_type": "markdown",
   "metadata": {
    "id": "0I7H_v96BqEL"
   },
   "source": [
    "Finalmente, plotamos a superfície e suas projeções:"
   ]
  },
  {
   "cell_type": "code",
   "execution_count": null,
   "metadata": {
    "id": "CvuDxIL6odzi"
   },
   "outputs": [],
   "source": [
    "ax = plt.figure(figsize=(10, 20)).add_subplot(projection='3d')\n",
    "\n",
    "x = np.linspace(-5, 5, 100)\n",
    "y = np.linspace(-5, 5, 100)\n",
    "xx, yy = np.meshgrid(x, y)\n",
    "\n",
    "# comente\n",
    "f = lambda x, y: complete\n",
    "\n",
    "# comente\n",
    "zz = f(xx, yy)\n",
    "\n",
    "# plotando a superfície\n",
    "ax.plot_surface(xx, yy, zz, edgecolor='royalblue', lw=0.5, rstride=8, cstride=8,\n",
    "                alpha=0.3)\n",
    "\n",
    "# plotando as projeções da superfície em cada direção - os valores de offset\n",
    "# coincidir com os limites dados para cada eixo para que as projeções apareçam\n",
    "# nas \"paredes\"\n",
    "ax.contour(xx, yy, zz, zdir='z', offset=0, cmap='cool')\n",
    "ax.contour(xx, yy, zz, zdir='x', offset=-8, cmap='cool')\n",
    "ax.contour(xx, yy, zz, zdir='y', offset=8, cmap='cool')\n",
    "# limites de cada eixo\n",
    "ax.set(xlim=(-8, 8), ylim=(-8, 8), zlim=(0, 60),\n",
    "       xlabel='x', ylabel='y', zlabel='y')\n",
    "\n",
    "ax.view_init(10, -60)\n",
    "plt.show()"
   ]
  },
  {
   "cell_type": "markdown",
   "metadata": {
    "id": "VA_IGONvCOTf"
   },
   "source": [
    "Note que **não apenas as interseções com planos horizontais** $z=$ constante são úteis: ao intersectar o gráfico de $f$ com planos do tipo $y=$ constante e $x=$ constante, encontramos **parábolas**, que também ajudam a descrever a superfície\n",
    "\n",
    "Ou seja, se $y=3$, temos\n",
    "\n",
    "$$\\quad \\quad \\quad \\quad \\quad \\ z = x^2 + 3^2 - 5$$\n",
    "$$\\implies \\quad z = x^2 + 4,$$\n",
    "\n",
    "que é a equação de uma parábola que deve ser posicionada no plano $y=3$.\n",
    "\n",
    "<br><br>\n",
    "\n",
    "***\n",
    "\n",
    "<br>\n",
    "\n"
   ]
  },
  {
   "cell_type": "markdown",
   "metadata": {
    "id": "jygi0w0QKTdP"
   },
   "source": [
    "## **Exemplo 3:**\n",
    "<br>\n",
    "\n",
    "Neste exemplo vamos visualizar uma matriz que contém dados em uma grade regular bidimensional de 16x16. Podemos interpretar esses dados como a temperatura de uma chapa metálica aquecida por duas fontes de calor.\n",
    "\n",
    "Nesse caso, o valor da temperatura depende da coordenada $(x,y)$. Vamos plotar esses dados através de curvas de nível."
   ]
  },
  {
   "cell_type": "code",
   "execution_count": null,
   "metadata": {
    "id": "JaqHA0R-KTdQ"
   },
   "outputs": [],
   "source": [
    "T = np.array([\n",
    "[12,13,14,15,16,17,18,22,29,36,43,50,56,61,63,61],\n",
    "[12,12,13,15,16,16,17,22,28,35,42,49,54,59,61,56],\n",
    "[11,12,13,15,16,15,17,21,27,34,40,46,52,56,56,51],\n",
    "[11,12,14,15,15,15,16,19,25,31,38,44,48,52,52,47],\n",
    "[12,12,14,15,14,14,15,18,22,28,35,40,44,47,47,43],\n",
    "[13,14,15,13,13,14,15,16,18,23,30,36,39,41,41,39],\n",
    "[14,15,14,13,12,12,13,14,16,19,26,31,33,34,34,34],\n",
    "[14,15,14,14,13,13,13,13,14,16,21,24,25,25,26,27],\n",
    "[15,15,15,15,15,15,15,14,13,14,17,19,18,17,18,19],\n",
    "[15,16,17,17,16,16,16,16,14,14,15,15,15,16,16,16],\n",
    "[17,20,22,21,19,18,17,17,16,16,16,16,18,20,20,19],\n",
    "[21,25,27,27,24,21,20,19,19,18,19,22,25,28,28,27],\n",
    "[27,31,32,32,29,26,23,21,21,21,22,27,32,35,36,35],\n",
    "[31,35,37,36,34,30,26,24,23,24,26,32,38,42,44,43],\n",
    "[34,38,40,40,38,34,31,28,27,28,32,37,43,48,49,48],\n",
    "[34,38,42,43,42,40,37,34,34,35,39,43,48,52,53,50]],\n",
    "dtype = float)\n",
    "\n",
    "x = np.linspace(0, 15, 16)\n",
    "y = np.linspace(0, 15, 16)\n",
    "xi, yi = np.meshgrid(x, y)\n",
    "\n",
    "fig = plt.figure(figsize=(8, 8))\n",
    "\n",
    "ax = fig.add_subplot()\n",
    "ax.set(aspect='equal')\n",
    "plt.contourf(x, y, T, 20, cmap=plt.cm.coolwarm)\n",
    "plt.colorbar()\n",
    "c = plt.contour(x, y, T, 20, linewidths=0.5, colors='k')\n",
    "plt.clabel(c, inline=2, fontsize=6)\n",
    "plt.show()\n"
   ]
  },
  {
   "cell_type": "markdown",
   "metadata": {
    "id": "VIUUBiW_KTdO"
   },
   "source": [
    "<br><br>\n",
    "\n",
    "***\n",
    "***\n",
    "\n",
    "<br>\n",
    "\n",
    "## Exercício 1:\n",
    "<br>\n",
    "\n",
    "Estude o gráfico da função\n",
    "\n",
    "$$z=h(x,y)=x^2-2y^2,$$\n",
    "\n",
    "para $x\\in[-5, 5]$ e $y\\in[-5, 5]$, conforme os passos abaixo.\n",
    "\n",
    "<br>\n",
    "\n",
    "(a) Determine a equação das curvas bidimensionais $z = f(y)$ obtidas da interseção do gráfico de $h$ com planos do tipo $x=k$:\n",
    "\n",
    "$$\n",
    "z = complete.\n",
    "$$"
   ]
  },
  {
   "cell_type": "markdown",
   "metadata": {
    "id": "aVO80UdkSmEn"
   },
   "source": [
    "<br>\n",
    "\n",
    "(b) Plote as curvas acima em um sistema de coordenadas tridimensional, para alguns valores de $k$."
   ]
  },
  {
   "cell_type": "code",
   "execution_count": null,
   "metadata": {
    "id": "Y4ay7ealSwq_"
   },
   "outputs": [],
   "source": [
    "# resolva"
   ]
  },
  {
   "cell_type": "markdown",
   "metadata": {
    "id": "s32xcCaNSyBx"
   },
   "source": [
    "<br>\n",
    "\n",
    "(c) Determine a equação das curvas bidimensionais $z = f(x)$ obtidas da interseção do gráfico de $h$ com planos do tipo $y=k$:\n",
    "\n",
    "$$\n",
    "z = complete.\n",
    "$$"
   ]
  },
  {
   "cell_type": "markdown",
   "metadata": {
    "id": "GVDejCKVTvnR"
   },
   "source": [
    "<br>\n",
    "\n",
    "(d) Plote as curvas acimas em um sistema de coordenadas tridimensional, para alguns valores de $k$."
   ]
  },
  {
   "cell_type": "code",
   "execution_count": null,
   "metadata": {
    "id": "eCCREEczT7wQ"
   },
   "outputs": [],
   "source": [
    "# resolva"
   ]
  },
  {
   "cell_type": "markdown",
   "metadata": {
    "id": "gnG5lJGUT88Y"
   },
   "source": [
    "<br>\n",
    "\n",
    "(e) Plote o gráfico tridimensional da função $h$ juntamente com suas projeções."
   ]
  },
  {
   "cell_type": "code",
   "execution_count": null,
   "metadata": {
    "id": "NTvWiOJxUNqK"
   },
   "outputs": [],
   "source": [
    "# resolva"
   ]
  },
  {
   "cell_type": "markdown",
   "metadata": {
    "id": "sn1trgk7UtKP"
   },
   "source": [
    "<br><br>\n",
    "\n",
    "***\n",
    "\n",
    "## Exercício 2:\n",
    "<br>\n",
    "\n",
    "Considere a função\n",
    "\n",
    "$$\n",
    "z = l(x, y) = x^2 + 5\\sin(y),\n",
    "$$\n",
    "\n",
    "na região $x\\in[-5, 5]$ e $y\\in[-5, 5]$.\n",
    "\n",
    "<br>\n",
    "\n",
    "(a) Plote no plano tridimensional as curvas bidimensionais $z=f(y)$ dadas pela interseção do gráfico de $l$ com planos do tipo $x=k$, para diferentes valores de $k$."
   ]
  },
  {
   "cell_type": "code",
   "execution_count": null,
   "metadata": {
    "id": "HA8TflwppbwD"
   },
   "outputs": [],
   "source": [
    "# resolva"
   ]
  },
  {
   "cell_type": "markdown",
   "metadata": {
    "id": "DTgsTngqpc_Z"
   },
   "source": [
    "<br>\n",
    "\n",
    "(b) Plote no plano tridimensional as curvas bidimensionais $z=f(x)$ dadas pela interseção do gráfico de $l$ com planos do tipo $y=k$, para diferentes valores de $k$."
   ]
  },
  {
   "cell_type": "code",
   "execution_count": null,
   "metadata": {
    "id": "-S2un5vRppMp"
   },
   "outputs": [],
   "source": []
  },
  {
   "cell_type": "markdown",
   "metadata": {
    "id": "jwY94GPIppo8"
   },
   "source": [
    "<br>\n",
    "\n",
    "(c) Plote o gráfico tridimensional de $l$ com as suas projeções."
   ]
  },
  {
   "cell_type": "code",
   "execution_count": null,
   "metadata": {
    "id": "rcZsby0DKTdP"
   },
   "outputs": [],
   "source": [
    "# resolva"
   ]
  }
 ],
 "metadata": {
  "colab": {
   "provenance": []
  },
  "kernelspec": {
   "display_name": "Python 3",
   "language": "python",
   "name": "python3"
  },
  "language_info": {
   "codemirror_mode": {
    "name": "ipython",
    "version": 3
   },
   "file_extension": ".py",
   "mimetype": "text/x-python",
   "name": "python",
   "nbconvert_exporter": "python",
   "pygments_lexer": "ipython3",
   "version": "3.8.5"
  }
 },
 "nbformat": 4,
 "nbformat_minor": 4
}
